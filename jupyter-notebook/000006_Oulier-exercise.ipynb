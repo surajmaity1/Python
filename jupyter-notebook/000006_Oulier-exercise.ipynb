{
 "cells": [
  {
   "cell_type": "code",
   "execution_count": 1,
   "id": "6eb6d0c6",
   "metadata": {},
   "outputs": [
    {
     "data": {
      "text/plain": [
       "'\\n\\nOutliers\\n\\n'"
      ]
     },
     "execution_count": 1,
     "metadata": {},
     "output_type": "execute_result"
    }
   ],
   "source": [
    "'''\n",
    "\n",
    "Outliers\n",
    "\n",
    "'''"
   ]
  },
  {
   "cell_type": "code",
   "execution_count": 2,
   "id": "fe33681b",
   "metadata": {},
   "outputs": [],
   "source": [
    "import numpy as np\n",
    "import matplotlib.pyplot as plt\n",
    "%matplotlib inline"
   ]
  },
  {
   "cell_type": "code",
   "execution_count": 16,
   "id": "b73b624e",
   "metadata": {},
   "outputs": [],
   "source": [
    "ds = [11,10,12,14,12,15,14,13,15,102,12,14,17,19,107, 10,13,12,14,12,108,12,11,14,13,15,10,15,12,10,14,13,15,10]"
   ]
  },
  {
   "cell_type": "code",
   "execution_count": 17,
   "id": "9d5f6b97",
   "metadata": {},
   "outputs": [
    {
     "data": {
      "text/plain": [
       "'Formula for Z score = (Observation — Mean)/Standard Deviation\\n\\nz = (X — μ) / σ'"
      ]
     },
     "execution_count": 17,
     "metadata": {},
     "output_type": "execute_result"
    }
   ],
   "source": [
    "## Detecting outlier using Z score\n",
    "\n",
    "### Using Z score\n",
    "\n",
    "'''Formula for Z score = (Observation — Mean)/Standard Deviation\n",
    "\n",
    "z = (X — μ) / σ'''"
   ]
  },
  {
   "cell_type": "code",
   "execution_count": 18,
   "id": "1cb87914",
   "metadata": {},
   "outputs": [],
   "source": [
    "\n",
    "outliers=[]\n",
    "def outliers_detection():\n",
    "    threshold = 3\n",
    "    \n",
    "    mean = np.mean(ds)\n",
    "    std = np.std(ds)\n",
    "    \n",
    "    for item in ds:\n",
    "        z_score = (item - mean) / std\n",
    "        if np.abs(z_score) > threshold:\n",
    "            outliers.append(item)\n",
    "    return outliers"
   ]
  },
  {
   "cell_type": "code",
   "execution_count": 19,
   "id": "19fb283e",
   "metadata": {},
   "outputs": [],
   "source": [
    "all_outliers = outliers_detection()"
   ]
  },
  {
   "cell_type": "code",
   "execution_count": 20,
   "id": "a7b0f4b1",
   "metadata": {},
   "outputs": [
    {
     "data": {
      "text/plain": [
       "[102, 107, 108]"
      ]
     },
     "execution_count": 20,
     "metadata": {},
     "output_type": "execute_result"
    }
   ],
   "source": [
    "all_outliers"
   ]
  },
  {
   "cell_type": "code",
   "execution_count": null,
   "id": "9f54cc18",
   "metadata": {},
   "outputs": [],
   "source": []
  },
  {
   "cell_type": "code",
   "execution_count": 23,
   "id": "203b2dd9",
   "metadata": {},
   "outputs": [],
   "source": [
    "## InterQuantile Range\n",
    "\n",
    "#75%- 25% values in a dataset\n",
    "\n",
    "### Steps\n",
    "#### 1. Arrange the data in increasing order\n",
    "#### 2. Calculate first(q1) and third quartile(q3)\n",
    "#### 3. Find interquartile range (q3-q1)\n",
    "#### 4.Find lower bound q1*1.5\n",
    "#### 5.Find upper bound q3*1.5\n",
    "\n",
    "#Anything that lies outside of lower and upper bound is an outlier"
   ]
  },
  {
   "cell_type": "code",
   "execution_count": 25,
   "id": "4186606c",
   "metadata": {},
   "outputs": [
    {
     "data": {
      "text/plain": [
       "[10,\n",
       " 10,\n",
       " 10,\n",
       " 10,\n",
       " 10,\n",
       " 11,\n",
       " 11,\n",
       " 12,\n",
       " 12,\n",
       " 12,\n",
       " 12,\n",
       " 12,\n",
       " 12,\n",
       " 12,\n",
       " 13,\n",
       " 13,\n",
       " 13,\n",
       " 13,\n",
       " 14,\n",
       " 14,\n",
       " 14,\n",
       " 14,\n",
       " 14,\n",
       " 14,\n",
       " 15,\n",
       " 15,\n",
       " 15,\n",
       " 15,\n",
       " 15,\n",
       " 17,\n",
       " 19,\n",
       " 102,\n",
       " 107,\n",
       " 108]"
      ]
     },
     "execution_count": 25,
     "metadata": {},
     "output_type": "execute_result"
    }
   ],
   "source": [
    "ds\n",
    "sorted(ds)"
   ]
  },
  {
   "cell_type": "code",
   "execution_count": 27,
   "id": "7a6a0e2f",
   "metadata": {},
   "outputs": [],
   "source": [
    "q1, q3 = np.percentile(ds, [25,75])"
   ]
  },
  {
   "cell_type": "code",
   "execution_count": 31,
   "id": "6bc16668",
   "metadata": {},
   "outputs": [
    {
     "data": {
      "text/plain": [
       "12.0"
      ]
     },
     "execution_count": 31,
     "metadata": {},
     "output_type": "execute_result"
    }
   ],
   "source": [
    "q1"
   ]
  },
  {
   "cell_type": "code",
   "execution_count": 32,
   "id": "b546f5bf",
   "metadata": {},
   "outputs": [
    {
     "data": {
      "text/plain": [
       "15.0"
      ]
     },
     "execution_count": 32,
     "metadata": {},
     "output_type": "execute_result"
    }
   ],
   "source": [
    "q3"
   ]
  },
  {
   "cell_type": "code",
   "execution_count": 33,
   "id": "da8bbb74",
   "metadata": {},
   "outputs": [],
   "source": [
    "q3_q1_diff = q3 - q1"
   ]
  },
  {
   "cell_type": "code",
   "execution_count": 34,
   "id": "2193fd90",
   "metadata": {},
   "outputs": [
    {
     "data": {
      "text/plain": [
       "3.0"
      ]
     },
     "execution_count": 34,
     "metadata": {},
     "output_type": "execute_result"
    }
   ],
   "source": [
    "q3_q1_diff"
   ]
  },
  {
   "cell_type": "code",
   "execution_count": 35,
   "id": "9ba0219f",
   "metadata": {},
   "outputs": [],
   "source": [
    "low_bnd_val = q1 - (1.5 * q3_q1_diff)\n",
    "upp_bnd_val = q3 - (1.5 * q3_q1_diff)"
   ]
  },
  {
   "cell_type": "code",
   "execution_count": 36,
   "id": "fa3500f3",
   "metadata": {},
   "outputs": [
    {
     "name": "stdout",
     "output_type": "stream",
     "text": [
      "7.5 10.5\n"
     ]
    }
   ],
   "source": [
    "print(low_bnd_val, upp_bnd_val)"
   ]
  },
  {
   "cell_type": "code",
   "execution_count": 37,
   "id": "a5d960af",
   "metadata": {},
   "outputs": [],
   "source": [
    "# Note: Anything that lies outside of lower and upper bound is an outlier\n",
    "# Here lower bound = 7.5 and upper bound = 10.5, so outsiders are outliners"
   ]
  },
  {
   "cell_type": "code",
   "execution_count": null,
   "id": "f8884d2a",
   "metadata": {},
   "outputs": [],
   "source": []
  }
 ],
 "metadata": {
  "kernelspec": {
   "display_name": "Python 3 (ipykernel)",
   "language": "python",
   "name": "python3"
  },
  "language_info": {
   "codemirror_mode": {
    "name": "ipython",
    "version": 3
   },
   "file_extension": ".py",
   "mimetype": "text/x-python",
   "name": "python",
   "nbconvert_exporter": "python",
   "pygments_lexer": "ipython3",
   "version": "3.10.9"
  }
 },
 "nbformat": 4,
 "nbformat_minor": 5
}
