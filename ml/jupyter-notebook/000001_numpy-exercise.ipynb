{
 "cells": [
  {
   "cell_type": "code",
   "execution_count": 1,
   "id": "3ea564c2",
   "metadata": {},
   "outputs": [],
   "source": [
    "import numpy as np"
   ]
  },
  {
   "cell_type": "code",
   "execution_count": 2,
   "id": "2cdce979",
   "metadata": {},
   "outputs": [],
   "source": [
    "list1 = [0,1,2,3,4,5]\n",
    "arr = np.array(list1)"
   ]
  },
  {
   "cell_type": "code",
   "execution_count": 5,
   "id": "2a5399c2",
   "metadata": {},
   "outputs": [
    {
     "name": "stdout",
     "output_type": "stream",
     "text": [
      "<class 'list'>\n",
      "<class 'numpy.ndarray'>\n"
     ]
    }
   ],
   "source": [
    "print(type(list1))   #<class 'list'>\n",
    "print(type(arr))     #<class 'numpy.ndarray'>"
   ]
  },
  {
   "cell_type": "code",
   "execution_count": 9,
   "id": "62fb78c3",
   "metadata": {},
   "outputs": [],
   "source": [
    "row_col = arr.shape # arr.shape will show no of row and no of col like this -> (row, col)"
   ]
  },
  {
   "cell_type": "code",
   "execution_count": 12,
   "id": "cef15946",
   "metadata": {},
   "outputs": [
    {
     "name": "stdout",
     "output_type": "stream",
     "text": [
      "(6,)\n"
     ]
    }
   ],
   "source": [
    "print(row_col) "
   ]
  },
  {
   "cell_type": "code",
   "execution_count": 13,
   "id": "61e3081a",
   "metadata": {},
   "outputs": [],
   "source": [
    "list1 = [0,1,2,3,4,5]\n",
    "list2 = [0,1,2,3,4,5]\n",
    "list3 = [0,1,2,3,4,5]\n",
    "\n",
    "arr = np.array([list1, list2, list3])"
   ]
  },
  {
   "cell_type": "code",
   "execution_count": 14,
   "id": "8d647ad7",
   "metadata": {},
   "outputs": [
    {
     "data": {
      "text/plain": [
       "(3, 6)"
      ]
     },
     "execution_count": 14,
     "metadata": {},
     "output_type": "execute_result"
    }
   ],
   "source": [
    "arr.shape"
   ]
  },
  {
   "cell_type": "code",
   "execution_count": 15,
   "id": "7fcf8dae",
   "metadata": {},
   "outputs": [
    {
     "data": {
      "text/plain": [
       "array([[0, 1, 2, 3, 4, 5],\n",
       "       [0, 1, 2, 3, 4, 5],\n",
       "       [0, 1, 2, 3, 4, 5]])"
      ]
     },
     "execution_count": 15,
     "metadata": {},
     "output_type": "execute_result"
    }
   ],
   "source": [
    "arr"
   ]
  },
  {
   "cell_type": "code",
   "execution_count": 20,
   "id": "b0707094",
   "metadata": {},
   "outputs": [
    {
     "data": {
      "text/plain": [
       "array([[0, 1],\n",
       "       [2, 3],\n",
       "       [4, 5],\n",
       "       [0, 1],\n",
       "       [2, 3],\n",
       "       [4, 5],\n",
       "       [0, 1],\n",
       "       [2, 3],\n",
       "       [4, 5]])"
      ]
     },
     "execution_count": 20,
     "metadata": {},
     "output_type": "execute_result"
    }
   ],
   "source": [
    "# reshape - Returns an array containing the same data with a new shape.\n",
    "arr.reshape(9, 2)"
   ]
  },
  {
   "cell_type": "code",
   "execution_count": null,
   "id": "3b42e904",
   "metadata": {},
   "outputs": [],
   "source": []
  },
  {
   "cell_type": "code",
   "execution_count": 18,
   "id": "32fd16dd",
   "metadata": {},
   "outputs": [
    {
     "data": {
      "text/plain": [
       "array([[0, 1, 2, 3, 4, 5, 0, 1, 2, 3, 4, 5, 0, 1, 2, 3, 4, 5]])"
      ]
     },
     "execution_count": 18,
     "metadata": {},
     "output_type": "execute_result"
    }
   ],
   "source": [
    "# note: if I write at row 1, it will not 1D array, it will be a multi-dimension array\n",
    "arr.reshape(1, 18)"
   ]
  },
  {
   "cell_type": "code",
   "execution_count": 22,
   "id": "61615923",
   "metadata": {},
   "outputs": [
    {
     "data": {
      "text/plain": [
       "(3, 6)"
      ]
     },
     "execution_count": 22,
     "metadata": {},
     "output_type": "execute_result"
    }
   ],
   "source": [
    "arr.shape"
   ]
  },
  {
   "cell_type": "code",
   "execution_count": 23,
   "id": "f428a480",
   "metadata": {},
   "outputs": [],
   "source": [
    "############## INDEX ###################"
   ]
  },
  {
   "cell_type": "code",
   "execution_count": 29,
   "id": "f4011a00",
   "metadata": {},
   "outputs": [],
   "source": [
    "arr = np.array([1,2,3,4,5,6,7,8,9,10,11,12,13,14,15])"
   ]
  },
  {
   "cell_type": "code",
   "execution_count": 30,
   "id": "6a9a4658",
   "metadata": {},
   "outputs": [
    {
     "data": {
      "text/plain": [
       "4"
      ]
     },
     "execution_count": 30,
     "metadata": {},
     "output_type": "execute_result"
    }
   ],
   "source": [
    "arr[3]"
   ]
  },
  {
   "cell_type": "code",
   "execution_count": 31,
   "id": "fc25991e",
   "metadata": {},
   "outputs": [
    {
     "data": {
      "text/plain": [
       "array([ 1,  2,  3,  4,  5,  6,  7,  8,  9, 10, 11, 12, 13, 14, 15])"
      ]
     },
     "execution_count": 31,
     "metadata": {},
     "output_type": "execute_result"
    }
   ],
   "source": [
    "arr"
   ]
  },
  {
   "cell_type": "code",
   "execution_count": 33,
   "id": "998d3839",
   "metadata": {},
   "outputs": [],
   "source": [
    "arr = arr.reshape(3,5)"
   ]
  },
  {
   "cell_type": "code",
   "execution_count": 34,
   "id": "df7bece8",
   "metadata": {},
   "outputs": [
    {
     "data": {
      "text/plain": [
       "array([[ 1,  2,  3,  4,  5],\n",
       "       [ 6,  7,  8,  9, 10],\n",
       "       [11, 12, 13, 14, 15]])"
      ]
     },
     "execution_count": 34,
     "metadata": {},
     "output_type": "execute_result"
    }
   ],
   "source": [
    "arr"
   ]
  },
  {
   "cell_type": "code",
   "execution_count": 35,
   "id": "b938fd99",
   "metadata": {},
   "outputs": [
    {
     "data": {
      "text/plain": [
       "array([[ 1,  2,  3,  4,  5],\n",
       "       [ 6,  7,  8,  9, 10],\n",
       "       [11, 12, 13, 14, 15]])"
      ]
     },
     "execution_count": 35,
     "metadata": {},
     "output_type": "execute_result"
    }
   ],
   "source": [
    "# access all element\n",
    "arr[:,:]"
   ]
  },
  {
   "cell_type": "code",
   "execution_count": 37,
   "id": "9e6f3fa2",
   "metadata": {},
   "outputs": [
    {
     "data": {
      "text/plain": [
       "array([[3, 4],\n",
       "       [8, 9]])"
      ]
     },
     "execution_count": 37,
     "metadata": {},
     "output_type": "execute_result"
    }
   ],
   "source": [
    "arr[0:2,2:4]"
   ]
  },
  {
   "cell_type": "code",
   "execution_count": 40,
   "id": "ad8ccd75",
   "metadata": {},
   "outputs": [
    {
     "data": {
      "text/plain": [
       "array([[ 8,  9],\n",
       "       [13, 14]])"
      ]
     },
     "execution_count": 40,
     "metadata": {},
     "output_type": "execute_result"
    }
   ],
   "source": [
    "arr[1:3, 2:4]"
   ]
  },
  {
   "cell_type": "code",
   "execution_count": 41,
   "id": "21c0a286",
   "metadata": {},
   "outputs": [
    {
     "data": {
      "text/plain": [
       "array([[ 7,  8,  9],\n",
       "       [12, 13, 14]])"
      ]
     },
     "execution_count": 41,
     "metadata": {},
     "output_type": "execute_result"
    }
   ],
   "source": [
    "arr[1:3, 1:4]"
   ]
  },
  {
   "cell_type": "code",
   "execution_count": 50,
   "id": "cb81330d",
   "metadata": {},
   "outputs": [
    {
     "name": "stdout",
     "output_type": "stream",
     "text": [
      "[   1    4    7   10   13   16   19   22   25   28   31   34   37   40\n",
      "   43   46   49   52   55   58   61   64   67   70   73   76   79   82\n",
      "   85   88   91   94   97  100  103  106  109  112  115  118  121  124\n",
      "  127  130  133  136  139  142  145  148  151  154  157  160  163  166\n",
      "  169  172  175  178  181  184  187  190  193  196  199  202  205  208\n",
      "  211  214  217  220  223  226  229  232  235  238  241  244  247  250\n",
      "  253  256  259  262  265  268  271  274  277  280  283  286  289  292\n",
      "  295  298  301  304  307  310  313  316  319  322  325  328  331  334\n",
      "  337  340  343  346  349  352  355  358  361  364  367  370  373  376\n",
      "  379  382  385  388  391  394  397  400  403  406  409  412  415  418\n",
      "  421  424  427  430  433  436  439  442  445  448  451  454  457  460\n",
      "  463  466  469  472  475  478  481  484  487  490  493  496  499  502\n",
      "  505  508  511  514  517  520  523  526  529  532  535  538  541  544\n",
      "  547  550  553  556  559  562  565  568  571  574  577  580  583  586\n",
      "  589  592  595  598  601  604  607  610  613  616  619  622  625  628\n",
      "  631  634  637  640  643  646  649  652  655  658  661  664  667  670\n",
      "  673  676  679  682  685  688  691  694  697  700  703  706  709  712\n",
      "  715  718  721  724  727  730  733  736  739  742  745  748  751  754\n",
      "  757  760  763  766  769  772  775  778  781  784  787  790  793  796\n",
      "  799  802  805  808  811  814  817  820  823  826  829  832  835  838\n",
      "  841  844  847  850  853  856  859  862  865  868  871  874  877  880\n",
      "  883  886  889  892  895  898  901  904  907  910  913  916  919  922\n",
      "  925  928  931  934  937  940  943  946  949  952  955  958  961  964\n",
      "  967  970  973  976  979  982  985  988  991  994  997 1000 1003 1006\n",
      " 1009 1012 1015 1018 1021 1024 1027 1030 1033 1036 1039 1042 1045 1048\n",
      " 1051 1054 1057 1060 1063 1066 1069 1072 1075 1078 1081 1084 1087 1090\n",
      " 1093 1096 1099 1102 1105 1108 1111 1114 1117 1120 1123 1126 1129 1132\n",
      " 1135 1138 1141 1144 1147 1150 1153 1156 1159 1162 1165 1168 1171 1174\n",
      " 1177 1180 1183 1186 1189 1192 1195 1198 1201 1204 1207 1210 1213 1216\n",
      " 1219 1222 1225 1228 1231 1234 1237 1240 1243 1246 1249 1252 1255 1258\n",
      " 1261 1264 1267 1270 1273 1276 1279 1282 1285 1288 1291 1294 1297]\n"
     ]
    }
   ],
   "source": [
    "'''\n",
    "The numpy.arange() function in Python is used to create a sequence of numbers within a specified range.\n",
    "It returns an array with evenly spaced values between a given start and end value, \n",
    "incrementing by a specified step size.\n",
    "\n",
    "'''\n",
    "\n",
    "arr = np.arange(1, 1300, step=3)\n",
    "print(arr)"
   ]
  },
  {
   "cell_type": "code",
   "execution_count": 58,
   "id": "1c67c8a0",
   "metadata": {},
   "outputs": [
    {
     "data": {
      "text/plain": [
       "array([ 1.        ,  1.2278481 ,  1.4556962 ,  1.6835443 ,  1.91139241,\n",
       "        2.13924051,  2.36708861,  2.59493671,  2.82278481,  3.05063291,\n",
       "        3.27848101,  3.50632911,  3.73417722,  3.96202532,  4.18987342,\n",
       "        4.41772152,  4.64556962,  4.87341772,  5.10126582,  5.32911392,\n",
       "        5.55696203,  5.78481013,  6.01265823,  6.24050633,  6.46835443,\n",
       "        6.69620253,  6.92405063,  7.15189873,  7.37974684,  7.60759494,\n",
       "        7.83544304,  8.06329114,  8.29113924,  8.51898734,  8.74683544,\n",
       "        8.97468354,  9.20253165,  9.43037975,  9.65822785,  9.88607595,\n",
       "       10.11392405, 10.34177215, 10.56962025, 10.79746835, 11.02531646,\n",
       "       11.25316456, 11.48101266, 11.70886076, 11.93670886, 12.16455696,\n",
       "       12.39240506, 12.62025316, 12.84810127, 13.07594937, 13.30379747,\n",
       "       13.53164557, 13.75949367, 13.98734177, 14.21518987, 14.44303797,\n",
       "       14.67088608, 14.89873418, 15.12658228, 15.35443038, 15.58227848,\n",
       "       15.81012658, 16.03797468, 16.26582278, 16.49367089, 16.72151899,\n",
       "       16.94936709, 17.17721519, 17.40506329, 17.63291139, 17.86075949,\n",
       "       18.08860759, 18.3164557 , 18.5443038 , 18.7721519 , 19.        ])"
      ]
     },
     "execution_count": 58,
     "metadata": {},
     "output_type": "execute_result"
    }
   ],
   "source": [
    "'''\n",
    "The numpy.linspace() function in Python is used to create an array of evenly spaced values over a specified range. \n",
    "It returns an array with a specified number of elements, \n",
    "evenly distributed between a start and end value.\n",
    "\n",
    "'''\n",
    "np.linspace(1, 19, 80)"
   ]
  },
  {
   "cell_type": "code",
   "execution_count": 69,
   "id": "e9324b3b",
   "metadata": {},
   "outputs": [],
   "source": []
  },
  {
   "cell_type": "raw",
   "id": "3928328d",
   "metadata": {},
   "source": []
  },
  {
   "cell_type": "code",
   "execution_count": 74,
   "id": "56da27db",
   "metadata": {},
   "outputs": [],
   "source": [
    "\n"
   ]
  },
  {
   "cell_type": "code",
   "execution_count": 75,
   "id": "7140cdf0",
   "metadata": {},
   "outputs": [
    {
     "data": {
      "text/plain": [
       "array([0, 1, 2, 3, 4, 5])"
      ]
     },
     "execution_count": 75,
     "metadata": {},
     "output_type": "execute_result"
    }
   ],
   "source": [
    "arr2"
   ]
  },
  {
   "cell_type": "code",
   "execution_count": 73,
   "id": "37636775",
   "metadata": {},
   "outputs": [
    {
     "name": "stdout",
     "output_type": "stream",
     "text": [
      "[1, 2, 3]\n",
      "[1, 5, 3]\n",
      "[2, 3, 4]\n"
     ]
    }
   ],
   "source": [
    "my_list = [1, 2, 3]\n",
    "print(my_list)  # Output: [1, 2, 3]\n",
    "\n",
    "my_list[1] = 5\n",
    "print(my_list)  # Output: [1, 5, 3]\n",
    "my_list = [2,3,4]\n",
    "print(my_list)"
   ]
  },
  {
   "cell_type": "code",
   "execution_count": 82,
   "id": "57d1dab3",
   "metadata": {},
   "outputs": [],
   "source": [
    "list4 = [2,34,45,5,6,456,56,4,34,23,1,212,4]"
   ]
  },
  {
   "cell_type": "code",
   "execution_count": 83,
   "id": "b2f9e571",
   "metadata": {},
   "outputs": [],
   "source": [
    "arr2 = np.array(list4)"
   ]
  },
  {
   "cell_type": "code",
   "execution_count": 84,
   "id": "e097bd99",
   "metadata": {},
   "outputs": [
    {
     "data": {
      "text/plain": [
       "array([  2,  34,  45,   5,   6, 456,  56,   4,  34,  23,   1, 212,   4])"
      ]
     },
     "execution_count": 84,
     "metadata": {},
     "output_type": "execute_result"
    }
   ],
   "source": [
    "arr2"
   ]
  },
  {
   "cell_type": "code",
   "execution_count": 86,
   "id": "789b2453",
   "metadata": {},
   "outputs": [
    {
     "data": {
      "text/plain": [
       "array([2, 3, 4])"
      ]
     },
     "execution_count": 86,
     "metadata": {},
     "output_type": "execute_result"
    }
   ],
   "source": [
    "arr3 = np.array(my_list)\n",
    "arr3"
   ]
  },
  {
   "cell_type": "code",
   "execution_count": 91,
   "id": "a3ffebaf",
   "metadata": {},
   "outputs": [],
   "source": [
    "arr3 = arr"
   ]
  },
  {
   "cell_type": "code",
   "execution_count": 93,
   "id": "971fad57",
   "metadata": {},
   "outputs": [],
   "source": [
    "arr3[2:] = 999\n",
    "\n",
    "############          NOTE         ############\n",
    " \n",
    "# in python, array is reference type,\n",
    "# [i.e if you previously assigned like this arr3 = arr \n",
    "#  and if you change arr3[xyz:] = abcd, it will be changed for both array]"
   ]
  },
  {
   "cell_type": "code",
   "execution_count": 94,
   "id": "de108fe7",
   "metadata": {},
   "outputs": [
    {
     "data": {
      "text/plain": [
       "array([  0,   1, 999, 999, 999, 999])"
      ]
     },
     "execution_count": 94,
     "metadata": {},
     "output_type": "execute_result"
    }
   ],
   "source": [
    "arr3"
   ]
  },
  {
   "cell_type": "code",
   "execution_count": 95,
   "id": "6c5239a6",
   "metadata": {},
   "outputs": [
    {
     "data": {
      "text/plain": [
       "array([  0,   1, 999, 999, 999, 999])"
      ]
     },
     "execution_count": 95,
     "metadata": {},
     "output_type": "execute_result"
    }
   ],
   "source": [
    "arr"
   ]
  },
  {
   "cell_type": "code",
   "execution_count": 97,
   "id": "a2244c92",
   "metadata": {},
   "outputs": [
    {
     "name": "stdout",
     "output_type": "stream",
     "text": [
      "[  0   1 999 999 999 999]\n",
      "[  0   1 999 999 999 999]\n"
     ]
    }
   ],
   "source": [
    "print(arr)\n",
    "print(arr3)"
   ]
  },
  {
   "cell_type": "code",
   "execution_count": 101,
   "id": "06ce8830",
   "metadata": {},
   "outputs": [],
   "source": [
    "arr3 = arr.copy() # array.copy create another memory space. So arr and arr3 referring to diff memory location"
   ]
  },
  {
   "cell_type": "code",
   "execution_count": 102,
   "id": "de1e268c",
   "metadata": {},
   "outputs": [],
   "source": [
    "arr3[1:] = 321"
   ]
  },
  {
   "cell_type": "code",
   "execution_count": 103,
   "id": "fedd77a5",
   "metadata": {},
   "outputs": [
    {
     "name": "stdout",
     "output_type": "stream",
     "text": [
      "[  0   1 999 999 999 999]\n",
      "[  0 321 321 321 321 321]\n"
     ]
    }
   ],
   "source": [
    "print(arr)\n",
    "print(arr3)"
   ]
  },
  {
   "cell_type": "code",
   "execution_count": null,
   "id": "9b6aefb3",
   "metadata": {},
   "outputs": [],
   "source": [
    "\n",
    "\n"
   ]
  },
  {
   "cell_type": "code",
   "execution_count": null,
   "id": "adb13479",
   "metadata": {},
   "outputs": [],
   "source": []
  },
  {
   "cell_type": "code",
   "execution_count": 105,
   "id": "4de7bd6d",
   "metadata": {},
   "outputs": [],
   "source": [
    "#      SOME CONDITION VERY USEFUL IN EXPLORATORY DATA ANALYSIS"
   ]
  },
  {
   "cell_type": "code",
   "execution_count": 113,
   "id": "66b31076",
   "metadata": {},
   "outputs": [
    {
     "name": "stdout",
     "output_type": "stream",
     "text": [
      "[  0   1 999 999 999 999]\n",
      "[ True  True False False False False]\n",
      "[    0    32 31968 31968 31968 31968]\n",
      "[0 1 7 7 7 7]\n",
      "[ 0.       0.03125 31.21875 31.21875 31.21875 31.21875]\n"
     ]
    }
   ],
   "source": [
    "val = 32\n",
    "print(arr)\n",
    "print(arr < val)\n",
    "print(arr * val)\n",
    "print(arr % val)\n",
    "print(arr / val)"
   ]
  },
  {
   "cell_type": "code",
   "execution_count": 114,
   "id": "169b3b12",
   "metadata": {},
   "outputs": [
    {
     "data": {
      "text/plain": [
       "array([999, 999, 999, 999])"
      ]
     },
     "execution_count": 114,
     "metadata": {},
     "output_type": "execute_result"
    }
   ],
   "source": [
    "arr[arr>23]"
   ]
  },
  {
   "cell_type": "code",
   "execution_count": 117,
   "id": "5aeed821",
   "metadata": {},
   "outputs": [
    {
     "data": {
      "text/plain": [
       "array([1, 1, 1, 1])"
      ]
     },
     "execution_count": 117,
     "metadata": {},
     "output_type": "execute_result"
    }
   ],
   "source": [
    "np.ones(4,dtype=int)"
   ]
  },
  {
   "cell_type": "code",
   "execution_count": 119,
   "id": "b8e40080",
   "metadata": {},
   "outputs": [
    {
     "data": {
      "text/plain": [
       "array([[1., 1., 1., 1., 1., 1., 1., 1., 1.],\n",
       "       [1., 1., 1., 1., 1., 1., 1., 1., 1.],\n",
       "       [1., 1., 1., 1., 1., 1., 1., 1., 1.],\n",
       "       [1., 1., 1., 1., 1., 1., 1., 1., 1.]])"
      ]
     },
     "execution_count": 119,
     "metadata": {},
     "output_type": "execute_result"
    }
   ],
   "source": [
    "np.ones((4, 9),dtype=float)"
   ]
  },
  {
   "cell_type": "code",
   "execution_count": 124,
   "id": "eb630c0f",
   "metadata": {},
   "outputs": [
    {
     "data": {
      "text/plain": [
       "array([[0.33832321, 0.38486738, 0.38975765, 0.66569286, 0.67370979],\n",
       "       [0.82267643, 0.70097604, 0.18608622, 0.40731795, 0.66403776],\n",
       "       [0.78146255, 0.82365054, 0.08588964, 0.89869933, 0.7366052 ],\n",
       "       [0.29849558, 0.13387053, 0.91332025, 0.04061144, 0.95539231]])"
      ]
     },
     "execution_count": 124,
     "metadata": {},
     "output_type": "execute_result"
    }
   ],
   "source": [
    "# RANDOM DISTRIBUTING\n",
    "np.random.rand(4, 5)"
   ]
  },
  {
   "cell_type": "code",
   "execution_count": 129,
   "id": "40b57caa",
   "metadata": {},
   "outputs": [
    {
     "data": {
      "text/plain": [
       "array([[ 2.00909088, -0.68508187,  0.35729548,  0.13767198],\n",
       "       [-0.63497125,  0.09538753, -1.01329913,  0.05547266],\n",
       "       [ 1.21462773, -0.70650582, -1.08461263,  0.53088929]])"
      ]
     },
     "execution_count": 129,
     "metadata": {},
     "output_type": "execute_result"
    }
   ],
   "source": [
    "arr4 = np.random.randn(3,4)\n",
    "arr4"
   ]
  },
  {
   "cell_type": "code",
   "execution_count": 131,
   "id": "a90f77ac",
   "metadata": {},
   "outputs": [
    {
     "data": {
      "text/plain": [
       "array([[64, 47, 84, 44, 71, 60, 60, 49],\n",
       "       [85, 96, 87, 86, 89, 89, 46, 92],\n",
       "       [74, 52, 46, 54, 78, 72, 59, 91]])"
      ]
     },
     "execution_count": 131,
     "metadata": {},
     "output_type": "execute_result"
    }
   ],
   "source": [
    "np.random.randint(43, 99, 24).reshape(3,8)"
   ]
  },
  {
   "cell_type": "code",
   "execution_count": 134,
   "id": "79728e0b",
   "metadata": {},
   "outputs": [
    {
     "data": {
      "text/plain": [
       "array([[0.43060531, 0.2529111 , 0.70367929, 0.52261527, 0.06969343,\n",
       "        0.01740135],\n",
       "       [0.63421127, 0.10801462, 0.43518416, 0.26343347, 0.22515548,\n",
       "        0.85135097]])"
      ]
     },
     "execution_count": 134,
     "metadata": {},
     "output_type": "execute_result"
    }
   ],
   "source": [
    "np.random.random_sample((2,6)) # Return random floats in the half-open interval [0.0, 1.0)."
   ]
  },
  {
   "cell_type": "code",
   "execution_count": null,
   "id": "11588f6a",
   "metadata": {},
   "outputs": [],
   "source": []
  }
 ],
 "metadata": {
  "kernelspec": {
   "display_name": "Python 3 (ipykernel)",
   "language": "python",
   "name": "python3"
  },
  "language_info": {
   "codemirror_mode": {
    "name": "ipython",
    "version": 3
   },
   "file_extension": ".py",
   "mimetype": "text/x-python",
   "name": "python",
   "nbconvert_exporter": "python",
   "pygments_lexer": "ipython3",
   "version": "3.10.9"
  }
 },
 "nbformat": 4,
 "nbformat_minor": 5
}
