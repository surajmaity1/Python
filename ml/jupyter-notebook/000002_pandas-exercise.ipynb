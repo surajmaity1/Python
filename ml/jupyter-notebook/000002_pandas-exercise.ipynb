{
 "cells": [
  {
   "cell_type": "code",
   "execution_count": 1,
   "id": "aa389c61",
   "metadata": {},
   "outputs": [],
   "source": [
    "############  PANDAS  ############"
   ]
  },
  {
   "cell_type": "code",
   "execution_count": 2,
   "id": "a24d30df",
   "metadata": {},
   "outputs": [],
   "source": [
    "import numpy as np\n",
    "import pandas as pd\n",
    "from io import StringIO, BytesIO"
   ]
  },
  {
   "cell_type": "code",
   "execution_count": 3,
   "id": "7aefc3de",
   "metadata": {},
   "outputs": [],
   "source": [
    "#dataframe\n",
    "df = pd.DataFrame(np.arange(1,21).reshape(5,4), index=['r1','r2','r3','r4','r5'], columns=['c1','c2','c3','c4'])"
   ]
  },
  {
   "cell_type": "code",
   "execution_count": 4,
   "id": "eaa97c0a",
   "metadata": {},
   "outputs": [
    {
     "data": {
      "text/html": [
       "<div>\n",
       "<style scoped>\n",
       "    .dataframe tbody tr th:only-of-type {\n",
       "        vertical-align: middle;\n",
       "    }\n",
       "\n",
       "    .dataframe tbody tr th {\n",
       "        vertical-align: top;\n",
       "    }\n",
       "\n",
       "    .dataframe thead th {\n",
       "        text-align: right;\n",
       "    }\n",
       "</style>\n",
       "<table border=\"1\" class=\"dataframe\">\n",
       "  <thead>\n",
       "    <tr style=\"text-align: right;\">\n",
       "      <th></th>\n",
       "      <th>c1</th>\n",
       "      <th>c2</th>\n",
       "      <th>c3</th>\n",
       "      <th>c4</th>\n",
       "    </tr>\n",
       "  </thead>\n",
       "  <tbody>\n",
       "    <tr>\n",
       "      <th>r1</th>\n",
       "      <td>1</td>\n",
       "      <td>2</td>\n",
       "      <td>3</td>\n",
       "      <td>4</td>\n",
       "    </tr>\n",
       "    <tr>\n",
       "      <th>r2</th>\n",
       "      <td>5</td>\n",
       "      <td>6</td>\n",
       "      <td>7</td>\n",
       "      <td>8</td>\n",
       "    </tr>\n",
       "    <tr>\n",
       "      <th>r3</th>\n",
       "      <td>9</td>\n",
       "      <td>10</td>\n",
       "      <td>11</td>\n",
       "      <td>12</td>\n",
       "    </tr>\n",
       "    <tr>\n",
       "      <th>r4</th>\n",
       "      <td>13</td>\n",
       "      <td>14</td>\n",
       "      <td>15</td>\n",
       "      <td>16</td>\n",
       "    </tr>\n",
       "    <tr>\n",
       "      <th>r5</th>\n",
       "      <td>17</td>\n",
       "      <td>18</td>\n",
       "      <td>19</td>\n",
       "      <td>20</td>\n",
       "    </tr>\n",
       "  </tbody>\n",
       "</table>\n",
       "</div>"
      ],
      "text/plain": [
       "    c1  c2  c3  c4\n",
       "r1   1   2   3   4\n",
       "r2   5   6   7   8\n",
       "r3   9  10  11  12\n",
       "r4  13  14  15  16\n",
       "r5  17  18  19  20"
      ]
     },
     "execution_count": 4,
     "metadata": {},
     "output_type": "execute_result"
    }
   ],
   "source": [
    "df.head()"
   ]
  },
  {
   "cell_type": "code",
   "execution_count": 5,
   "id": "8ad1ef87",
   "metadata": {},
   "outputs": [],
   "source": [
    "# export data\n",
    "df.to_csv('Demo.csv')"
   ]
  },
  {
   "cell_type": "code",
   "execution_count": 6,
   "id": "9dbc510e",
   "metadata": {},
   "outputs": [
    {
     "data": {
      "text/plain": [
       "c1    1\n",
       "c2    2\n",
       "c3    3\n",
       "c4    4\n",
       "Name: r1, dtype: int32"
      ]
     },
     "execution_count": 6,
     "metadata": {},
     "output_type": "execute_result"
    }
   ],
   "source": [
    "df.loc['r1']"
   ]
  },
  {
   "cell_type": "code",
   "execution_count": 7,
   "id": "d0ef152c",
   "metadata": {},
   "outputs": [
    {
     "data": {
      "text/plain": [
       "pandas.core.series.Series"
      ]
     },
     "execution_count": 7,
     "metadata": {},
     "output_type": "execute_result"
    }
   ],
   "source": [
    "type(df.loc['r1'])"
   ]
  },
  {
   "cell_type": "code",
   "execution_count": 8,
   "id": "e0ef6c12",
   "metadata": {},
   "outputs": [
    {
     "data": {
      "text/html": [
       "<div>\n",
       "<style scoped>\n",
       "    .dataframe tbody tr th:only-of-type {\n",
       "        vertical-align: middle;\n",
       "    }\n",
       "\n",
       "    .dataframe tbody tr th {\n",
       "        vertical-align: top;\n",
       "    }\n",
       "\n",
       "    .dataframe thead th {\n",
       "        text-align: right;\n",
       "    }\n",
       "</style>\n",
       "<table border=\"1\" class=\"dataframe\">\n",
       "  <thead>\n",
       "    <tr style=\"text-align: right;\">\n",
       "      <th></th>\n",
       "      <th>c1</th>\n",
       "      <th>c2</th>\n",
       "      <th>c3</th>\n",
       "      <th>c4</th>\n",
       "    </tr>\n",
       "  </thead>\n",
       "  <tbody>\n",
       "    <tr>\n",
       "      <th>r2</th>\n",
       "      <td>5</td>\n",
       "      <td>6</td>\n",
       "      <td>7</td>\n",
       "      <td>8</td>\n",
       "    </tr>\n",
       "    <tr>\n",
       "      <th>r3</th>\n",
       "      <td>9</td>\n",
       "      <td>10</td>\n",
       "      <td>11</td>\n",
       "      <td>12</td>\n",
       "    </tr>\n",
       "    <tr>\n",
       "      <th>r4</th>\n",
       "      <td>13</td>\n",
       "      <td>14</td>\n",
       "      <td>15</td>\n",
       "      <td>16</td>\n",
       "    </tr>\n",
       "  </tbody>\n",
       "</table>\n",
       "</div>"
      ],
      "text/plain": [
       "    c1  c2  c3  c4\n",
       "r2   5   6   7   8\n",
       "r3   9  10  11  12\n",
       "r4  13  14  15  16"
      ]
     },
     "execution_count": 8,
     "metadata": {},
     "output_type": "execute_result"
    }
   ],
   "source": [
    "df.iloc[1:4, :]"
   ]
  },
  {
   "cell_type": "code",
   "execution_count": 9,
   "id": "be688c78",
   "metadata": {},
   "outputs": [
    {
     "data": {
      "text/plain": [
       "pandas.core.frame.DataFrame"
      ]
     },
     "execution_count": 9,
     "metadata": {},
     "output_type": "execute_result"
    }
   ],
   "source": [
    "type(df.iloc[1:4, :])"
   ]
  },
  {
   "cell_type": "code",
   "execution_count": 10,
   "id": "db7b7295",
   "metadata": {},
   "outputs": [
    {
     "data": {
      "text/html": [
       "<div>\n",
       "<style scoped>\n",
       "    .dataframe tbody tr th:only-of-type {\n",
       "        vertical-align: middle;\n",
       "    }\n",
       "\n",
       "    .dataframe tbody tr th {\n",
       "        vertical-align: top;\n",
       "    }\n",
       "\n",
       "    .dataframe thead th {\n",
       "        text-align: right;\n",
       "    }\n",
       "</style>\n",
       "<table border=\"1\" class=\"dataframe\">\n",
       "  <thead>\n",
       "    <tr style=\"text-align: right;\">\n",
       "      <th></th>\n",
       "      <th>c1</th>\n",
       "    </tr>\n",
       "  </thead>\n",
       "  <tbody>\n",
       "    <tr>\n",
       "      <th>r1</th>\n",
       "      <td>1</td>\n",
       "    </tr>\n",
       "    <tr>\n",
       "      <th>r2</th>\n",
       "      <td>5</td>\n",
       "    </tr>\n",
       "  </tbody>\n",
       "</table>\n",
       "</div>"
      ],
      "text/plain": [
       "    c1\n",
       "r1   1\n",
       "r2   5"
      ]
     },
     "execution_count": 10,
     "metadata": {},
     "output_type": "execute_result"
    }
   ],
   "source": [
    "df.iloc[0:2,0:1]"
   ]
  },
  {
   "cell_type": "code",
   "execution_count": 11,
   "id": "6a2264ad",
   "metadata": {},
   "outputs": [
    {
     "data": {
      "text/plain": [
       "pandas.core.frame.DataFrame"
      ]
     },
     "execution_count": 11,
     "metadata": {},
     "output_type": "execute_result"
    }
   ],
   "source": [
    "type(df.iloc[0:2,0:1])"
   ]
  },
  {
   "cell_type": "code",
   "execution_count": 12,
   "id": "7b128102",
   "metadata": {},
   "outputs": [
    {
     "data": {
      "text/plain": [
       "r1    1\n",
       "r2    5\n",
       "Name: c1, dtype: int32"
      ]
     },
     "execution_count": 12,
     "metadata": {},
     "output_type": "execute_result"
    }
   ],
   "source": [
    "df.iloc[0:2,0]"
   ]
  },
  {
   "cell_type": "code",
   "execution_count": 13,
   "id": "5ce9285a",
   "metadata": {},
   "outputs": [
    {
     "data": {
      "text/plain": [
       "pandas.core.series.Series"
      ]
     },
     "execution_count": 13,
     "metadata": {},
     "output_type": "execute_result"
    }
   ],
   "source": [
    "type(df.iloc[0:2,0])"
   ]
  },
  {
   "cell_type": "code",
   "execution_count": 14,
   "id": "27b8ccd7",
   "metadata": {},
   "outputs": [
    {
     "data": {
      "text/plain": [
       "array([[ 1,  2,  3,  4],\n",
       "       [ 5,  6,  7,  8],\n",
       "       [ 9, 10, 11, 12],\n",
       "       [13, 14, 15, 16],\n",
       "       [17, 18, 19, 20]])"
      ]
     },
     "execution_count": 14,
     "metadata": {},
     "output_type": "execute_result"
    }
   ],
   "source": [
    "# convert DataFrame into Array\n",
    "df.iloc[:,:].values"
   ]
  },
  {
   "cell_type": "code",
   "execution_count": 15,
   "id": "4d0d45f7",
   "metadata": {},
   "outputs": [
    {
     "data": {
      "text/plain": [
       "(5, 4)"
      ]
     },
     "execution_count": 15,
     "metadata": {},
     "output_type": "execute_result"
    }
   ],
   "source": [
    "df.iloc[:,:].values.shape"
   ]
  },
  {
   "cell_type": "code",
   "execution_count": 16,
   "id": "67bcb93a",
   "metadata": {},
   "outputs": [],
   "source": [
    "arr = df.iloc[:,:].values"
   ]
  },
  {
   "cell_type": "code",
   "execution_count": 17,
   "id": "cba15000",
   "metadata": {},
   "outputs": [
    {
     "data": {
      "text/plain": [
       "array([[ 1,  2,  3,  4],\n",
       "       [ 5,  6,  7,  8],\n",
       "       [ 9, 10, 11, 12],\n",
       "       [13, 14, 15, 16],\n",
       "       [17, 18, 19, 20]])"
      ]
     },
     "execution_count": 17,
     "metadata": {},
     "output_type": "execute_result"
    }
   ],
   "source": [
    "arr"
   ]
  },
  {
   "cell_type": "code",
   "execution_count": 18,
   "id": "dffa6b04",
   "metadata": {},
   "outputs": [
    {
     "data": {
      "text/html": [
       "<div>\n",
       "<style scoped>\n",
       "    .dataframe tbody tr th:only-of-type {\n",
       "        vertical-align: middle;\n",
       "    }\n",
       "\n",
       "    .dataframe tbody tr th {\n",
       "        vertical-align: top;\n",
       "    }\n",
       "\n",
       "    .dataframe thead th {\n",
       "        text-align: right;\n",
       "    }\n",
       "</style>\n",
       "<table border=\"1\" class=\"dataframe\">\n",
       "  <thead>\n",
       "    <tr style=\"text-align: right;\">\n",
       "      <th></th>\n",
       "      <th>c1</th>\n",
       "      <th>c2</th>\n",
       "      <th>c3</th>\n",
       "      <th>c4</th>\n",
       "    </tr>\n",
       "  </thead>\n",
       "  <tbody>\n",
       "    <tr>\n",
       "      <th>r1</th>\n",
       "      <td>False</td>\n",
       "      <td>False</td>\n",
       "      <td>False</td>\n",
       "      <td>False</td>\n",
       "    </tr>\n",
       "    <tr>\n",
       "      <th>r2</th>\n",
       "      <td>False</td>\n",
       "      <td>False</td>\n",
       "      <td>False</td>\n",
       "      <td>False</td>\n",
       "    </tr>\n",
       "    <tr>\n",
       "      <th>r3</th>\n",
       "      <td>False</td>\n",
       "      <td>False</td>\n",
       "      <td>False</td>\n",
       "      <td>False</td>\n",
       "    </tr>\n",
       "    <tr>\n",
       "      <th>r4</th>\n",
       "      <td>False</td>\n",
       "      <td>False</td>\n",
       "      <td>False</td>\n",
       "      <td>False</td>\n",
       "    </tr>\n",
       "    <tr>\n",
       "      <th>r5</th>\n",
       "      <td>False</td>\n",
       "      <td>False</td>\n",
       "      <td>False</td>\n",
       "      <td>False</td>\n",
       "    </tr>\n",
       "  </tbody>\n",
       "</table>\n",
       "</div>"
      ],
      "text/plain": [
       "       c1     c2     c3     c4\n",
       "r1  False  False  False  False\n",
       "r2  False  False  False  False\n",
       "r3  False  False  False  False\n",
       "r4  False  False  False  False\n",
       "r5  False  False  False  False"
      ]
     },
     "execution_count": 18,
     "metadata": {},
     "output_type": "execute_result"
    }
   ],
   "source": [
    "# check null \n",
    "df.isnull()"
   ]
  },
  {
   "cell_type": "code",
   "execution_count": 19,
   "id": "7f56ccaa",
   "metadata": {},
   "outputs": [
    {
     "data": {
      "text/plain": [
       "c1    0\n",
       "c2    0\n",
       "c3    0\n",
       "c4    0\n",
       "dtype: int64"
      ]
     },
     "execution_count": 19,
     "metadata": {},
     "output_type": "execute_result"
    }
   ],
   "source": [
    "df.isnull().sum()"
   ]
  },
  {
   "cell_type": "code",
   "execution_count": 20,
   "id": "0d7ac95c",
   "metadata": {},
   "outputs": [
    {
     "data": {
      "text/plain": [
       "2     1\n",
       "6     1\n",
       "10    1\n",
       "14    1\n",
       "18    1\n",
       "Name: c2, dtype: int64"
      ]
     },
     "execution_count": 20,
     "metadata": {},
     "output_type": "execute_result"
    }
   ],
   "source": [
    "#check one element how many time it present in a col\n",
    "df['c2'].value_counts()"
   ]
  },
  {
   "cell_type": "code",
   "execution_count": 21,
   "id": "7a2430b9",
   "metadata": {},
   "outputs": [
    {
     "data": {
      "text/plain": [
       "array([ 1,  5,  9, 13, 17])"
      ]
     },
     "execution_count": 21,
     "metadata": {},
     "output_type": "execute_result"
    }
   ],
   "source": [
    "\n",
    "df['c1'].unique()"
   ]
  },
  {
   "cell_type": "code",
   "execution_count": 22,
   "id": "b835e2ea",
   "metadata": {},
   "outputs": [
    {
     "data": {
      "text/html": [
       "<div>\n",
       "<style scoped>\n",
       "    .dataframe tbody tr th:only-of-type {\n",
       "        vertical-align: middle;\n",
       "    }\n",
       "\n",
       "    .dataframe tbody tr th {\n",
       "        vertical-align: top;\n",
       "    }\n",
       "\n",
       "    .dataframe thead th {\n",
       "        text-align: right;\n",
       "    }\n",
       "</style>\n",
       "<table border=\"1\" class=\"dataframe\">\n",
       "  <thead>\n",
       "    <tr style=\"text-align: right;\">\n",
       "      <th></th>\n",
       "      <th>c2</th>\n",
       "      <th>c3</th>\n",
       "    </tr>\n",
       "  </thead>\n",
       "  <tbody>\n",
       "    <tr>\n",
       "      <th>r1</th>\n",
       "      <td>2</td>\n",
       "      <td>3</td>\n",
       "    </tr>\n",
       "    <tr>\n",
       "      <th>r2</th>\n",
       "      <td>6</td>\n",
       "      <td>7</td>\n",
       "    </tr>\n",
       "    <tr>\n",
       "      <th>r3</th>\n",
       "      <td>10</td>\n",
       "      <td>11</td>\n",
       "    </tr>\n",
       "    <tr>\n",
       "      <th>r4</th>\n",
       "      <td>14</td>\n",
       "      <td>15</td>\n",
       "    </tr>\n",
       "    <tr>\n",
       "      <th>r5</th>\n",
       "      <td>18</td>\n",
       "      <td>19</td>\n",
       "    </tr>\n",
       "  </tbody>\n",
       "</table>\n",
       "</div>"
      ],
      "text/plain": [
       "    c2  c3\n",
       "r1   2   3\n",
       "r2   6   7\n",
       "r3  10  11\n",
       "r4  14  15\n",
       "r5  18  19"
      ]
     },
     "execution_count": 22,
     "metadata": {},
     "output_type": "execute_result"
    }
   ],
   "source": [
    "df[['c2','c3']]"
   ]
  },
  {
   "cell_type": "code",
   "execution_count": 23,
   "id": "f1c9db05",
   "metadata": {},
   "outputs": [
    {
     "name": "stdout",
     "output_type": "stream",
     "text": [
      "    cars  passings\n",
      "0    BMW         3\n",
      "1  Volvo         7\n",
      "2   Ford         2\n"
     ]
    }
   ],
   "source": [
    "mydataset = {\n",
    "  'cars': [\"BMW\", \"Volvo\", \"Ford\"],\n",
    "  'passings': [3, 7, 2]\n",
    "}\n",
    "\n",
    "myvar = pd.DataFrame(mydataset)\n",
    "\n",
    "print(myvar)"
   ]
  },
  {
   "cell_type": "code",
   "execution_count": 24,
   "id": "e9de6403",
   "metadata": {},
   "outputs": [],
   "source": [
    "df = pd.read_csv('mercedesbenz.csv')"
   ]
  },
  {
   "cell_type": "code",
   "execution_count": 25,
   "id": "c1d30799",
   "metadata": {},
   "outputs": [
    {
     "data": {
      "text/html": [
       "<div>\n",
       "<style scoped>\n",
       "    .dataframe tbody tr th:only-of-type {\n",
       "        vertical-align: middle;\n",
       "    }\n",
       "\n",
       "    .dataframe tbody tr th {\n",
       "        vertical-align: top;\n",
       "    }\n",
       "\n",
       "    .dataframe thead th {\n",
       "        text-align: right;\n",
       "    }\n",
       "</style>\n",
       "<table border=\"1\" class=\"dataframe\">\n",
       "  <thead>\n",
       "    <tr style=\"text-align: right;\">\n",
       "      <th></th>\n",
       "      <th>ID</th>\n",
       "      <th>y</th>\n",
       "      <th>X0</th>\n",
       "      <th>X1</th>\n",
       "      <th>X2</th>\n",
       "      <th>X3</th>\n",
       "      <th>X4</th>\n",
       "      <th>X5</th>\n",
       "      <th>X6</th>\n",
       "      <th>X8</th>\n",
       "      <th>...</th>\n",
       "      <th>X375</th>\n",
       "      <th>X376</th>\n",
       "      <th>X377</th>\n",
       "      <th>X378</th>\n",
       "      <th>X379</th>\n",
       "      <th>X380</th>\n",
       "      <th>X382</th>\n",
       "      <th>X383</th>\n",
       "      <th>X384</th>\n",
       "      <th>X385</th>\n",
       "    </tr>\n",
       "  </thead>\n",
       "  <tbody>\n",
       "    <tr>\n",
       "      <th>0</th>\n",
       "      <td>0</td>\n",
       "      <td>130.81</td>\n",
       "      <td>k</td>\n",
       "      <td>v</td>\n",
       "      <td>at</td>\n",
       "      <td>a</td>\n",
       "      <td>d</td>\n",
       "      <td>u</td>\n",
       "      <td>j</td>\n",
       "      <td>o</td>\n",
       "      <td>...</td>\n",
       "      <td>0</td>\n",
       "      <td>0</td>\n",
       "      <td>1</td>\n",
       "      <td>0</td>\n",
       "      <td>0</td>\n",
       "      <td>0</td>\n",
       "      <td>0</td>\n",
       "      <td>0</td>\n",
       "      <td>0</td>\n",
       "      <td>0</td>\n",
       "    </tr>\n",
       "    <tr>\n",
       "      <th>1</th>\n",
       "      <td>6</td>\n",
       "      <td>88.53</td>\n",
       "      <td>k</td>\n",
       "      <td>t</td>\n",
       "      <td>av</td>\n",
       "      <td>e</td>\n",
       "      <td>d</td>\n",
       "      <td>y</td>\n",
       "      <td>l</td>\n",
       "      <td>o</td>\n",
       "      <td>...</td>\n",
       "      <td>1</td>\n",
       "      <td>0</td>\n",
       "      <td>0</td>\n",
       "      <td>0</td>\n",
       "      <td>0</td>\n",
       "      <td>0</td>\n",
       "      <td>0</td>\n",
       "      <td>0</td>\n",
       "      <td>0</td>\n",
       "      <td>0</td>\n",
       "    </tr>\n",
       "    <tr>\n",
       "      <th>2</th>\n",
       "      <td>7</td>\n",
       "      <td>76.26</td>\n",
       "      <td>az</td>\n",
       "      <td>w</td>\n",
       "      <td>n</td>\n",
       "      <td>c</td>\n",
       "      <td>d</td>\n",
       "      <td>x</td>\n",
       "      <td>j</td>\n",
       "      <td>x</td>\n",
       "      <td>...</td>\n",
       "      <td>0</td>\n",
       "      <td>0</td>\n",
       "      <td>0</td>\n",
       "      <td>0</td>\n",
       "      <td>0</td>\n",
       "      <td>0</td>\n",
       "      <td>1</td>\n",
       "      <td>0</td>\n",
       "      <td>0</td>\n",
       "      <td>0</td>\n",
       "    </tr>\n",
       "    <tr>\n",
       "      <th>3</th>\n",
       "      <td>9</td>\n",
       "      <td>80.62</td>\n",
       "      <td>az</td>\n",
       "      <td>t</td>\n",
       "      <td>n</td>\n",
       "      <td>f</td>\n",
       "      <td>d</td>\n",
       "      <td>x</td>\n",
       "      <td>l</td>\n",
       "      <td>e</td>\n",
       "      <td>...</td>\n",
       "      <td>0</td>\n",
       "      <td>0</td>\n",
       "      <td>0</td>\n",
       "      <td>0</td>\n",
       "      <td>0</td>\n",
       "      <td>0</td>\n",
       "      <td>0</td>\n",
       "      <td>0</td>\n",
       "      <td>0</td>\n",
       "      <td>0</td>\n",
       "    </tr>\n",
       "    <tr>\n",
       "      <th>4</th>\n",
       "      <td>13</td>\n",
       "      <td>78.02</td>\n",
       "      <td>az</td>\n",
       "      <td>v</td>\n",
       "      <td>n</td>\n",
       "      <td>f</td>\n",
       "      <td>d</td>\n",
       "      <td>h</td>\n",
       "      <td>d</td>\n",
       "      <td>n</td>\n",
       "      <td>...</td>\n",
       "      <td>0</td>\n",
       "      <td>0</td>\n",
       "      <td>0</td>\n",
       "      <td>0</td>\n",
       "      <td>0</td>\n",
       "      <td>0</td>\n",
       "      <td>0</td>\n",
       "      <td>0</td>\n",
       "      <td>0</td>\n",
       "      <td>0</td>\n",
       "    </tr>\n",
       "  </tbody>\n",
       "</table>\n",
       "<p>5 rows × 378 columns</p>\n",
       "</div>"
      ],
      "text/plain": [
       "   ID       y  X0 X1  X2 X3 X4 X5 X6 X8  ...  X375  X376  X377  X378  X379  \\\n",
       "0   0  130.81   k  v  at  a  d  u  j  o  ...     0     0     1     0     0   \n",
       "1   6   88.53   k  t  av  e  d  y  l  o  ...     1     0     0     0     0   \n",
       "2   7   76.26  az  w   n  c  d  x  j  x  ...     0     0     0     0     0   \n",
       "3   9   80.62  az  t   n  f  d  x  l  e  ...     0     0     0     0     0   \n",
       "4  13   78.02  az  v   n  f  d  h  d  n  ...     0     0     0     0     0   \n",
       "\n",
       "   X380  X382  X383  X384  X385  \n",
       "0     0     0     0     0     0  \n",
       "1     0     0     0     0     0  \n",
       "2     0     1     0     0     0  \n",
       "3     0     0     0     0     0  \n",
       "4     0     0     0     0     0  \n",
       "\n",
       "[5 rows x 378 columns]"
      ]
     },
     "execution_count": 25,
     "metadata": {},
     "output_type": "execute_result"
    }
   ],
   "source": [
    "df.head()"
   ]
  },
  {
   "cell_type": "code",
   "execution_count": 26,
   "id": "1b176b51",
   "metadata": {},
   "outputs": [
    {
     "name": "stdout",
     "output_type": "stream",
     "text": [
      "<class 'pandas.core.frame.DataFrame'>\n",
      "RangeIndex: 4209 entries, 0 to 4208\n",
      "Columns: 378 entries, ID to X385\n",
      "dtypes: float64(1), int64(369), object(8)\n",
      "memory usage: 12.1+ MB\n"
     ]
    }
   ],
   "source": [
    "df.info()"
   ]
  },
  {
   "cell_type": "code",
   "execution_count": 27,
   "id": "c16a37aa",
   "metadata": {},
   "outputs": [
    {
     "data": {
      "text/html": [
       "<div>\n",
       "<style scoped>\n",
       "    .dataframe tbody tr th:only-of-type {\n",
       "        vertical-align: middle;\n",
       "    }\n",
       "\n",
       "    .dataframe tbody tr th {\n",
       "        vertical-align: top;\n",
       "    }\n",
       "\n",
       "    .dataframe thead th {\n",
       "        text-align: right;\n",
       "    }\n",
       "</style>\n",
       "<table border=\"1\" class=\"dataframe\">\n",
       "  <thead>\n",
       "    <tr style=\"text-align: right;\">\n",
       "      <th></th>\n",
       "      <th>ID</th>\n",
       "      <th>y</th>\n",
       "      <th>X10</th>\n",
       "      <th>X11</th>\n",
       "      <th>X12</th>\n",
       "      <th>X13</th>\n",
       "      <th>X14</th>\n",
       "      <th>X15</th>\n",
       "      <th>X16</th>\n",
       "      <th>X17</th>\n",
       "      <th>...</th>\n",
       "      <th>X375</th>\n",
       "      <th>X376</th>\n",
       "      <th>X377</th>\n",
       "      <th>X378</th>\n",
       "      <th>X379</th>\n",
       "      <th>X380</th>\n",
       "      <th>X382</th>\n",
       "      <th>X383</th>\n",
       "      <th>X384</th>\n",
       "      <th>X385</th>\n",
       "    </tr>\n",
       "  </thead>\n",
       "  <tbody>\n",
       "    <tr>\n",
       "      <th>count</th>\n",
       "      <td>4209.000000</td>\n",
       "      <td>4209.000000</td>\n",
       "      <td>4209.000000</td>\n",
       "      <td>4209.0</td>\n",
       "      <td>4209.000000</td>\n",
       "      <td>4209.000000</td>\n",
       "      <td>4209.000000</td>\n",
       "      <td>4209.000000</td>\n",
       "      <td>4209.000000</td>\n",
       "      <td>4209.000000</td>\n",
       "      <td>...</td>\n",
       "      <td>4209.000000</td>\n",
       "      <td>4209.000000</td>\n",
       "      <td>4209.000000</td>\n",
       "      <td>4209.000000</td>\n",
       "      <td>4209.000000</td>\n",
       "      <td>4209.000000</td>\n",
       "      <td>4209.000000</td>\n",
       "      <td>4209.000000</td>\n",
       "      <td>4209.000000</td>\n",
       "      <td>4209.000000</td>\n",
       "    </tr>\n",
       "    <tr>\n",
       "      <th>mean</th>\n",
       "      <td>4205.960798</td>\n",
       "      <td>100.669318</td>\n",
       "      <td>0.013305</td>\n",
       "      <td>0.0</td>\n",
       "      <td>0.075077</td>\n",
       "      <td>0.057971</td>\n",
       "      <td>0.428130</td>\n",
       "      <td>0.000475</td>\n",
       "      <td>0.002613</td>\n",
       "      <td>0.007603</td>\n",
       "      <td>...</td>\n",
       "      <td>0.318841</td>\n",
       "      <td>0.057258</td>\n",
       "      <td>0.314802</td>\n",
       "      <td>0.020670</td>\n",
       "      <td>0.009503</td>\n",
       "      <td>0.008078</td>\n",
       "      <td>0.007603</td>\n",
       "      <td>0.001663</td>\n",
       "      <td>0.000475</td>\n",
       "      <td>0.001426</td>\n",
       "    </tr>\n",
       "    <tr>\n",
       "      <th>std</th>\n",
       "      <td>2437.608688</td>\n",
       "      <td>12.679381</td>\n",
       "      <td>0.114590</td>\n",
       "      <td>0.0</td>\n",
       "      <td>0.263547</td>\n",
       "      <td>0.233716</td>\n",
       "      <td>0.494867</td>\n",
       "      <td>0.021796</td>\n",
       "      <td>0.051061</td>\n",
       "      <td>0.086872</td>\n",
       "      <td>...</td>\n",
       "      <td>0.466082</td>\n",
       "      <td>0.232363</td>\n",
       "      <td>0.464492</td>\n",
       "      <td>0.142294</td>\n",
       "      <td>0.097033</td>\n",
       "      <td>0.089524</td>\n",
       "      <td>0.086872</td>\n",
       "      <td>0.040752</td>\n",
       "      <td>0.021796</td>\n",
       "      <td>0.037734</td>\n",
       "    </tr>\n",
       "    <tr>\n",
       "      <th>min</th>\n",
       "      <td>0.000000</td>\n",
       "      <td>72.110000</td>\n",
       "      <td>0.000000</td>\n",
       "      <td>0.0</td>\n",
       "      <td>0.000000</td>\n",
       "      <td>0.000000</td>\n",
       "      <td>0.000000</td>\n",
       "      <td>0.000000</td>\n",
       "      <td>0.000000</td>\n",
       "      <td>0.000000</td>\n",
       "      <td>...</td>\n",
       "      <td>0.000000</td>\n",
       "      <td>0.000000</td>\n",
       "      <td>0.000000</td>\n",
       "      <td>0.000000</td>\n",
       "      <td>0.000000</td>\n",
       "      <td>0.000000</td>\n",
       "      <td>0.000000</td>\n",
       "      <td>0.000000</td>\n",
       "      <td>0.000000</td>\n",
       "      <td>0.000000</td>\n",
       "    </tr>\n",
       "    <tr>\n",
       "      <th>25%</th>\n",
       "      <td>2095.000000</td>\n",
       "      <td>90.820000</td>\n",
       "      <td>0.000000</td>\n",
       "      <td>0.0</td>\n",
       "      <td>0.000000</td>\n",
       "      <td>0.000000</td>\n",
       "      <td>0.000000</td>\n",
       "      <td>0.000000</td>\n",
       "      <td>0.000000</td>\n",
       "      <td>0.000000</td>\n",
       "      <td>...</td>\n",
       "      <td>0.000000</td>\n",
       "      <td>0.000000</td>\n",
       "      <td>0.000000</td>\n",
       "      <td>0.000000</td>\n",
       "      <td>0.000000</td>\n",
       "      <td>0.000000</td>\n",
       "      <td>0.000000</td>\n",
       "      <td>0.000000</td>\n",
       "      <td>0.000000</td>\n",
       "      <td>0.000000</td>\n",
       "    </tr>\n",
       "    <tr>\n",
       "      <th>50%</th>\n",
       "      <td>4220.000000</td>\n",
       "      <td>99.150000</td>\n",
       "      <td>0.000000</td>\n",
       "      <td>0.0</td>\n",
       "      <td>0.000000</td>\n",
       "      <td>0.000000</td>\n",
       "      <td>0.000000</td>\n",
       "      <td>0.000000</td>\n",
       "      <td>0.000000</td>\n",
       "      <td>0.000000</td>\n",
       "      <td>...</td>\n",
       "      <td>0.000000</td>\n",
       "      <td>0.000000</td>\n",
       "      <td>0.000000</td>\n",
       "      <td>0.000000</td>\n",
       "      <td>0.000000</td>\n",
       "      <td>0.000000</td>\n",
       "      <td>0.000000</td>\n",
       "      <td>0.000000</td>\n",
       "      <td>0.000000</td>\n",
       "      <td>0.000000</td>\n",
       "    </tr>\n",
       "    <tr>\n",
       "      <th>75%</th>\n",
       "      <td>6314.000000</td>\n",
       "      <td>109.010000</td>\n",
       "      <td>0.000000</td>\n",
       "      <td>0.0</td>\n",
       "      <td>0.000000</td>\n",
       "      <td>0.000000</td>\n",
       "      <td>1.000000</td>\n",
       "      <td>0.000000</td>\n",
       "      <td>0.000000</td>\n",
       "      <td>0.000000</td>\n",
       "      <td>...</td>\n",
       "      <td>1.000000</td>\n",
       "      <td>0.000000</td>\n",
       "      <td>1.000000</td>\n",
       "      <td>0.000000</td>\n",
       "      <td>0.000000</td>\n",
       "      <td>0.000000</td>\n",
       "      <td>0.000000</td>\n",
       "      <td>0.000000</td>\n",
       "      <td>0.000000</td>\n",
       "      <td>0.000000</td>\n",
       "    </tr>\n",
       "    <tr>\n",
       "      <th>max</th>\n",
       "      <td>8417.000000</td>\n",
       "      <td>265.320000</td>\n",
       "      <td>1.000000</td>\n",
       "      <td>0.0</td>\n",
       "      <td>1.000000</td>\n",
       "      <td>1.000000</td>\n",
       "      <td>1.000000</td>\n",
       "      <td>1.000000</td>\n",
       "      <td>1.000000</td>\n",
       "      <td>1.000000</td>\n",
       "      <td>...</td>\n",
       "      <td>1.000000</td>\n",
       "      <td>1.000000</td>\n",
       "      <td>1.000000</td>\n",
       "      <td>1.000000</td>\n",
       "      <td>1.000000</td>\n",
       "      <td>1.000000</td>\n",
       "      <td>1.000000</td>\n",
       "      <td>1.000000</td>\n",
       "      <td>1.000000</td>\n",
       "      <td>1.000000</td>\n",
       "    </tr>\n",
       "  </tbody>\n",
       "</table>\n",
       "<p>8 rows × 370 columns</p>\n",
       "</div>"
      ],
      "text/plain": [
       "                ID            y          X10     X11          X12  \\\n",
       "count  4209.000000  4209.000000  4209.000000  4209.0  4209.000000   \n",
       "mean   4205.960798   100.669318     0.013305     0.0     0.075077   \n",
       "std    2437.608688    12.679381     0.114590     0.0     0.263547   \n",
       "min       0.000000    72.110000     0.000000     0.0     0.000000   \n",
       "25%    2095.000000    90.820000     0.000000     0.0     0.000000   \n",
       "50%    4220.000000    99.150000     0.000000     0.0     0.000000   \n",
       "75%    6314.000000   109.010000     0.000000     0.0     0.000000   \n",
       "max    8417.000000   265.320000     1.000000     0.0     1.000000   \n",
       "\n",
       "               X13          X14          X15          X16          X17  ...  \\\n",
       "count  4209.000000  4209.000000  4209.000000  4209.000000  4209.000000  ...   \n",
       "mean      0.057971     0.428130     0.000475     0.002613     0.007603  ...   \n",
       "std       0.233716     0.494867     0.021796     0.051061     0.086872  ...   \n",
       "min       0.000000     0.000000     0.000000     0.000000     0.000000  ...   \n",
       "25%       0.000000     0.000000     0.000000     0.000000     0.000000  ...   \n",
       "50%       0.000000     0.000000     0.000000     0.000000     0.000000  ...   \n",
       "75%       0.000000     1.000000     0.000000     0.000000     0.000000  ...   \n",
       "max       1.000000     1.000000     1.000000     1.000000     1.000000  ...   \n",
       "\n",
       "              X375         X376         X377         X378         X379  \\\n",
       "count  4209.000000  4209.000000  4209.000000  4209.000000  4209.000000   \n",
       "mean      0.318841     0.057258     0.314802     0.020670     0.009503   \n",
       "std       0.466082     0.232363     0.464492     0.142294     0.097033   \n",
       "min       0.000000     0.000000     0.000000     0.000000     0.000000   \n",
       "25%       0.000000     0.000000     0.000000     0.000000     0.000000   \n",
       "50%       0.000000     0.000000     0.000000     0.000000     0.000000   \n",
       "75%       1.000000     0.000000     1.000000     0.000000     0.000000   \n",
       "max       1.000000     1.000000     1.000000     1.000000     1.000000   \n",
       "\n",
       "              X380         X382         X383         X384         X385  \n",
       "count  4209.000000  4209.000000  4209.000000  4209.000000  4209.000000  \n",
       "mean      0.008078     0.007603     0.001663     0.000475     0.001426  \n",
       "std       0.089524     0.086872     0.040752     0.021796     0.037734  \n",
       "min       0.000000     0.000000     0.000000     0.000000     0.000000  \n",
       "25%       0.000000     0.000000     0.000000     0.000000     0.000000  \n",
       "50%       0.000000     0.000000     0.000000     0.000000     0.000000  \n",
       "75%       0.000000     0.000000     0.000000     0.000000     0.000000  \n",
       "max       1.000000     1.000000     1.000000     1.000000     1.000000  \n",
       "\n",
       "[8 rows x 370 columns]"
      ]
     },
     "execution_count": 27,
     "metadata": {},
     "output_type": "execute_result"
    }
   ],
   "source": [
    "df.describe()"
   ]
  },
  {
   "cell_type": "code",
   "execution_count": 28,
   "id": "e29cff87",
   "metadata": {},
   "outputs": [],
   "source": [
    "# Note: I have created demo.csv separated by cemi colon\n",
    "df_demo = pd.read_csv('Demo.csv', sep=';')"
   ]
  },
  {
   "cell_type": "code",
   "execution_count": 29,
   "id": "59eb9b17",
   "metadata": {},
   "outputs": [
    {
     "data": {
      "text/html": [
       "<div>\n",
       "<style scoped>\n",
       "    .dataframe tbody tr th:only-of-type {\n",
       "        vertical-align: middle;\n",
       "    }\n",
       "\n",
       "    .dataframe tbody tr th {\n",
       "        vertical-align: top;\n",
       "    }\n",
       "\n",
       "    .dataframe thead th {\n",
       "        text-align: right;\n",
       "    }\n",
       "</style>\n",
       "<table border=\"1\" class=\"dataframe\">\n",
       "  <thead>\n",
       "    <tr style=\"text-align: right;\">\n",
       "      <th></th>\n",
       "      <th>,c1,c2,c3,c4</th>\n",
       "    </tr>\n",
       "  </thead>\n",
       "  <tbody>\n",
       "    <tr>\n",
       "      <th>0</th>\n",
       "      <td>r1,1,2,3,4</td>\n",
       "    </tr>\n",
       "    <tr>\n",
       "      <th>1</th>\n",
       "      <td>r2,5,6,7,8</td>\n",
       "    </tr>\n",
       "    <tr>\n",
       "      <th>2</th>\n",
       "      <td>r3,9,10,11,12</td>\n",
       "    </tr>\n",
       "    <tr>\n",
       "      <th>3</th>\n",
       "      <td>r4,13,14,15,16</td>\n",
       "    </tr>\n",
       "    <tr>\n",
       "      <th>4</th>\n",
       "      <td>r5,17,18,19,20</td>\n",
       "    </tr>\n",
       "  </tbody>\n",
       "</table>\n",
       "</div>"
      ],
      "text/plain": [
       "     ,c1,c2,c3,c4\n",
       "0      r1,1,2,3,4\n",
       "1      r2,5,6,7,8\n",
       "2   r3,9,10,11,12\n",
       "3  r4,13,14,15,16\n",
       "4  r5,17,18,19,20"
      ]
     },
     "execution_count": 29,
     "metadata": {},
     "output_type": "execute_result"
    }
   ],
   "source": [
    "df_demo"
   ]
  },
  {
   "cell_type": "code",
   "execution_count": 30,
   "id": "a27f95e5",
   "metadata": {},
   "outputs": [
    {
     "data": {
      "text/plain": [
       "z     360\n",
       "ak    349\n",
       "y     324\n",
       "ay    313\n",
       "t     306\n",
       "x     300\n",
       "o     269\n",
       "f     227\n",
       "n     195\n",
       "w     182\n",
       "j     181\n",
       "az    175\n",
       "aj    151\n",
       "s     106\n",
       "ap    103\n",
       "h      75\n",
       "d      73\n",
       "al     67\n",
       "v      36\n",
       "af     35\n",
       "m      34\n",
       "ai     34\n",
       "e      32\n",
       "ba     27\n",
       "at     25\n",
       "a      21\n",
       "ax     19\n",
       "aq     18\n",
       "am     18\n",
       "i      18\n",
       "u      17\n",
       "aw     16\n",
       "l      16\n",
       "ad     14\n",
       "au     11\n",
       "k      11\n",
       "b      11\n",
       "r      10\n",
       "as     10\n",
       "bc      6\n",
       "ao      4\n",
       "c       3\n",
       "aa      2\n",
       "q       2\n",
       "ac      1\n",
       "g       1\n",
       "ab      1\n",
       "Name: X0, dtype: int64"
      ]
     },
     "execution_count": 30,
     "metadata": {},
     "output_type": "execute_result"
    }
   ],
   "source": [
    "# get unnique category counts\n",
    "df['X0'].value_counts()"
   ]
  },
  {
   "cell_type": "code",
   "execution_count": 31,
   "id": "e3464eb0",
   "metadata": {},
   "outputs": [
    {
     "data": {
      "text/html": [
       "<div>\n",
       "<style scoped>\n",
       "    .dataframe tbody tr th:only-of-type {\n",
       "        vertical-align: middle;\n",
       "    }\n",
       "\n",
       "    .dataframe tbody tr th {\n",
       "        vertical-align: top;\n",
       "    }\n",
       "\n",
       "    .dataframe thead th {\n",
       "        text-align: right;\n",
       "    }\n",
       "</style>\n",
       "<table border=\"1\" class=\"dataframe\">\n",
       "  <thead>\n",
       "    <tr style=\"text-align: right;\">\n",
       "      <th></th>\n",
       "      <th>ID</th>\n",
       "      <th>y</th>\n",
       "      <th>X0</th>\n",
       "      <th>X1</th>\n",
       "      <th>X2</th>\n",
       "      <th>X3</th>\n",
       "      <th>X4</th>\n",
       "      <th>X5</th>\n",
       "      <th>X6</th>\n",
       "      <th>X8</th>\n",
       "      <th>...</th>\n",
       "      <th>X375</th>\n",
       "      <th>X376</th>\n",
       "      <th>X377</th>\n",
       "      <th>X378</th>\n",
       "      <th>X379</th>\n",
       "      <th>X380</th>\n",
       "      <th>X382</th>\n",
       "      <th>X383</th>\n",
       "      <th>X384</th>\n",
       "      <th>X385</th>\n",
       "    </tr>\n",
       "  </thead>\n",
       "  <tbody>\n",
       "    <tr>\n",
       "      <th>0</th>\n",
       "      <td>0</td>\n",
       "      <td>130.81</td>\n",
       "      <td>k</td>\n",
       "      <td>v</td>\n",
       "      <td>at</td>\n",
       "      <td>a</td>\n",
       "      <td>d</td>\n",
       "      <td>u</td>\n",
       "      <td>j</td>\n",
       "      <td>o</td>\n",
       "      <td>...</td>\n",
       "      <td>0</td>\n",
       "      <td>0</td>\n",
       "      <td>1</td>\n",
       "      <td>0</td>\n",
       "      <td>0</td>\n",
       "      <td>0</td>\n",
       "      <td>0</td>\n",
       "      <td>0</td>\n",
       "      <td>0</td>\n",
       "      <td>0</td>\n",
       "    </tr>\n",
       "    <tr>\n",
       "      <th>6</th>\n",
       "      <td>24</td>\n",
       "      <td>128.76</td>\n",
       "      <td>al</td>\n",
       "      <td>r</td>\n",
       "      <td>e</td>\n",
       "      <td>f</td>\n",
       "      <td>d</td>\n",
       "      <td>f</td>\n",
       "      <td>h</td>\n",
       "      <td>s</td>\n",
       "      <td>...</td>\n",
       "      <td>0</td>\n",
       "      <td>0</td>\n",
       "      <td>0</td>\n",
       "      <td>0</td>\n",
       "      <td>0</td>\n",
       "      <td>0</td>\n",
       "      <td>0</td>\n",
       "      <td>0</td>\n",
       "      <td>0</td>\n",
       "      <td>0</td>\n",
       "    </tr>\n",
       "    <tr>\n",
       "      <th>8</th>\n",
       "      <td>27</td>\n",
       "      <td>108.67</td>\n",
       "      <td>w</td>\n",
       "      <td>s</td>\n",
       "      <td>as</td>\n",
       "      <td>e</td>\n",
       "      <td>d</td>\n",
       "      <td>f</td>\n",
       "      <td>i</td>\n",
       "      <td>h</td>\n",
       "      <td>...</td>\n",
       "      <td>1</td>\n",
       "      <td>0</td>\n",
       "      <td>0</td>\n",
       "      <td>0</td>\n",
       "      <td>0</td>\n",
       "      <td>0</td>\n",
       "      <td>0</td>\n",
       "      <td>0</td>\n",
       "      <td>0</td>\n",
       "      <td>0</td>\n",
       "    </tr>\n",
       "    <tr>\n",
       "      <th>9</th>\n",
       "      <td>30</td>\n",
       "      <td>126.99</td>\n",
       "      <td>j</td>\n",
       "      <td>b</td>\n",
       "      <td>aq</td>\n",
       "      <td>c</td>\n",
       "      <td>d</td>\n",
       "      <td>f</td>\n",
       "      <td>a</td>\n",
       "      <td>e</td>\n",
       "      <td>...</td>\n",
       "      <td>0</td>\n",
       "      <td>0</td>\n",
       "      <td>1</td>\n",
       "      <td>0</td>\n",
       "      <td>0</td>\n",
       "      <td>0</td>\n",
       "      <td>0</td>\n",
       "      <td>0</td>\n",
       "      <td>0</td>\n",
       "      <td>0</td>\n",
       "    </tr>\n",
       "    <tr>\n",
       "      <th>10</th>\n",
       "      <td>31</td>\n",
       "      <td>102.09</td>\n",
       "      <td>h</td>\n",
       "      <td>r</td>\n",
       "      <td>r</td>\n",
       "      <td>f</td>\n",
       "      <td>d</td>\n",
       "      <td>f</td>\n",
       "      <td>h</td>\n",
       "      <td>p</td>\n",
       "      <td>...</td>\n",
       "      <td>0</td>\n",
       "      <td>0</td>\n",
       "      <td>0</td>\n",
       "      <td>0</td>\n",
       "      <td>0</td>\n",
       "      <td>0</td>\n",
       "      <td>0</td>\n",
       "      <td>0</td>\n",
       "      <td>0</td>\n",
       "      <td>0</td>\n",
       "    </tr>\n",
       "    <tr>\n",
       "      <th>...</th>\n",
       "      <td>...</td>\n",
       "      <td>...</td>\n",
       "      <td>...</td>\n",
       "      <td>...</td>\n",
       "      <td>...</td>\n",
       "      <td>...</td>\n",
       "      <td>...</td>\n",
       "      <td>...</td>\n",
       "      <td>...</td>\n",
       "      <td>...</td>\n",
       "      <td>...</td>\n",
       "      <td>...</td>\n",
       "      <td>...</td>\n",
       "      <td>...</td>\n",
       "      <td>...</td>\n",
       "      <td>...</td>\n",
       "      <td>...</td>\n",
       "      <td>...</td>\n",
       "      <td>...</td>\n",
       "      <td>...</td>\n",
       "      <td>...</td>\n",
       "    </tr>\n",
       "    <tr>\n",
       "      <th>4202</th>\n",
       "      <td>8402</td>\n",
       "      <td>123.34</td>\n",
       "      <td>ap</td>\n",
       "      <td>l</td>\n",
       "      <td>s</td>\n",
       "      <td>c</td>\n",
       "      <td>d</td>\n",
       "      <td>aa</td>\n",
       "      <td>d</td>\n",
       "      <td>r</td>\n",
       "      <td>...</td>\n",
       "      <td>0</td>\n",
       "      <td>0</td>\n",
       "      <td>0</td>\n",
       "      <td>0</td>\n",
       "      <td>0</td>\n",
       "      <td>0</td>\n",
       "      <td>0</td>\n",
       "      <td>0</td>\n",
       "      <td>0</td>\n",
       "      <td>0</td>\n",
       "    </tr>\n",
       "    <tr>\n",
       "      <th>4204</th>\n",
       "      <td>8405</td>\n",
       "      <td>107.39</td>\n",
       "      <td>ak</td>\n",
       "      <td>s</td>\n",
       "      <td>as</td>\n",
       "      <td>c</td>\n",
       "      <td>d</td>\n",
       "      <td>aa</td>\n",
       "      <td>d</td>\n",
       "      <td>q</td>\n",
       "      <td>...</td>\n",
       "      <td>1</td>\n",
       "      <td>0</td>\n",
       "      <td>0</td>\n",
       "      <td>0</td>\n",
       "      <td>0</td>\n",
       "      <td>0</td>\n",
       "      <td>0</td>\n",
       "      <td>0</td>\n",
       "      <td>0</td>\n",
       "      <td>0</td>\n",
       "    </tr>\n",
       "    <tr>\n",
       "      <th>4205</th>\n",
       "      <td>8406</td>\n",
       "      <td>108.77</td>\n",
       "      <td>j</td>\n",
       "      <td>o</td>\n",
       "      <td>t</td>\n",
       "      <td>d</td>\n",
       "      <td>d</td>\n",
       "      <td>aa</td>\n",
       "      <td>h</td>\n",
       "      <td>h</td>\n",
       "      <td>...</td>\n",
       "      <td>0</td>\n",
       "      <td>1</td>\n",
       "      <td>0</td>\n",
       "      <td>0</td>\n",
       "      <td>0</td>\n",
       "      <td>0</td>\n",
       "      <td>0</td>\n",
       "      <td>0</td>\n",
       "      <td>0</td>\n",
       "      <td>0</td>\n",
       "    </tr>\n",
       "    <tr>\n",
       "      <th>4206</th>\n",
       "      <td>8412</td>\n",
       "      <td>109.22</td>\n",
       "      <td>ak</td>\n",
       "      <td>v</td>\n",
       "      <td>r</td>\n",
       "      <td>a</td>\n",
       "      <td>d</td>\n",
       "      <td>aa</td>\n",
       "      <td>g</td>\n",
       "      <td>e</td>\n",
       "      <td>...</td>\n",
       "      <td>0</td>\n",
       "      <td>0</td>\n",
       "      <td>1</td>\n",
       "      <td>0</td>\n",
       "      <td>0</td>\n",
       "      <td>0</td>\n",
       "      <td>0</td>\n",
       "      <td>0</td>\n",
       "      <td>0</td>\n",
       "      <td>0</td>\n",
       "    </tr>\n",
       "    <tr>\n",
       "      <th>4208</th>\n",
       "      <td>8417</td>\n",
       "      <td>110.85</td>\n",
       "      <td>z</td>\n",
       "      <td>r</td>\n",
       "      <td>ae</td>\n",
       "      <td>c</td>\n",
       "      <td>d</td>\n",
       "      <td>aa</td>\n",
       "      <td>g</td>\n",
       "      <td>w</td>\n",
       "      <td>...</td>\n",
       "      <td>1</td>\n",
       "      <td>0</td>\n",
       "      <td>0</td>\n",
       "      <td>0</td>\n",
       "      <td>0</td>\n",
       "      <td>0</td>\n",
       "      <td>0</td>\n",
       "      <td>0</td>\n",
       "      <td>0</td>\n",
       "      <td>0</td>\n",
       "    </tr>\n",
       "  </tbody>\n",
       "</table>\n",
       "<p>2004 rows × 378 columns</p>\n",
       "</div>"
      ],
      "text/plain": [
       "        ID       y  X0 X1  X2 X3 X4  X5 X6 X8  ...  X375  X376  X377  X378  \\\n",
       "0        0  130.81   k  v  at  a  d   u  j  o  ...     0     0     1     0   \n",
       "6       24  128.76  al  r   e  f  d   f  h  s  ...     0     0     0     0   \n",
       "8       27  108.67   w  s  as  e  d   f  i  h  ...     1     0     0     0   \n",
       "9       30  126.99   j  b  aq  c  d   f  a  e  ...     0     0     1     0   \n",
       "10      31  102.09   h  r   r  f  d   f  h  p  ...     0     0     0     0   \n",
       "...    ...     ...  .. ..  .. .. ..  .. .. ..  ...   ...   ...   ...   ...   \n",
       "4202  8402  123.34  ap  l   s  c  d  aa  d  r  ...     0     0     0     0   \n",
       "4204  8405  107.39  ak  s  as  c  d  aa  d  q  ...     1     0     0     0   \n",
       "4205  8406  108.77   j  o   t  d  d  aa  h  h  ...     0     1     0     0   \n",
       "4206  8412  109.22  ak  v   r  a  d  aa  g  e  ...     0     0     1     0   \n",
       "4208  8417  110.85   z  r  ae  c  d  aa  g  w  ...     1     0     0     0   \n",
       "\n",
       "      X379  X380  X382  X383  X384  X385  \n",
       "0        0     0     0     0     0     0  \n",
       "6        0     0     0     0     0     0  \n",
       "8        0     0     0     0     0     0  \n",
       "9        0     0     0     0     0     0  \n",
       "10       0     0     0     0     0     0  \n",
       "...    ...   ...   ...   ...   ...   ...  \n",
       "4202     0     0     0     0     0     0  \n",
       "4204     0     0     0     0     0     0  \n",
       "4205     0     0     0     0     0     0  \n",
       "4206     0     0     0     0     0     0  \n",
       "4208     0     0     0     0     0     0  \n",
       "\n",
       "[2004 rows x 378 columns]"
      ]
     },
     "execution_count": 31,
     "metadata": {},
     "output_type": "execute_result"
    }
   ],
   "source": [
    "# In y column, wherever value > 100, fetch the value\n",
    "df[df['y'] > 100]"
   ]
  },
  {
   "cell_type": "code",
   "execution_count": null,
   "id": "e8c4efae",
   "metadata": {},
   "outputs": [],
   "source": [
    "\n"
   ]
  },
  {
   "cell_type": "code",
   "execution_count": 32,
   "id": "da650ff7",
   "metadata": {},
   "outputs": [],
   "source": [
    "data = ('column1,column2,column3\\n'\n",
    "            'x,y,1\\n'\n",
    "            'a,b,2\\n'\n",
    "            'c,d,3')"
   ]
  },
  {
   "cell_type": "code",
   "execution_count": 33,
   "id": "47c83d06",
   "metadata": {},
   "outputs": [
    {
     "data": {
      "text/plain": [
       "str"
      ]
     },
     "execution_count": 33,
     "metadata": {},
     "output_type": "execute_result"
    }
   ],
   "source": [
    "type(data)"
   ]
  },
  {
   "cell_type": "code",
   "execution_count": 34,
   "id": "40e6a6aa",
   "metadata": {},
   "outputs": [
    {
     "data": {
      "text/html": [
       "<div>\n",
       "<style scoped>\n",
       "    .dataframe tbody tr th:only-of-type {\n",
       "        vertical-align: middle;\n",
       "    }\n",
       "\n",
       "    .dataframe tbody tr th {\n",
       "        vertical-align: top;\n",
       "    }\n",
       "\n",
       "    .dataframe thead th {\n",
       "        text-align: right;\n",
       "    }\n",
       "</style>\n",
       "<table border=\"1\" class=\"dataframe\">\n",
       "  <thead>\n",
       "    <tr style=\"text-align: right;\">\n",
       "      <th></th>\n",
       "      <th>column1</th>\n",
       "      <th>column2</th>\n",
       "      <th>column3</th>\n",
       "    </tr>\n",
       "  </thead>\n",
       "  <tbody>\n",
       "    <tr>\n",
       "      <th>0</th>\n",
       "      <td>x</td>\n",
       "      <td>y</td>\n",
       "      <td>1</td>\n",
       "    </tr>\n",
       "    <tr>\n",
       "      <th>1</th>\n",
       "      <td>a</td>\n",
       "      <td>b</td>\n",
       "      <td>2</td>\n",
       "    </tr>\n",
       "    <tr>\n",
       "      <th>2</th>\n",
       "      <td>c</td>\n",
       "      <td>d</td>\n",
       "      <td>3</td>\n",
       "    </tr>\n",
       "  </tbody>\n",
       "</table>\n",
       "</div>"
      ],
      "text/plain": [
       "  column1 column2  column3\n",
       "0       x       y        1\n",
       "1       a       b        2\n",
       "2       c       d        3"
      ]
     },
     "execution_count": 34,
     "metadata": {},
     "output_type": "execute_result"
    }
   ],
   "source": [
    "pd.read_csv(StringIO(data))"
   ]
  },
  {
   "cell_type": "code",
   "execution_count": 35,
   "id": "9d320434",
   "metadata": {},
   "outputs": [],
   "source": [
    "# Read from specific columns\n",
    "df = pd.read_csv(StringIO(data), usecols=['column1','column3'])"
   ]
  },
  {
   "cell_type": "code",
   "execution_count": 36,
   "id": "59ce3bcc",
   "metadata": {},
   "outputs": [
    {
     "data": {
      "text/html": [
       "<div>\n",
       "<style scoped>\n",
       "    .dataframe tbody tr th:only-of-type {\n",
       "        vertical-align: middle;\n",
       "    }\n",
       "\n",
       "    .dataframe tbody tr th {\n",
       "        vertical-align: top;\n",
       "    }\n",
       "\n",
       "    .dataframe thead th {\n",
       "        text-align: right;\n",
       "    }\n",
       "</style>\n",
       "<table border=\"1\" class=\"dataframe\">\n",
       "  <thead>\n",
       "    <tr style=\"text-align: right;\">\n",
       "      <th></th>\n",
       "      <th>column1</th>\n",
       "      <th>column3</th>\n",
       "    </tr>\n",
       "  </thead>\n",
       "  <tbody>\n",
       "    <tr>\n",
       "      <th>0</th>\n",
       "      <td>x</td>\n",
       "      <td>1</td>\n",
       "    </tr>\n",
       "    <tr>\n",
       "      <th>1</th>\n",
       "      <td>a</td>\n",
       "      <td>2</td>\n",
       "    </tr>\n",
       "    <tr>\n",
       "      <th>2</th>\n",
       "      <td>c</td>\n",
       "      <td>3</td>\n",
       "    </tr>\n",
       "  </tbody>\n",
       "</table>\n",
       "</div>"
      ],
      "text/plain": [
       "  column1  column3\n",
       "0       x        1\n",
       "1       a        2\n",
       "2       c        3"
      ]
     },
     "execution_count": 36,
     "metadata": {},
     "output_type": "execute_result"
    }
   ],
   "source": [
    "df"
   ]
  },
  {
   "cell_type": "code",
   "execution_count": 37,
   "id": "00e7a41d",
   "metadata": {},
   "outputs": [],
   "source": [
    "df.to_csv('Demo2.csv')"
   ]
  },
  {
   "cell_type": "code",
   "execution_count": 38,
   "id": "70e9690f",
   "metadata": {},
   "outputs": [],
   "source": [
    "# add another data\n",
    "data = ('a,b,c,d\\n'\n",
    "            '1,2,3,4\\n'\n",
    "            '5,6,7,8\\n'\n",
    "            '9,10,11')"
   ]
  },
  {
   "cell_type": "code",
   "execution_count": 39,
   "id": "a4384391",
   "metadata": {},
   "outputs": [
    {
     "data": {
      "text/plain": [
       "str"
      ]
     },
     "execution_count": 39,
     "metadata": {},
     "output_type": "execute_result"
    }
   ],
   "source": [
    "type(data)"
   ]
  },
  {
   "cell_type": "code",
   "execution_count": 40,
   "id": "ea7f152a",
   "metadata": {},
   "outputs": [],
   "source": [
    "df = pd.read_csv(StringIO(data), dtype=object)"
   ]
  },
  {
   "cell_type": "code",
   "execution_count": 41,
   "id": "4b167044",
   "metadata": {},
   "outputs": [
    {
     "data": {
      "text/html": [
       "<div>\n",
       "<style scoped>\n",
       "    .dataframe tbody tr th:only-of-type {\n",
       "        vertical-align: middle;\n",
       "    }\n",
       "\n",
       "    .dataframe tbody tr th {\n",
       "        vertical-align: top;\n",
       "    }\n",
       "\n",
       "    .dataframe thead th {\n",
       "        text-align: right;\n",
       "    }\n",
       "</style>\n",
       "<table border=\"1\" class=\"dataframe\">\n",
       "  <thead>\n",
       "    <tr style=\"text-align: right;\">\n",
       "      <th></th>\n",
       "      <th>a</th>\n",
       "      <th>b</th>\n",
       "      <th>c</th>\n",
       "      <th>d</th>\n",
       "    </tr>\n",
       "  </thead>\n",
       "  <tbody>\n",
       "    <tr>\n",
       "      <th>0</th>\n",
       "      <td>1</td>\n",
       "      <td>2</td>\n",
       "      <td>3</td>\n",
       "      <td>4</td>\n",
       "    </tr>\n",
       "    <tr>\n",
       "      <th>1</th>\n",
       "      <td>5</td>\n",
       "      <td>6</td>\n",
       "      <td>7</td>\n",
       "      <td>8</td>\n",
       "    </tr>\n",
       "    <tr>\n",
       "      <th>2</th>\n",
       "      <td>9</td>\n",
       "      <td>10</td>\n",
       "      <td>11</td>\n",
       "      <td>NaN</td>\n",
       "    </tr>\n",
       "  </tbody>\n",
       "</table>\n",
       "</div>"
      ],
      "text/plain": [
       "   a   b   c    d\n",
       "0  1   2   3    4\n",
       "1  5   6   7    8\n",
       "2  9  10  11  NaN"
      ]
     },
     "execution_count": 41,
     "metadata": {},
     "output_type": "execute_result"
    }
   ],
   "source": [
    "df"
   ]
  },
  {
   "cell_type": "code",
   "execution_count": 42,
   "id": "66b868b7",
   "metadata": {},
   "outputs": [
    {
     "data": {
      "text/plain": [
       "0    1\n",
       "1    5\n",
       "2    9\n",
       "Name: a, dtype: object"
      ]
     },
     "execution_count": 42,
     "metadata": {},
     "output_type": "execute_result"
    }
   ],
   "source": [
    "df['a']"
   ]
  },
  {
   "cell_type": "code",
   "execution_count": 43,
   "id": "ebf0a749",
   "metadata": {},
   "outputs": [
    {
     "data": {
      "text/plain": [
       "'5'"
      ]
     },
     "execution_count": 43,
     "metadata": {},
     "output_type": "execute_result"
    }
   ],
   "source": [
    "df['a'][1]"
   ]
  },
  {
   "cell_type": "code",
   "execution_count": 44,
   "id": "fa818f62",
   "metadata": {},
   "outputs": [],
   "source": [
    "# see I have added 19 at last to perform some operation\n",
    "data = ('a,b,c,d\\n'\n",
    "            '1,2,3,4\\n'\n",
    "            '5,6,7,8\\n'\n",
    "            '9,10,11, 19')"
   ]
  },
  {
   "cell_type": "code",
   "execution_count": 45,
   "id": "cf2ae187",
   "metadata": {},
   "outputs": [],
   "source": [
    "df = pd.read_csv(StringIO(data), dtype=int)"
   ]
  },
  {
   "cell_type": "code",
   "execution_count": 46,
   "id": "89597923",
   "metadata": {},
   "outputs": [
    {
     "data": {
      "text/html": [
       "<div>\n",
       "<style scoped>\n",
       "    .dataframe tbody tr th:only-of-type {\n",
       "        vertical-align: middle;\n",
       "    }\n",
       "\n",
       "    .dataframe tbody tr th {\n",
       "        vertical-align: top;\n",
       "    }\n",
       "\n",
       "    .dataframe thead th {\n",
       "        text-align: right;\n",
       "    }\n",
       "</style>\n",
       "<table border=\"1\" class=\"dataframe\">\n",
       "  <thead>\n",
       "    <tr style=\"text-align: right;\">\n",
       "      <th></th>\n",
       "      <th>a</th>\n",
       "      <th>b</th>\n",
       "      <th>c</th>\n",
       "      <th>d</th>\n",
       "    </tr>\n",
       "  </thead>\n",
       "  <tbody>\n",
       "    <tr>\n",
       "      <th>0</th>\n",
       "      <td>1</td>\n",
       "      <td>2</td>\n",
       "      <td>3</td>\n",
       "      <td>4</td>\n",
       "    </tr>\n",
       "    <tr>\n",
       "      <th>1</th>\n",
       "      <td>5</td>\n",
       "      <td>6</td>\n",
       "      <td>7</td>\n",
       "      <td>8</td>\n",
       "    </tr>\n",
       "    <tr>\n",
       "      <th>2</th>\n",
       "      <td>9</td>\n",
       "      <td>10</td>\n",
       "      <td>11</td>\n",
       "      <td>19</td>\n",
       "    </tr>\n",
       "  </tbody>\n",
       "</table>\n",
       "</div>"
      ],
      "text/plain": [
       "   a   b   c   d\n",
       "0  1   2   3   4\n",
       "1  5   6   7   8\n",
       "2  9  10  11  19"
      ]
     },
     "execution_count": 46,
     "metadata": {},
     "output_type": "execute_result"
    }
   ],
   "source": [
    "df"
   ]
  },
  {
   "cell_type": "code",
   "execution_count": 47,
   "id": "2aaf9a1a",
   "metadata": {},
   "outputs": [],
   "source": [
    "df = pd.read_csv(StringIO(data), dtype=float)"
   ]
  },
  {
   "cell_type": "code",
   "execution_count": 48,
   "id": "5e709bee",
   "metadata": {},
   "outputs": [
    {
     "data": {
      "text/html": [
       "<div>\n",
       "<style scoped>\n",
       "    .dataframe tbody tr th:only-of-type {\n",
       "        vertical-align: middle;\n",
       "    }\n",
       "\n",
       "    .dataframe tbody tr th {\n",
       "        vertical-align: top;\n",
       "    }\n",
       "\n",
       "    .dataframe thead th {\n",
       "        text-align: right;\n",
       "    }\n",
       "</style>\n",
       "<table border=\"1\" class=\"dataframe\">\n",
       "  <thead>\n",
       "    <tr style=\"text-align: right;\">\n",
       "      <th></th>\n",
       "      <th>a</th>\n",
       "      <th>b</th>\n",
       "      <th>c</th>\n",
       "      <th>d</th>\n",
       "    </tr>\n",
       "  </thead>\n",
       "  <tbody>\n",
       "    <tr>\n",
       "      <th>0</th>\n",
       "      <td>1.0</td>\n",
       "      <td>2.0</td>\n",
       "      <td>3.0</td>\n",
       "      <td>4.0</td>\n",
       "    </tr>\n",
       "    <tr>\n",
       "      <th>1</th>\n",
       "      <td>5.0</td>\n",
       "      <td>6.0</td>\n",
       "      <td>7.0</td>\n",
       "      <td>8.0</td>\n",
       "    </tr>\n",
       "    <tr>\n",
       "      <th>2</th>\n",
       "      <td>9.0</td>\n",
       "      <td>10.0</td>\n",
       "      <td>11.0</td>\n",
       "      <td>19.0</td>\n",
       "    </tr>\n",
       "  </tbody>\n",
       "</table>\n",
       "</div>"
      ],
      "text/plain": [
       "     a     b     c     d\n",
       "0  1.0   2.0   3.0   4.0\n",
       "1  5.0   6.0   7.0   8.0\n",
       "2  9.0  10.0  11.0  19.0"
      ]
     },
     "execution_count": 48,
     "metadata": {},
     "output_type": "execute_result"
    }
   ],
   "source": [
    "df"
   ]
  },
  {
   "cell_type": "code",
   "execution_count": 49,
   "id": "bfae59ba",
   "metadata": {},
   "outputs": [],
   "source": [
    "# specify different data type to different column\n",
    "df = pd.read_csv(StringIO(data), dtype={'b':str, 'd':float, 'c':'Int32'})"
   ]
  },
  {
   "cell_type": "code",
   "execution_count": 50,
   "id": "039ec476",
   "metadata": {},
   "outputs": [
    {
     "data": {
      "text/html": [
       "<div>\n",
       "<style scoped>\n",
       "    .dataframe tbody tr th:only-of-type {\n",
       "        vertical-align: middle;\n",
       "    }\n",
       "\n",
       "    .dataframe tbody tr th {\n",
       "        vertical-align: top;\n",
       "    }\n",
       "\n",
       "    .dataframe thead th {\n",
       "        text-align: right;\n",
       "    }\n",
       "</style>\n",
       "<table border=\"1\" class=\"dataframe\">\n",
       "  <thead>\n",
       "    <tr style=\"text-align: right;\">\n",
       "      <th></th>\n",
       "      <th>a</th>\n",
       "      <th>b</th>\n",
       "      <th>c</th>\n",
       "      <th>d</th>\n",
       "    </tr>\n",
       "  </thead>\n",
       "  <tbody>\n",
       "    <tr>\n",
       "      <th>0</th>\n",
       "      <td>1</td>\n",
       "      <td>2</td>\n",
       "      <td>3</td>\n",
       "      <td>4.0</td>\n",
       "    </tr>\n",
       "    <tr>\n",
       "      <th>1</th>\n",
       "      <td>5</td>\n",
       "      <td>6</td>\n",
       "      <td>7</td>\n",
       "      <td>8.0</td>\n",
       "    </tr>\n",
       "    <tr>\n",
       "      <th>2</th>\n",
       "      <td>9</td>\n",
       "      <td>10</td>\n",
       "      <td>11</td>\n",
       "      <td>19.0</td>\n",
       "    </tr>\n",
       "  </tbody>\n",
       "</table>\n",
       "</div>"
      ],
      "text/plain": [
       "   a   b   c     d\n",
       "0  1   2   3   4.0\n",
       "1  5   6   7   8.0\n",
       "2  9  10  11  19.0"
      ]
     },
     "execution_count": 50,
     "metadata": {},
     "output_type": "execute_result"
    }
   ],
   "source": [
    "df"
   ]
  },
  {
   "cell_type": "code",
   "execution_count": 51,
   "id": "fe4eecfb",
   "metadata": {},
   "outputs": [
    {
     "data": {
      "text/plain": [
       "numpy.int64"
      ]
     },
     "execution_count": 51,
     "metadata": {},
     "output_type": "execute_result"
    }
   ],
   "source": [
    "type(df['a'][0])"
   ]
  },
  {
   "cell_type": "code",
   "execution_count": 52,
   "id": "b260b9ae",
   "metadata": {},
   "outputs": [
    {
     "data": {
      "text/plain": [
       "str"
      ]
     },
     "execution_count": 52,
     "metadata": {},
     "output_type": "execute_result"
    }
   ],
   "source": [
    "type(df['b'][1])"
   ]
  },
  {
   "cell_type": "code",
   "execution_count": 53,
   "id": "7193157b",
   "metadata": {},
   "outputs": [
    {
     "data": {
      "text/plain": [
       "numpy.int32"
      ]
     },
     "execution_count": 53,
     "metadata": {},
     "output_type": "execute_result"
    }
   ],
   "source": [
    "type(df['c'][2])"
   ]
  },
  {
   "cell_type": "code",
   "execution_count": 54,
   "id": "a79f2f34",
   "metadata": {},
   "outputs": [
    {
     "data": {
      "text/plain": [
       "numpy.float64"
      ]
     },
     "execution_count": 54,
     "metadata": {},
     "output_type": "execute_result"
    }
   ],
   "source": [
    "type(df['d'][2])"
   ]
  },
  {
   "cell_type": "code",
   "execution_count": 55,
   "id": "628bcd2d",
   "metadata": {},
   "outputs": [
    {
     "data": {
      "text/plain": [
       "a      int64\n",
       "b     object\n",
       "c      Int32\n",
       "d    float64\n",
       "dtype: object"
      ]
     },
     "execution_count": 55,
     "metadata": {},
     "output_type": "execute_result"
    }
   ],
   "source": [
    "# check data type of each column\n",
    "df.dtypes"
   ]
  },
  {
   "cell_type": "code",
   "execution_count": 56,
   "id": "26ef0b3a",
   "metadata": {},
   "outputs": [],
   "source": [
    "# index_col\n",
    "data = ('index,a,b,c\\n'\n",
    "           '4,apple,bat,5.7\\n'\n",
    "            '8,orange,cow,10')"
   ]
  },
  {
   "cell_type": "code",
   "execution_count": 57,
   "id": "75da992d",
   "metadata": {},
   "outputs": [
    {
     "data": {
      "text/plain": [
       "_io.StringIO"
      ]
     },
     "execution_count": 57,
     "metadata": {},
     "output_type": "execute_result"
    }
   ],
   "source": [
    "type(StringIO(data))"
   ]
  },
  {
   "cell_type": "code",
   "execution_count": 58,
   "id": "e22635dc",
   "metadata": {},
   "outputs": [
    {
     "data": {
      "text/html": [
       "<div>\n",
       "<style scoped>\n",
       "    .dataframe tbody tr th:only-of-type {\n",
       "        vertical-align: middle;\n",
       "    }\n",
       "\n",
       "    .dataframe tbody tr th {\n",
       "        vertical-align: top;\n",
       "    }\n",
       "\n",
       "    .dataframe thead th {\n",
       "        text-align: right;\n",
       "    }\n",
       "</style>\n",
       "<table border=\"1\" class=\"dataframe\">\n",
       "  <thead>\n",
       "    <tr style=\"text-align: right;\">\n",
       "      <th></th>\n",
       "      <th>index</th>\n",
       "      <th>b</th>\n",
       "      <th>c</th>\n",
       "    </tr>\n",
       "    <tr>\n",
       "      <th>a</th>\n",
       "      <th></th>\n",
       "      <th></th>\n",
       "      <th></th>\n",
       "    </tr>\n",
       "  </thead>\n",
       "  <tbody>\n",
       "    <tr>\n",
       "      <th>apple</th>\n",
       "      <td>4</td>\n",
       "      <td>bat</td>\n",
       "      <td>5.7</td>\n",
       "    </tr>\n",
       "    <tr>\n",
       "      <th>orange</th>\n",
       "      <td>8</td>\n",
       "      <td>cow</td>\n",
       "      <td>10.0</td>\n",
       "    </tr>\n",
       "  </tbody>\n",
       "</table>\n",
       "</div>"
      ],
      "text/plain": [
       "        index    b     c\n",
       "a                       \n",
       "apple       4  bat   5.7\n",
       "orange      8  cow  10.0"
      ]
     },
     "execution_count": 58,
     "metadata": {},
     "output_type": "execute_result"
    }
   ],
   "source": [
    "# index_col helps to makes column as index\n",
    "# here you can make any column as index\n",
    "pd.read_csv(StringIO(data), index_col=1)"
   ]
  },
  {
   "cell_type": "code",
   "execution_count": 59,
   "id": "6d1626d6",
   "metadata": {},
   "outputs": [
    {
     "data": {
      "text/html": [
       "<div>\n",
       "<style scoped>\n",
       "    .dataframe tbody tr th:only-of-type {\n",
       "        vertical-align: middle;\n",
       "    }\n",
       "\n",
       "    .dataframe tbody tr th {\n",
       "        vertical-align: top;\n",
       "    }\n",
       "\n",
       "    .dataframe thead th {\n",
       "        text-align: right;\n",
       "    }\n",
       "</style>\n",
       "<table border=\"1\" class=\"dataframe\">\n",
       "  <thead>\n",
       "    <tr style=\"text-align: right;\">\n",
       "      <th></th>\n",
       "      <th>a</th>\n",
       "      <th>b</th>\n",
       "      <th>c</th>\n",
       "    </tr>\n",
       "    <tr>\n",
       "      <th>index</th>\n",
       "      <th></th>\n",
       "      <th></th>\n",
       "      <th></th>\n",
       "    </tr>\n",
       "  </thead>\n",
       "  <tbody>\n",
       "    <tr>\n",
       "      <th>4</th>\n",
       "      <td>apple</td>\n",
       "      <td>bat</td>\n",
       "      <td>5.7</td>\n",
       "    </tr>\n",
       "    <tr>\n",
       "      <th>8</th>\n",
       "      <td>orange</td>\n",
       "      <td>cow</td>\n",
       "      <td>10.0</td>\n",
       "    </tr>\n",
       "  </tbody>\n",
       "</table>\n",
       "</div>"
      ],
      "text/plain": [
       "            a    b     c\n",
       "index                   \n",
       "4       apple  bat   5.7\n",
       "8      orange  cow  10.0"
      ]
     },
     "execution_count": 59,
     "metadata": {},
     "output_type": "execute_result"
    }
   ],
   "source": [
    "\n",
    "pd.read_csv(StringIO(data), index_col=0)"
   ]
  },
  {
   "cell_type": "code",
   "execution_count": 60,
   "id": "508a7bb2",
   "metadata": {},
   "outputs": [],
   "source": [
    "data = ('a,b,c\\n'\n",
    "           '4,apple,bat,\\n'\n",
    "            '8,orange,cow,')"
   ]
  },
  {
   "cell_type": "code",
   "execution_count": 61,
   "id": "0b0ddf26",
   "metadata": {},
   "outputs": [
    {
     "data": {
      "text/html": [
       "<div>\n",
       "<style scoped>\n",
       "    .dataframe tbody tr th:only-of-type {\n",
       "        vertical-align: middle;\n",
       "    }\n",
       "\n",
       "    .dataframe tbody tr th {\n",
       "        vertical-align: top;\n",
       "    }\n",
       "\n",
       "    .dataframe thead th {\n",
       "        text-align: right;\n",
       "    }\n",
       "</style>\n",
       "<table border=\"1\" class=\"dataframe\">\n",
       "  <thead>\n",
       "    <tr style=\"text-align: right;\">\n",
       "      <th></th>\n",
       "      <th>a</th>\n",
       "      <th>b</th>\n",
       "      <th>c</th>\n",
       "    </tr>\n",
       "  </thead>\n",
       "  <tbody>\n",
       "    <tr>\n",
       "      <th>4</th>\n",
       "      <td>apple</td>\n",
       "      <td>bat</td>\n",
       "      <td>NaN</td>\n",
       "    </tr>\n",
       "    <tr>\n",
       "      <th>8</th>\n",
       "      <td>orange</td>\n",
       "      <td>cow</td>\n",
       "      <td>NaN</td>\n",
       "    </tr>\n",
       "  </tbody>\n",
       "</table>\n",
       "</div>"
      ],
      "text/plain": [
       "        a    b   c\n",
       "4   apple  bat NaN\n",
       "8  orange  cow NaN"
      ]
     },
     "execution_count": 61,
     "metadata": {},
     "output_type": "execute_result"
    }
   ],
   "source": [
    "pd.read_csv(StringIO(data))"
   ]
  },
  {
   "cell_type": "code",
   "execution_count": 62,
   "id": "79e7aafb",
   "metadata": {},
   "outputs": [
    {
     "data": {
      "text/html": [
       "<div>\n",
       "<style scoped>\n",
       "    .dataframe tbody tr th:only-of-type {\n",
       "        vertical-align: middle;\n",
       "    }\n",
       "\n",
       "    .dataframe tbody tr th {\n",
       "        vertical-align: top;\n",
       "    }\n",
       "\n",
       "    .dataframe thead th {\n",
       "        text-align: right;\n",
       "    }\n",
       "</style>\n",
       "<table border=\"1\" class=\"dataframe\">\n",
       "  <thead>\n",
       "    <tr style=\"text-align: right;\">\n",
       "      <th></th>\n",
       "      <th>a</th>\n",
       "      <th>b</th>\n",
       "      <th>c</th>\n",
       "    </tr>\n",
       "  </thead>\n",
       "  <tbody>\n",
       "    <tr>\n",
       "      <th>0</th>\n",
       "      <td>4</td>\n",
       "      <td>apple</td>\n",
       "      <td>bat</td>\n",
       "    </tr>\n",
       "    <tr>\n",
       "      <th>1</th>\n",
       "      <td>8</td>\n",
       "      <td>orange</td>\n",
       "      <td>cow</td>\n",
       "    </tr>\n",
       "  </tbody>\n",
       "</table>\n",
       "</div>"
      ],
      "text/plain": [
       "   a       b    c\n",
       "0  4   apple  bat\n",
       "1  8  orange  cow"
      ]
     },
     "execution_count": 62,
     "metadata": {},
     "output_type": "execute_result"
    }
   ],
   "source": [
    "pd.read_csv(StringIO(data), index_col = False)"
   ]
  },
  {
   "cell_type": "code",
   "execution_count": 63,
   "id": "b74eb391",
   "metadata": {},
   "outputs": [],
   "source": [
    "data = ('a,b,c\\n'\n",
    "           '4,apple,bat,\\n'\n",
    "            '8,orange,cow,')"
   ]
  },
  {
   "cell_type": "code",
   "execution_count": 64,
   "id": "6e4e1452",
   "metadata": {},
   "outputs": [
    {
     "data": {
      "text/html": [
       "<div>\n",
       "<style scoped>\n",
       "    .dataframe tbody tr th:only-of-type {\n",
       "        vertical-align: middle;\n",
       "    }\n",
       "\n",
       "    .dataframe tbody tr th {\n",
       "        vertical-align: top;\n",
       "    }\n",
       "\n",
       "    .dataframe thead th {\n",
       "        text-align: right;\n",
       "    }\n",
       "</style>\n",
       "<table border=\"1\" class=\"dataframe\">\n",
       "  <thead>\n",
       "    <tr style=\"text-align: right;\">\n",
       "      <th></th>\n",
       "      <th>a</th>\n",
       "      <th>c</th>\n",
       "    </tr>\n",
       "  </thead>\n",
       "  <tbody>\n",
       "    <tr>\n",
       "      <th>0</th>\n",
       "      <td>4</td>\n",
       "      <td>bat</td>\n",
       "    </tr>\n",
       "    <tr>\n",
       "      <th>1</th>\n",
       "      <td>8</td>\n",
       "      <td>cow</td>\n",
       "    </tr>\n",
       "  </tbody>\n",
       "</table>\n",
       "</div>"
      ],
      "text/plain": [
       "   a    c\n",
       "0  4  bat\n",
       "1  8  cow"
      ]
     },
     "execution_count": 64,
     "metadata": {},
     "output_type": "execute_result"
    }
   ],
   "source": [
    "pd.read_csv(StringIO(data), usecols=['a','c'], index_col=False)"
   ]
  },
  {
   "cell_type": "code",
   "execution_count": 65,
   "id": "d5832f81",
   "metadata": {},
   "outputs": [],
   "source": [
    "## Quoting and Escape Characters¶. Very useful in NLP\n",
    "\n",
    "data = 'a,b\\n\"hello, \\\\\"Bob\\\\\", nice to see you\",5'"
   ]
  },
  {
   "cell_type": "code",
   "execution_count": 66,
   "id": "a36b69af",
   "metadata": {},
   "outputs": [
    {
     "data": {
      "text/html": [
       "<div>\n",
       "<style scoped>\n",
       "    .dataframe tbody tr th:only-of-type {\n",
       "        vertical-align: middle;\n",
       "    }\n",
       "\n",
       "    .dataframe tbody tr th {\n",
       "        vertical-align: top;\n",
       "    }\n",
       "\n",
       "    .dataframe thead th {\n",
       "        text-align: right;\n",
       "    }\n",
       "</style>\n",
       "<table border=\"1\" class=\"dataframe\">\n",
       "  <thead>\n",
       "    <tr style=\"text-align: right;\">\n",
       "      <th></th>\n",
       "      <th>a</th>\n",
       "      <th>b</th>\n",
       "    </tr>\n",
       "  </thead>\n",
       "  <tbody>\n",
       "    <tr>\n",
       "      <th>0</th>\n",
       "      <td>hello, \"Bob\", nice to see you</td>\n",
       "      <td>5</td>\n",
       "    </tr>\n",
       "  </tbody>\n",
       "</table>\n",
       "</div>"
      ],
      "text/plain": [
       "                               a  b\n",
       "0  hello, \"Bob\", nice to see you  5"
      ]
     },
     "execution_count": 66,
     "metadata": {},
     "output_type": "execute_result"
    }
   ],
   "source": [
    "pd.read_csv(StringIO(data), escapechar='\\\\')"
   ]
  },
  {
   "cell_type": "code",
   "execution_count": null,
   "id": "ca410c46",
   "metadata": {},
   "outputs": [],
   "source": []
  },
  {
   "cell_type": "code",
   "execution_count": null,
   "id": "bc565fc7",
   "metadata": {},
   "outputs": [],
   "source": []
  },
  {
   "cell_type": "code",
   "execution_count": 67,
   "id": "df40c6ad",
   "metadata": {},
   "outputs": [],
   "source": [
    "\n",
    "# Pandas-Reading JSON,Reading HTML, Read PICKLE, Read EXCEL Files"
   ]
  },
  {
   "cell_type": "code",
   "execution_count": 68,
   "id": "722a6406",
   "metadata": {},
   "outputs": [
    {
     "data": {
      "text/html": [
       "<div>\n",
       "<style scoped>\n",
       "    .dataframe tbody tr th:only-of-type {\n",
       "        vertical-align: middle;\n",
       "    }\n",
       "\n",
       "    .dataframe tbody tr th {\n",
       "        vertical-align: top;\n",
       "    }\n",
       "\n",
       "    .dataframe thead th {\n",
       "        text-align: right;\n",
       "    }\n",
       "</style>\n",
       "<table border=\"1\" class=\"dataframe\">\n",
       "  <thead>\n",
       "    <tr style=\"text-align: right;\">\n",
       "      <th></th>\n",
       "      <th>employee_name</th>\n",
       "      <th>email</th>\n",
       "      <th>job_profile</th>\n",
       "    </tr>\n",
       "  </thead>\n",
       "  <tbody>\n",
       "    <tr>\n",
       "      <th>0</th>\n",
       "      <td>James</td>\n",
       "      <td>james@gmail.com</td>\n",
       "      <td>{'title1': 'Team Lead', 'title2': 'Sr. Develop...</td>\n",
       "    </tr>\n",
       "  </tbody>\n",
       "</table>\n",
       "</div>"
      ],
      "text/plain": [
       "  employee_name            email  \\\n",
       "0         James  james@gmail.com   \n",
       "\n",
       "                                         job_profile  \n",
       "0  {'title1': 'Team Lead', 'title2': 'Sr. Develop...  "
      ]
     },
     "execution_count": 68,
     "metadata": {},
     "output_type": "execute_result"
    }
   ],
   "source": [
    "Data = '{\"employee_name\": \"James\", \"email\": \"james@gmail.com\", \"job_profile\": [{\"title1\":\"Team Lead\", \"title2\":\"Sr. Developer\"}]}'\n",
    "pd.read_json(Data)"
   ]
  },
  {
   "cell_type": "code",
   "execution_count": 69,
   "id": "54d8f4be",
   "metadata": {},
   "outputs": [],
   "source": [
    "df = pd.read_csv('https://archive.ics.uci.edu/ml/machine-learning-databases/wine/wine.data', header=None)"
   ]
  },
  {
   "cell_type": "code",
   "execution_count": 70,
   "id": "143fd1f8",
   "metadata": {},
   "outputs": [
    {
     "data": {
      "text/html": [
       "<div>\n",
       "<style scoped>\n",
       "    .dataframe tbody tr th:only-of-type {\n",
       "        vertical-align: middle;\n",
       "    }\n",
       "\n",
       "    .dataframe tbody tr th {\n",
       "        vertical-align: top;\n",
       "    }\n",
       "\n",
       "    .dataframe thead th {\n",
       "        text-align: right;\n",
       "    }\n",
       "</style>\n",
       "<table border=\"1\" class=\"dataframe\">\n",
       "  <thead>\n",
       "    <tr style=\"text-align: right;\">\n",
       "      <th></th>\n",
       "      <th>0</th>\n",
       "      <th>1</th>\n",
       "      <th>2</th>\n",
       "      <th>3</th>\n",
       "      <th>4</th>\n",
       "      <th>5</th>\n",
       "      <th>6</th>\n",
       "      <th>7</th>\n",
       "      <th>8</th>\n",
       "      <th>9</th>\n",
       "      <th>10</th>\n",
       "      <th>11</th>\n",
       "      <th>12</th>\n",
       "      <th>13</th>\n",
       "    </tr>\n",
       "  </thead>\n",
       "  <tbody>\n",
       "    <tr>\n",
       "      <th>0</th>\n",
       "      <td>1</td>\n",
       "      <td>14.23</td>\n",
       "      <td>1.71</td>\n",
       "      <td>2.43</td>\n",
       "      <td>15.6</td>\n",
       "      <td>127</td>\n",
       "      <td>2.80</td>\n",
       "      <td>3.06</td>\n",
       "      <td>0.28</td>\n",
       "      <td>2.29</td>\n",
       "      <td>5.64</td>\n",
       "      <td>1.04</td>\n",
       "      <td>3.92</td>\n",
       "      <td>1065</td>\n",
       "    </tr>\n",
       "    <tr>\n",
       "      <th>1</th>\n",
       "      <td>1</td>\n",
       "      <td>13.20</td>\n",
       "      <td>1.78</td>\n",
       "      <td>2.14</td>\n",
       "      <td>11.2</td>\n",
       "      <td>100</td>\n",
       "      <td>2.65</td>\n",
       "      <td>2.76</td>\n",
       "      <td>0.26</td>\n",
       "      <td>1.28</td>\n",
       "      <td>4.38</td>\n",
       "      <td>1.05</td>\n",
       "      <td>3.40</td>\n",
       "      <td>1050</td>\n",
       "    </tr>\n",
       "    <tr>\n",
       "      <th>2</th>\n",
       "      <td>1</td>\n",
       "      <td>13.16</td>\n",
       "      <td>2.36</td>\n",
       "      <td>2.67</td>\n",
       "      <td>18.6</td>\n",
       "      <td>101</td>\n",
       "      <td>2.80</td>\n",
       "      <td>3.24</td>\n",
       "      <td>0.30</td>\n",
       "      <td>2.81</td>\n",
       "      <td>5.68</td>\n",
       "      <td>1.03</td>\n",
       "      <td>3.17</td>\n",
       "      <td>1185</td>\n",
       "    </tr>\n",
       "    <tr>\n",
       "      <th>3</th>\n",
       "      <td>1</td>\n",
       "      <td>14.37</td>\n",
       "      <td>1.95</td>\n",
       "      <td>2.50</td>\n",
       "      <td>16.8</td>\n",
       "      <td>113</td>\n",
       "      <td>3.85</td>\n",
       "      <td>3.49</td>\n",
       "      <td>0.24</td>\n",
       "      <td>2.18</td>\n",
       "      <td>7.80</td>\n",
       "      <td>0.86</td>\n",
       "      <td>3.45</td>\n",
       "      <td>1480</td>\n",
       "    </tr>\n",
       "    <tr>\n",
       "      <th>4</th>\n",
       "      <td>1</td>\n",
       "      <td>13.24</td>\n",
       "      <td>2.59</td>\n",
       "      <td>2.87</td>\n",
       "      <td>21.0</td>\n",
       "      <td>118</td>\n",
       "      <td>2.80</td>\n",
       "      <td>2.69</td>\n",
       "      <td>0.39</td>\n",
       "      <td>1.82</td>\n",
       "      <td>4.32</td>\n",
       "      <td>1.04</td>\n",
       "      <td>2.93</td>\n",
       "      <td>735</td>\n",
       "    </tr>\n",
       "    <tr>\n",
       "      <th>...</th>\n",
       "      <td>...</td>\n",
       "      <td>...</td>\n",
       "      <td>...</td>\n",
       "      <td>...</td>\n",
       "      <td>...</td>\n",
       "      <td>...</td>\n",
       "      <td>...</td>\n",
       "      <td>...</td>\n",
       "      <td>...</td>\n",
       "      <td>...</td>\n",
       "      <td>...</td>\n",
       "      <td>...</td>\n",
       "      <td>...</td>\n",
       "      <td>...</td>\n",
       "    </tr>\n",
       "    <tr>\n",
       "      <th>173</th>\n",
       "      <td>3</td>\n",
       "      <td>13.71</td>\n",
       "      <td>5.65</td>\n",
       "      <td>2.45</td>\n",
       "      <td>20.5</td>\n",
       "      <td>95</td>\n",
       "      <td>1.68</td>\n",
       "      <td>0.61</td>\n",
       "      <td>0.52</td>\n",
       "      <td>1.06</td>\n",
       "      <td>7.70</td>\n",
       "      <td>0.64</td>\n",
       "      <td>1.74</td>\n",
       "      <td>740</td>\n",
       "    </tr>\n",
       "    <tr>\n",
       "      <th>174</th>\n",
       "      <td>3</td>\n",
       "      <td>13.40</td>\n",
       "      <td>3.91</td>\n",
       "      <td>2.48</td>\n",
       "      <td>23.0</td>\n",
       "      <td>102</td>\n",
       "      <td>1.80</td>\n",
       "      <td>0.75</td>\n",
       "      <td>0.43</td>\n",
       "      <td>1.41</td>\n",
       "      <td>7.30</td>\n",
       "      <td>0.70</td>\n",
       "      <td>1.56</td>\n",
       "      <td>750</td>\n",
       "    </tr>\n",
       "    <tr>\n",
       "      <th>175</th>\n",
       "      <td>3</td>\n",
       "      <td>13.27</td>\n",
       "      <td>4.28</td>\n",
       "      <td>2.26</td>\n",
       "      <td>20.0</td>\n",
       "      <td>120</td>\n",
       "      <td>1.59</td>\n",
       "      <td>0.69</td>\n",
       "      <td>0.43</td>\n",
       "      <td>1.35</td>\n",
       "      <td>10.20</td>\n",
       "      <td>0.59</td>\n",
       "      <td>1.56</td>\n",
       "      <td>835</td>\n",
       "    </tr>\n",
       "    <tr>\n",
       "      <th>176</th>\n",
       "      <td>3</td>\n",
       "      <td>13.17</td>\n",
       "      <td>2.59</td>\n",
       "      <td>2.37</td>\n",
       "      <td>20.0</td>\n",
       "      <td>120</td>\n",
       "      <td>1.65</td>\n",
       "      <td>0.68</td>\n",
       "      <td>0.53</td>\n",
       "      <td>1.46</td>\n",
       "      <td>9.30</td>\n",
       "      <td>0.60</td>\n",
       "      <td>1.62</td>\n",
       "      <td>840</td>\n",
       "    </tr>\n",
       "    <tr>\n",
       "      <th>177</th>\n",
       "      <td>3</td>\n",
       "      <td>14.13</td>\n",
       "      <td>4.10</td>\n",
       "      <td>2.74</td>\n",
       "      <td>24.5</td>\n",
       "      <td>96</td>\n",
       "      <td>2.05</td>\n",
       "      <td>0.76</td>\n",
       "      <td>0.56</td>\n",
       "      <td>1.35</td>\n",
       "      <td>9.20</td>\n",
       "      <td>0.61</td>\n",
       "      <td>1.60</td>\n",
       "      <td>560</td>\n",
       "    </tr>\n",
       "  </tbody>\n",
       "</table>\n",
       "<p>178 rows × 14 columns</p>\n",
       "</div>"
      ],
      "text/plain": [
       "     0      1     2     3     4    5     6     7     8     9      10    11  \\\n",
       "0     1  14.23  1.71  2.43  15.6  127  2.80  3.06  0.28  2.29   5.64  1.04   \n",
       "1     1  13.20  1.78  2.14  11.2  100  2.65  2.76  0.26  1.28   4.38  1.05   \n",
       "2     1  13.16  2.36  2.67  18.6  101  2.80  3.24  0.30  2.81   5.68  1.03   \n",
       "3     1  14.37  1.95  2.50  16.8  113  3.85  3.49  0.24  2.18   7.80  0.86   \n",
       "4     1  13.24  2.59  2.87  21.0  118  2.80  2.69  0.39  1.82   4.32  1.04   \n",
       "..   ..    ...   ...   ...   ...  ...   ...   ...   ...   ...    ...   ...   \n",
       "173   3  13.71  5.65  2.45  20.5   95  1.68  0.61  0.52  1.06   7.70  0.64   \n",
       "174   3  13.40  3.91  2.48  23.0  102  1.80  0.75  0.43  1.41   7.30  0.70   \n",
       "175   3  13.27  4.28  2.26  20.0  120  1.59  0.69  0.43  1.35  10.20  0.59   \n",
       "176   3  13.17  2.59  2.37  20.0  120  1.65  0.68  0.53  1.46   9.30  0.60   \n",
       "177   3  14.13  4.10  2.74  24.5   96  2.05  0.76  0.56  1.35   9.20  0.61   \n",
       "\n",
       "       12    13  \n",
       "0    3.92  1065  \n",
       "1    3.40  1050  \n",
       "2    3.17  1185  \n",
       "3    3.45  1480  \n",
       "4    2.93   735  \n",
       "..    ...   ...  \n",
       "173  1.74   740  \n",
       "174  1.56   750  \n",
       "175  1.56   835  \n",
       "176  1.62   840  \n",
       "177  1.60   560  \n",
       "\n",
       "[178 rows x 14 columns]"
      ]
     },
     "execution_count": 70,
     "metadata": {},
     "output_type": "execute_result"
    }
   ],
   "source": [
    "df"
   ]
  },
  {
   "cell_type": "code",
   "execution_count": 71,
   "id": "34c06623",
   "metadata": {},
   "outputs": [],
   "source": [
    "\n",
    "df.to_csv('wine.csv')"
   ]
  },
  {
   "cell_type": "code",
   "execution_count": 72,
   "id": "c4893bd0",
   "metadata": {},
   "outputs": [
    {
     "data": {
      "text/html": [
       "<div>\n",
       "<style scoped>\n",
       "    .dataframe tbody tr th:only-of-type {\n",
       "        vertical-align: middle;\n",
       "    }\n",
       "\n",
       "    .dataframe tbody tr th {\n",
       "        vertical-align: top;\n",
       "    }\n",
       "\n",
       "    .dataframe thead th {\n",
       "        text-align: right;\n",
       "    }\n",
       "</style>\n",
       "<table border=\"1\" class=\"dataframe\">\n",
       "  <thead>\n",
       "    <tr style=\"text-align: right;\">\n",
       "      <th></th>\n",
       "      <th>0</th>\n",
       "      <th>1</th>\n",
       "      <th>2</th>\n",
       "      <th>3</th>\n",
       "      <th>4</th>\n",
       "      <th>5</th>\n",
       "      <th>6</th>\n",
       "      <th>7</th>\n",
       "      <th>8</th>\n",
       "      <th>9</th>\n",
       "      <th>10</th>\n",
       "      <th>11</th>\n",
       "      <th>12</th>\n",
       "      <th>13</th>\n",
       "    </tr>\n",
       "  </thead>\n",
       "  <tbody>\n",
       "    <tr>\n",
       "      <th>0</th>\n",
       "      <td>1</td>\n",
       "      <td>14.23</td>\n",
       "      <td>1.71</td>\n",
       "      <td>2.43</td>\n",
       "      <td>15.6</td>\n",
       "      <td>127</td>\n",
       "      <td>2.80</td>\n",
       "      <td>3.06</td>\n",
       "      <td>0.28</td>\n",
       "      <td>2.29</td>\n",
       "      <td>5.64</td>\n",
       "      <td>1.04</td>\n",
       "      <td>3.92</td>\n",
       "      <td>1065</td>\n",
       "    </tr>\n",
       "    <tr>\n",
       "      <th>1</th>\n",
       "      <td>1</td>\n",
       "      <td>13.20</td>\n",
       "      <td>1.78</td>\n",
       "      <td>2.14</td>\n",
       "      <td>11.2</td>\n",
       "      <td>100</td>\n",
       "      <td>2.65</td>\n",
       "      <td>2.76</td>\n",
       "      <td>0.26</td>\n",
       "      <td>1.28</td>\n",
       "      <td>4.38</td>\n",
       "      <td>1.05</td>\n",
       "      <td>3.40</td>\n",
       "      <td>1050</td>\n",
       "    </tr>\n",
       "    <tr>\n",
       "      <th>2</th>\n",
       "      <td>1</td>\n",
       "      <td>13.16</td>\n",
       "      <td>2.36</td>\n",
       "      <td>2.67</td>\n",
       "      <td>18.6</td>\n",
       "      <td>101</td>\n",
       "      <td>2.80</td>\n",
       "      <td>3.24</td>\n",
       "      <td>0.30</td>\n",
       "      <td>2.81</td>\n",
       "      <td>5.68</td>\n",
       "      <td>1.03</td>\n",
       "      <td>3.17</td>\n",
       "      <td>1185</td>\n",
       "    </tr>\n",
       "    <tr>\n",
       "      <th>3</th>\n",
       "      <td>1</td>\n",
       "      <td>14.37</td>\n",
       "      <td>1.95</td>\n",
       "      <td>2.50</td>\n",
       "      <td>16.8</td>\n",
       "      <td>113</td>\n",
       "      <td>3.85</td>\n",
       "      <td>3.49</td>\n",
       "      <td>0.24</td>\n",
       "      <td>2.18</td>\n",
       "      <td>7.80</td>\n",
       "      <td>0.86</td>\n",
       "      <td>3.45</td>\n",
       "      <td>1480</td>\n",
       "    </tr>\n",
       "    <tr>\n",
       "      <th>4</th>\n",
       "      <td>1</td>\n",
       "      <td>13.24</td>\n",
       "      <td>2.59</td>\n",
       "      <td>2.87</td>\n",
       "      <td>21.0</td>\n",
       "      <td>118</td>\n",
       "      <td>2.80</td>\n",
       "      <td>2.69</td>\n",
       "      <td>0.39</td>\n",
       "      <td>1.82</td>\n",
       "      <td>4.32</td>\n",
       "      <td>1.04</td>\n",
       "      <td>2.93</td>\n",
       "      <td>735</td>\n",
       "    </tr>\n",
       "  </tbody>\n",
       "</table>\n",
       "</div>"
      ],
      "text/plain": [
       "   0      1     2     3     4    5     6     7     8     9     10    11    12  \\\n",
       "0   1  14.23  1.71  2.43  15.6  127  2.80  3.06  0.28  2.29  5.64  1.04  3.92   \n",
       "1   1  13.20  1.78  2.14  11.2  100  2.65  2.76  0.26  1.28  4.38  1.05  3.40   \n",
       "2   1  13.16  2.36  2.67  18.6  101  2.80  3.24  0.30  2.81  5.68  1.03  3.17   \n",
       "3   1  14.37  1.95  2.50  16.8  113  3.85  3.49  0.24  2.18  7.80  0.86  3.45   \n",
       "4   1  13.24  2.59  2.87  21.0  118  2.80  2.69  0.39  1.82  4.32  1.04  2.93   \n",
       "\n",
       "     13  \n",
       "0  1065  \n",
       "1  1050  \n",
       "2  1185  \n",
       "3  1480  \n",
       "4   735  "
      ]
     },
     "execution_count": 72,
     "metadata": {},
     "output_type": "execute_result"
    }
   ],
   "source": [
    "df.head()"
   ]
  },
  {
   "cell_type": "code",
   "execution_count": 73,
   "id": "5950f6a2",
   "metadata": {},
   "outputs": [
    {
     "data": {
      "text/plain": [
       "'{\"0\":{\"0\":1,\"1\":1,\"2\":1,\"3\":1,\"4\":1,\"5\":1,\"6\":1,\"7\":1,\"8\":1,\"9\":1,\"10\":1,\"11\":1,\"12\":1,\"13\":1,\"14\":1,\"15\":1,\"16\":1,\"17\":1,\"18\":1,\"19\":1,\"20\":1,\"21\":1,\"22\":1,\"23\":1,\"24\":1,\"25\":1,\"26\":1,\"27\":1,\"28\":1,\"29\":1,\"30\":1,\"31\":1,\"32\":1,\"33\":1,\"34\":1,\"35\":1,\"36\":1,\"37\":1,\"38\":1,\"39\":1,\"40\":1,\"41\":1,\"42\":1,\"43\":1,\"44\":1,\"45\":1,\"46\":1,\"47\":1,\"48\":1,\"49\":1,\"50\":1,\"51\":1,\"52\":1,\"53\":1,\"54\":1,\"55\":1,\"56\":1,\"57\":1,\"58\":1,\"59\":2,\"60\":2,\"61\":2,\"62\":2,\"63\":2,\"64\":2,\"65\":2,\"66\":2,\"67\":2,\"68\":2,\"69\":2,\"70\":2,\"71\":2,\"72\":2,\"73\":2,\"74\":2,\"75\":2,\"76\":2,\"77\":2,\"78\":2,\"79\":2,\"80\":2,\"81\":2,\"82\":2,\"83\":2,\"84\":2,\"85\":2,\"86\":2,\"87\":2,\"88\":2,\"89\":2,\"90\":2,\"91\":2,\"92\":2,\"93\":2,\"94\":2,\"95\":2,\"96\":2,\"97\":2,\"98\":2,\"99\":2,\"100\":2,\"101\":2,\"102\":2,\"103\":2,\"104\":2,\"105\":2,\"106\":2,\"107\":2,\"108\":2,\"109\":2,\"110\":2,\"111\":2,\"112\":2,\"113\":2,\"114\":2,\"115\":2,\"116\":2,\"117\":2,\"118\":2,\"119\":2,\"120\":2,\"121\":2,\"122\":2,\"123\":2,\"124\":2,\"125\":2,\"126\":2,\"127\":2,\"128\":2,\"129\":2,\"130\":3,\"131\":3,\"132\":3,\"133\":3,\"134\":3,\"135\":3,\"136\":3,\"137\":3,\"138\":3,\"139\":3,\"140\":3,\"141\":3,\"142\":3,\"143\":3,\"144\":3,\"145\":3,\"146\":3,\"147\":3,\"148\":3,\"149\":3,\"150\":3,\"151\":3,\"152\":3,\"153\":3,\"154\":3,\"155\":3,\"156\":3,\"157\":3,\"158\":3,\"159\":3,\"160\":3,\"161\":3,\"162\":3,\"163\":3,\"164\":3,\"165\":3,\"166\":3,\"167\":3,\"168\":3,\"169\":3,\"170\":3,\"171\":3,\"172\":3,\"173\":3,\"174\":3,\"175\":3,\"176\":3,\"177\":3},\"1\":{\"0\":14.23,\"1\":13.2,\"2\":13.16,\"3\":14.37,\"4\":13.24,\"5\":14.2,\"6\":14.39,\"7\":14.06,\"8\":14.83,\"9\":13.86,\"10\":14.1,\"11\":14.12,\"12\":13.75,\"13\":14.75,\"14\":14.38,\"15\":13.63,\"16\":14.3,\"17\":13.83,\"18\":14.19,\"19\":13.64,\"20\":14.06,\"21\":12.93,\"22\":13.71,\"23\":12.85,\"24\":13.5,\"25\":13.05,\"26\":13.39,\"27\":13.3,\"28\":13.87,\"29\":14.02,\"30\":13.73,\"31\":13.58,\"32\":13.68,\"33\":13.76,\"34\":13.51,\"35\":13.48,\"36\":13.28,\"37\":13.05,\"38\":13.07,\"39\":14.22,\"40\":13.56,\"41\":13.41,\"42\":13.88,\"43\":13.24,\"44\":13.05,\"45\":14.21,\"46\":14.38,\"47\":13.9,\"48\":14.1,\"49\":13.94,\"50\":13.05,\"51\":13.83,\"52\":13.82,\"53\":13.77,\"54\":13.74,\"55\":13.56,\"56\":14.22,\"57\":13.29,\"58\":13.72,\"59\":12.37,\"60\":12.33,\"61\":12.64,\"62\":13.67,\"63\":12.37,\"64\":12.17,\"65\":12.37,\"66\":13.11,\"67\":12.37,\"68\":13.34,\"69\":12.21,\"70\":12.29,\"71\":13.86,\"72\":13.49,\"73\":12.99,\"74\":11.96,\"75\":11.66,\"76\":13.03,\"77\":11.84,\"78\":12.33,\"79\":12.7,\"80\":12.0,\"81\":12.72,\"82\":12.08,\"83\":13.05,\"84\":11.84,\"85\":12.67,\"86\":12.16,\"87\":11.65,\"88\":11.64,\"89\":12.08,\"90\":12.08,\"91\":12.0,\"92\":12.69,\"93\":12.29,\"94\":11.62,\"95\":12.47,\"96\":11.81,\"97\":12.29,\"98\":12.37,\"99\":12.29,\"100\":12.08,\"101\":12.6,\"102\":12.34,\"103\":11.82,\"104\":12.51,\"105\":12.42,\"106\":12.25,\"107\":12.72,\"108\":12.22,\"109\":11.61,\"110\":11.46,\"111\":12.52,\"112\":11.76,\"113\":11.41,\"114\":12.08,\"115\":11.03,\"116\":11.82,\"117\":12.42,\"118\":12.77,\"119\":12.0,\"120\":11.45,\"121\":11.56,\"122\":12.42,\"123\":13.05,\"124\":11.87,\"125\":12.07,\"126\":12.43,\"127\":11.79,\"128\":12.37,\"129\":12.04,\"130\":12.86,\"131\":12.88,\"132\":12.81,\"133\":12.7,\"134\":12.51,\"135\":12.6,\"136\":12.25,\"137\":12.53,\"138\":13.49,\"139\":12.84,\"140\":12.93,\"141\":13.36,\"142\":13.52,\"143\":13.62,\"144\":12.25,\"145\":13.16,\"146\":13.88,\"147\":12.87,\"148\":13.32,\"149\":13.08,\"150\":13.5,\"151\":12.79,\"152\":13.11,\"153\":13.23,\"154\":12.58,\"155\":13.17,\"156\":13.84,\"157\":12.45,\"158\":14.34,\"159\":13.48,\"160\":12.36,\"161\":13.69,\"162\":12.85,\"163\":12.96,\"164\":13.78,\"165\":13.73,\"166\":13.45,\"167\":12.82,\"168\":13.58,\"169\":13.4,\"170\":12.2,\"171\":12.77,\"172\":14.16,\"173\":13.71,\"174\":13.4,\"175\":13.27,\"176\":13.17,\"177\":14.13},\"2\":{\"0\":1.71,\"1\":1.78,\"2\":2.36,\"3\":1.95,\"4\":2.59,\"5\":1.76,\"6\":1.87,\"7\":2.15,\"8\":1.64,\"9\":1.35,\"10\":2.16,\"11\":1.48,\"12\":1.73,\"13\":1.73,\"14\":1.87,\"15\":1.81,\"16\":1.92,\"17\":1.57,\"18\":1.59,\"19\":3.1,\"20\":1.63,\"21\":3.8,\"22\":1.86,\"23\":1.6,\"24\":1.81,\"25\":2.05,\"26\":1.77,\"27\":1.72,\"28\":1.9,\"29\":1.68,\"30\":1.5,\"31\":1.66,\"32\":1.83,\"33\":1.53,\"34\":1.8,\"35\":1.81,\"36\":1.64,\"37\":1.65,\"38\":1.5,\"39\":3.99,\"40\":1.71,\"41\":3.84,\"42\":1.89,\"43\":3.98,\"44\":1.77,\"45\":4.04,\"46\":3.59,\"47\":1.68,\"48\":2.02,\"49\":1.73,\"50\":1.73,\"51\":1.65,\"52\":1.75,\"53\":1.9,\"54\":1.67,\"55\":1.73,\"56\":1.7,\"57\":1.97,\"58\":1.43,\"59\":0.94,\"60\":1.1,\"61\":1.36,\"62\":1.25,\"63\":1.13,\"64\":1.45,\"65\":1.21,\"66\":1.01,\"67\":1.17,\"68\":0.94,\"69\":1.19,\"70\":1.61,\"71\":1.51,\"72\":1.66,\"73\":1.67,\"74\":1.09,\"75\":1.88,\"76\":0.9,\"77\":2.89,\"78\":0.99,\"79\":3.87,\"80\":0.92,\"81\":1.81,\"82\":1.13,\"83\":3.86,\"84\":0.89,\"85\":0.98,\"86\":1.61,\"87\":1.67,\"88\":2.06,\"89\":1.33,\"90\":1.83,\"91\":1.51,\"92\":1.53,\"93\":2.83,\"94\":1.99,\"95\":1.52,\"96\":2.12,\"97\":1.41,\"98\":1.07,\"99\":3.17,\"100\":2.08,\"101\":1.34,\"102\":2.45,\"103\":1.72,\"104\":1.73,\"105\":2.55,\"106\":1.73,\"107\":1.75,\"108\":1.29,\"109\":1.35,\"110\":3.74,\"111\":2.43,\"112\":2.68,\"113\":0.74,\"114\":1.39,\"115\":1.51,\"116\":1.47,\"117\":1.61,\"118\":3.43,\"119\":3.43,\"120\":2.4,\"121\":2.05,\"122\":4.43,\"123\":5.8,\"124\":4.31,\"125\":2.16,\"126\":1.53,\"127\":2.13,\"128\":1.63,\"129\":4.3,\"130\":1.35,\"131\":2.99,\"132\":2.31,\"133\":3.55,\"134\":1.24,\"135\":2.46,\"136\":4.72,\"137\":5.51,\"138\":3.59,\"139\":2.96,\"140\":2.81,\"141\":2.56,\"142\":3.17,\"143\":4.95,\"144\":3.88,\"145\":3.57,\"146\":5.04,\"147\":4.61,\"148\":3.24,\"149\":3.9,\"150\":3.12,\"151\":2.67,\"152\":1.9,\"153\":3.3,\"154\":1.29,\"155\":5.19,\"156\":4.12,\"157\":3.03,\"158\":1.68,\"159\":1.67,\"160\":3.83,\"161\":3.26,\"162\":3.27,\"163\":3.45,\"164\":2.76,\"165\":4.36,\"166\":3.7,\"167\":3.37,\"168\":2.58,\"169\":4.6,\"170\":3.03,\"171\":2.39,\"172\":2.51,\"173\":5.65,\"174\":3.91,\"175\":4.28,\"176\":2.59,\"177\":4.1},\"3\":{\"0\":2.43,\"1\":2.14,\"2\":2.67,\"3\":2.5,\"4\":2.87,\"5\":2.45,\"6\":2.45,\"7\":2.61,\"8\":2.17,\"9\":2.27,\"10\":2.3,\"11\":2.32,\"12\":2.41,\"13\":2.39,\"14\":2.38,\"15\":2.7,\"16\":2.72,\"17\":2.62,\"18\":2.48,\"19\":2.56,\"20\":2.28,\"21\":2.65,\"22\":2.36,\"23\":2.52,\"24\":2.61,\"25\":3.22,\"26\":2.62,\"27\":2.14,\"28\":2.8,\"29\":2.21,\"30\":2.7,\"31\":2.36,\"32\":2.36,\"33\":2.7,\"34\":2.65,\"35\":2.41,\"36\":2.84,\"37\":2.55,\"38\":2.1,\"39\":2.51,\"40\":2.31,\"41\":2.12,\"42\":2.59,\"43\":2.29,\"44\":2.1,\"45\":2.44,\"46\":2.28,\"47\":2.12,\"48\":2.4,\"49\":2.27,\"50\":2.04,\"51\":2.6,\"52\":2.42,\"53\":2.68,\"54\":2.25,\"55\":2.46,\"56\":2.3,\"57\":2.68,\"58\":2.5,\"59\":1.36,\"60\":2.28,\"61\":2.02,\"62\":1.92,\"63\":2.16,\"64\":2.53,\"65\":2.56,\"66\":1.7,\"67\":1.92,\"68\":2.36,\"69\":1.75,\"70\":2.21,\"71\":2.67,\"72\":2.24,\"73\":2.6,\"74\":2.3,\"75\":1.92,\"76\":1.71,\"77\":2.23,\"78\":1.95,\"79\":2.4,\"80\":2.0,\"81\":2.2,\"82\":2.51,\"83\":2.32,\"84\":2.58,\"85\":2.24,\"86\":2.31,\"87\":2.62,\"88\":2.46,\"89\":2.3,\"90\":2.32,\"91\":2.42,\"92\":2.26,\"93\":2.22,\"94\":2.28,\"95\":2.2,\"96\":2.74,\"97\":1.98,\"98\":2.1,\"99\":2.21,\"100\":1.7,\"101\":1.9,\"102\":2.46,\"103\":1.88,\"104\":1.98,\"105\":2.27,\"106\":2.12,\"107\":2.28,\"108\":1.94,\"109\":2.7,\"110\":1.82,\"111\":2.17,\"112\":2.92,\"113\":2.5,\"114\":2.5,\"115\":2.2,\"116\":1.99,\"117\":2.19,\"118\":1.98,\"119\":2.0,\"120\":2.42,\"121\":3.23,\"122\":2.73,\"123\":2.13,\"124\":2.39,\"125\":2.17,\"126\":2.29,\"127\":2.78,\"128\":2.3,\"129\":2.38,\"130\":2.32,\"131\":2.4,\"132\":2.4,\"133\":2.36,\"134\":2.25,\"135\":2.2,\"136\":2.54,\"137\":2.64,\"138\":2.19,\"139\":2.61,\"140\":2.7,\"141\":2.35,\"142\":2.72,\"143\":2.35,\"144\":2.2,\"145\":2.15,\"146\":2.23,\"147\":2.48,\"148\":2.38,\"149\":2.36,\"150\":2.62,\"151\":2.48,\"152\":2.75,\"153\":2.28,\"154\":2.1,\"155\":2.32,\"156\":2.38,\"157\":2.64,\"158\":2.7,\"159\":2.64,\"160\":2.38,\"161\":2.54,\"162\":2.58,\"163\":2.35,\"164\":2.3,\"165\":2.26,\"166\":2.6,\"167\":2.3,\"168\":2.69,\"169\":2.86,\"170\":2.32,\"171\":2.28,\"172\":2.48,\"173\":2.45,\"174\":2.48,\"175\":2.26,\"176\":2.37,\"177\":2.74},\"4\":{\"0\":15.6,\"1\":11.2,\"2\":18.6,\"3\":16.8,\"4\":21.0,\"5\":15.2,\"6\":14.6,\"7\":17.6,\"8\":14.0,\"9\":16.0,\"10\":18.0,\"11\":16.8,\"12\":16.0,\"13\":11.4,\"14\":12.0,\"15\":17.2,\"16\":20.0,\"17\":20.0,\"18\":16.5,\"19\":15.2,\"20\":16.0,\"21\":18.6,\"22\":16.6,\"23\":17.8,\"24\":20.0,\"25\":25.0,\"26\":16.1,\"27\":17.0,\"28\":19.4,\"29\":16.0,\"30\":22.5,\"31\":19.1,\"32\":17.2,\"33\":19.5,\"34\":19.0,\"35\":20.5,\"36\":15.5,\"37\":18.0,\"38\":15.5,\"39\":13.2,\"40\":16.2,\"41\":18.8,\"42\":15.0,\"43\":17.5,\"44\":17.0,\"45\":18.9,\"46\":16.0,\"47\":16.0,\"48\":18.8,\"49\":17.4,\"50\":12.4,\"51\":17.2,\"52\":14.0,\"53\":17.1,\"54\":16.4,\"55\":20.5,\"56\":16.3,\"57\":16.8,\"58\":16.7,\"59\":10.6,\"60\":16.0,\"61\":16.8,\"62\":18.0,\"63\":19.0,\"64\":19.0,\"65\":18.1,\"66\":15.0,\"67\":19.6,\"68\":17.0,\"69\":16.8,\"70\":20.4,\"71\":25.0,\"72\":24.0,\"73\":30.0,\"74\":21.0,\"75\":16.0,\"76\":16.0,\"77\":18.0,\"78\":14.8,\"79\":23.0,\"80\":19.0,\"81\":18.8,\"82\":24.0,\"83\":22.5,\"84\":18.0,\"85\":18.0,\"86\":22.8,\"87\":26.0,\"88\":21.6,\"89\":23.6,\"90\":18.5,\"91\":22.0,\"92\":20.7,\"93\":18.0,\"94\":18.0,\"95\":19.0,\"96\":21.5,\"97\":16.0,\"98\":18.5,\"99\":18.0,\"100\":17.5,\"101\":18.5,\"102\":21.0,\"103\":19.5,\"104\":20.5,\"105\":22.0,\"106\":19.0,\"107\":22.5,\"108\":19.0,\"109\":20.0,\"110\":19.5,\"111\":21.0,\"112\":20.0,\"113\":21.0,\"114\":22.5,\"115\":21.5,\"116\":20.8,\"117\":22.5,\"118\":16.0,\"119\":19.0,\"120\":20.0,\"121\":28.5,\"122\":26.5,\"123\":21.5,\"124\":21.0,\"125\":21.0,\"126\":21.5,\"127\":28.5,\"128\":24.5,\"129\":22.0,\"130\":18.0,\"131\":20.0,\"132\":24.0,\"133\":21.5,\"134\":17.5,\"135\":18.5,\"136\":21.0,\"137\":25.0,\"138\":19.5,\"139\":24.0,\"140\":21.0,\"141\":20.0,\"142\":23.5,\"143\":20.0,\"144\":18.5,\"145\":21.0,\"146\":20.0,\"147\":21.5,\"148\":21.5,\"149\":21.5,\"150\":24.0,\"151\":22.0,\"152\":25.5,\"153\":18.5,\"154\":20.0,\"155\":22.0,\"156\":19.5,\"157\":27.0,\"158\":25.0,\"159\":22.5,\"160\":21.0,\"161\":20.0,\"162\":22.0,\"163\":18.5,\"164\":22.0,\"165\":22.5,\"166\":23.0,\"167\":19.5,\"168\":24.5,\"169\":25.0,\"170\":19.0,\"171\":19.5,\"172\":20.0,\"173\":20.5,\"174\":23.0,\"175\":20.0,\"176\":20.0,\"177\":24.5},\"5\":{\"0\":127,\"1\":100,\"2\":101,\"3\":113,\"4\":118,\"5\":112,\"6\":96,\"7\":121,\"8\":97,\"9\":98,\"10\":105,\"11\":95,\"12\":89,\"13\":91,\"14\":102,\"15\":112,\"16\":120,\"17\":115,\"18\":108,\"19\":116,\"20\":126,\"21\":102,\"22\":101,\"23\":95,\"24\":96,\"25\":124,\"26\":93,\"27\":94,\"28\":107,\"29\":96,\"30\":101,\"31\":106,\"32\":104,\"33\":132,\"34\":110,\"35\":100,\"36\":110,\"37\":98,\"38\":98,\"39\":128,\"40\":117,\"41\":90,\"42\":101,\"43\":103,\"44\":107,\"45\":111,\"46\":102,\"47\":101,\"48\":103,\"49\":108,\"50\":92,\"51\":94,\"52\":111,\"53\":115,\"54\":118,\"55\":116,\"56\":118,\"57\":102,\"58\":108,\"59\":88,\"60\":101,\"61\":100,\"62\":94,\"63\":87,\"64\":104,\"65\":98,\"66\":78,\"67\":78,\"68\":110,\"69\":151,\"70\":103,\"71\":86,\"72\":87,\"73\":139,\"74\":101,\"75\":97,\"76\":86,\"77\":112,\"78\":136,\"79\":101,\"80\":86,\"81\":86,\"82\":78,\"83\":85,\"84\":94,\"85\":99,\"86\":90,\"87\":88,\"88\":84,\"89\":70,\"90\":81,\"91\":86,\"92\":80,\"93\":88,\"94\":98,\"95\":162,\"96\":134,\"97\":85,\"98\":88,\"99\":88,\"100\":97,\"101\":88,\"102\":98,\"103\":86,\"104\":85,\"105\":90,\"106\":80,\"107\":84,\"108\":92,\"109\":94,\"110\":107,\"111\":88,\"112\":103,\"113\":88,\"114\":84,\"115\":85,\"116\":86,\"117\":108,\"118\":80,\"119\":87,\"120\":96,\"121\":119,\"122\":102,\"123\":86,\"124\":82,\"125\":85,\"126\":86,\"127\":92,\"128\":88,\"129\":80,\"130\":122,\"131\":104,\"132\":98,\"133\":106,\"134\":85,\"135\":94,\"136\":89,\"137\":96,\"138\":88,\"139\":101,\"140\":96,\"141\":89,\"142\":97,\"143\":92,\"144\":112,\"145\":102,\"146\":80,\"147\":86,\"148\":92,\"149\":113,\"150\":123,\"151\":112,\"152\":116,\"153\":98,\"154\":103,\"155\":93,\"156\":89,\"157\":97,\"158\":98,\"159\":89,\"160\":88,\"161\":107,\"162\":106,\"163\":106,\"164\":90,\"165\":88,\"166\":111,\"167\":88,\"168\":105,\"169\":112,\"170\":96,\"171\":86,\"172\":91,\"173\":95,\"174\":102,\"175\":120,\"176\":120,\"177\":96},\"6\":{\"0\":2.8,\"1\":2.65,\"2\":2.8,\"3\":3.85,\"4\":2.8,\"5\":3.27,\"6\":2.5,\"7\":2.6,\"8\":2.8,\"9\":2.98,\"10\":2.95,\"11\":2.2,\"12\":2.6,\"13\":3.1,\"14\":3.3,\"15\":2.85,\"16\":2.8,\"17\":2.95,\"18\":3.3,\"19\":2.7,\"20\":3.0,\"21\":2.41,\"22\":2.61,\"23\":2.48,\"24\":2.53,\"25\":2.63,\"26\":2.85,\"27\":2.4,\"28\":2.95,\"29\":2.65,\"30\":3.0,\"31\":2.86,\"32\":2.42,\"33\":2.95,\"34\":2.35,\"35\":2.7,\"36\":2.6,\"37\":2.45,\"38\":2.4,\"39\":3.0,\"40\":3.15,\"41\":2.45,\"42\":3.25,\"43\":2.64,\"44\":3.0,\"45\":2.85,\"46\":3.25,\"47\":3.1,\"48\":2.75,\"49\":2.88,\"50\":2.72,\"51\":2.45,\"52\":3.88,\"53\":3.0,\"54\":2.6,\"55\":2.96,\"56\":3.2,\"57\":3.0,\"58\":3.4,\"59\":1.98,\"60\":2.05,\"61\":2.02,\"62\":2.1,\"63\":3.5,\"64\":1.89,\"65\":2.42,\"66\":2.98,\"67\":2.11,\"68\":2.53,\"69\":1.85,\"70\":1.1,\"71\":2.95,\"72\":1.88,\"73\":3.3,\"74\":3.38,\"75\":1.61,\"76\":1.95,\"77\":1.72,\"78\":1.9,\"79\":2.83,\"80\":2.42,\"81\":2.2,\"82\":2.0,\"83\":1.65,\"84\":2.2,\"85\":2.2,\"86\":1.78,\"87\":1.92,\"88\":1.95,\"89\":2.2,\"90\":1.6,\"91\":1.45,\"92\":1.38,\"93\":2.45,\"94\":3.02,\"95\":2.5,\"96\":1.6,\"97\":2.55,\"98\":3.52,\"99\":2.85,\"100\":2.23,\"101\":1.45,\"102\":2.56,\"103\":2.5,\"104\":2.2,\"105\":1.68,\"106\":1.65,\"107\":1.38,\"108\":2.36,\"109\":2.74,\"110\":3.18,\"111\":2.55,\"112\":1.75,\"113\":2.48,\"114\":2.56,\"115\":2.46,\"116\":1.98,\"117\":2.0,\"118\":1.63,\"119\":2.0,\"120\":2.9,\"121\":3.18,\"122\":2.2,\"123\":2.62,\"124\":2.86,\"125\":2.6,\"126\":2.74,\"127\":2.13,\"128\":2.22,\"129\":2.1,\"130\":1.51,\"131\":1.3,\"132\":1.15,\"133\":1.7,\"134\":2.0,\"135\":1.62,\"136\":1.38,\"137\":1.79,\"138\":1.62,\"139\":2.32,\"140\":1.54,\"141\":1.4,\"142\":1.55,\"143\":2.0,\"144\":1.38,\"145\":1.5,\"146\":0.98,\"147\":1.7,\"148\":1.93,\"149\":1.41,\"150\":1.4,\"151\":1.48,\"152\":2.2,\"153\":1.8,\"154\":1.48,\"155\":1.74,\"156\":1.8,\"157\":1.9,\"158\":2.8,\"159\":2.6,\"160\":2.3,\"161\":1.83,\"162\":1.65,\"163\":1.39,\"164\":1.35,\"165\":1.28,\"166\":1.7,\"167\":1.48,\"168\":1.55,\"169\":1.98,\"170\":1.25,\"171\":1.39,\"172\":1.68,\"173\":1.68,\"174\":1.8,\"175\":1.59,\"176\":1.65,\"177\":2.05},\"7\":{\"0\":3.06,\"1\":2.76,\"2\":3.24,\"3\":3.49,\"4\":2.69,\"5\":3.39,\"6\":2.52,\"7\":2.51,\"8\":2.98,\"9\":3.15,\"10\":3.32,\"11\":2.43,\"12\":2.76,\"13\":3.69,\"14\":3.64,\"15\":2.91,\"16\":3.14,\"17\":3.4,\"18\":3.93,\"19\":3.03,\"20\":3.17,\"21\":2.41,\"22\":2.88,\"23\":2.37,\"24\":2.61,\"25\":2.68,\"26\":2.94,\"27\":2.19,\"28\":2.97,\"29\":2.33,\"30\":3.25,\"31\":3.19,\"32\":2.69,\"33\":2.74,\"34\":2.53,\"35\":2.98,\"36\":2.68,\"37\":2.43,\"38\":2.64,\"39\":3.04,\"40\":3.29,\"41\":2.68,\"42\":3.56,\"43\":2.63,\"44\":3.0,\"45\":2.65,\"46\":3.17,\"47\":3.39,\"48\":2.92,\"49\":3.54,\"50\":3.27,\"51\":2.99,\"52\":3.74,\"53\":2.79,\"54\":2.9,\"55\":2.78,\"56\":3.0,\"57\":3.23,\"58\":3.67,\"59\":0.57,\"60\":1.09,\"61\":1.41,\"62\":1.79,\"63\":3.1,\"64\":1.75,\"65\":2.65,\"66\":3.18,\"67\":2.0,\"68\":1.3,\"69\":1.28,\"70\":1.02,\"71\":2.86,\"72\":1.84,\"73\":2.89,\"74\":2.14,\"75\":1.57,\"76\":2.03,\"77\":1.32,\"78\":1.85,\"79\":2.55,\"80\":2.26,\"81\":2.53,\"82\":1.58,\"83\":1.59,\"84\":2.21,\"85\":1.94,\"86\":1.69,\"87\":1.61,\"88\":1.69,\"89\":1.59,\"90\":1.5,\"91\":1.25,\"92\":1.46,\"93\":2.25,\"94\":2.26,\"95\":2.27,\"96\":0.99,\"97\":2.5,\"98\":3.75,\"99\":2.99,\"100\":2.17,\"101\":1.36,\"102\":2.11,\"103\":1.64,\"104\":1.92,\"105\":1.84,\"106\":2.03,\"107\":1.76,\"108\":2.04,\"109\":2.92,\"110\":2.58,\"111\":2.27,\"112\":2.03,\"113\":2.01,\"114\":2.29,\"115\":2.17,\"116\":1.6,\"117\":2.09,\"118\":1.25,\"119\":1.64,\"120\":2.79,\"121\":5.08,\"122\":2.13,\"123\":2.65,\"124\":3.03,\"125\":2.65,\"126\":3.15,\"127\":2.24,\"128\":2.45,\"129\":1.75,\"130\":1.25,\"131\":1.22,\"132\":1.09,\"133\":1.2,\"134\":0.58,\"135\":0.66,\"136\":0.47,\"137\":0.6,\"138\":0.48,\"139\":0.6,\"140\":0.5,\"141\":0.5,\"142\":0.52,\"143\":0.8,\"144\":0.78,\"145\":0.55,\"146\":0.34,\"147\":0.65,\"148\":0.76,\"149\":1.39,\"150\":1.57,\"151\":1.36,\"152\":1.28,\"153\":0.83,\"154\":0.58,\"155\":0.63,\"156\":0.83,\"157\":0.58,\"158\":1.31,\"159\":1.1,\"160\":0.92,\"161\":0.56,\"162\":0.6,\"163\":0.7,\"164\":0.68,\"165\":0.47,\"166\":0.92,\"167\":0.66,\"168\":0.84,\"169\":0.96,\"170\":0.49,\"171\":0.51,\"172\":0.7,\"173\":0.61,\"174\":0.75,\"175\":0.69,\"176\":0.68,\"177\":0.76},\"8\":{\"0\":0.28,\"1\":0.26,\"2\":0.3,\"3\":0.24,\"4\":0.39,\"5\":0.34,\"6\":0.3,\"7\":0.31,\"8\":0.29,\"9\":0.22,\"10\":0.22,\"11\":0.26,\"12\":0.29,\"13\":0.43,\"14\":0.29,\"15\":0.3,\"16\":0.33,\"17\":0.4,\"18\":0.32,\"19\":0.17,\"20\":0.24,\"21\":0.25,\"22\":0.27,\"23\":0.26,\"24\":0.28,\"25\":0.47,\"26\":0.34,\"27\":0.27,\"28\":0.37,\"29\":0.26,\"30\":0.29,\"31\":0.22,\"32\":0.42,\"33\":0.5,\"34\":0.29,\"35\":0.26,\"36\":0.34,\"37\":0.29,\"38\":0.28,\"39\":0.2,\"40\":0.34,\"41\":0.27,\"42\":0.17,\"43\":0.32,\"44\":0.28,\"45\":0.3,\"46\":0.27,\"47\":0.21,\"48\":0.32,\"49\":0.32,\"50\":0.17,\"51\":0.22,\"52\":0.32,\"53\":0.39,\"54\":0.21,\"55\":0.2,\"56\":0.26,\"57\":0.31,\"58\":0.19,\"59\":0.28,\"60\":0.63,\"61\":0.53,\"62\":0.32,\"63\":0.19,\"64\":0.45,\"65\":0.37,\"66\":0.26,\"67\":0.27,\"68\":0.55,\"69\":0.14,\"70\":0.37,\"71\":0.21,\"72\":0.27,\"73\":0.21,\"74\":0.13,\"75\":0.34,\"76\":0.24,\"77\":0.43,\"78\":0.35,\"79\":0.43,\"80\":0.3,\"81\":0.26,\"82\":0.4,\"83\":0.61,\"84\":0.22,\"85\":0.3,\"86\":0.43,\"87\":0.4,\"88\":0.48,\"89\":0.42,\"90\":0.52,\"91\":0.5,\"92\":0.58,\"93\":0.25,\"94\":0.17,\"95\":0.32,\"96\":0.14,\"97\":0.29,\"98\":0.24,\"99\":0.45,\"100\":0.26,\"101\":0.29,\"102\":0.34,\"103\":0.37,\"104\":0.32,\"105\":0.66,\"106\":0.37,\"107\":0.48,\"108\":0.39,\"109\":0.29,\"110\":0.24,\"111\":0.26,\"112\":0.6,\"113\":0.42,\"114\":0.43,\"115\":0.52,\"116\":0.3,\"117\":0.34,\"118\":0.43,\"119\":0.37,\"120\":0.32,\"121\":0.47,\"122\":0.43,\"123\":0.3,\"124\":0.21,\"125\":0.37,\"126\":0.39,\"127\":0.58,\"128\":0.4,\"129\":0.42,\"130\":0.21,\"131\":0.24,\"132\":0.27,\"133\":0.17,\"134\":0.6,\"135\":0.63,\"136\":0.53,\"137\":0.63,\"138\":0.58,\"139\":0.53,\"140\":0.53,\"141\":0.37,\"142\":0.5,\"143\":0.47,\"144\":0.29,\"145\":0.43,\"146\":0.4,\"147\":0.47,\"148\":0.45,\"149\":0.34,\"150\":0.22,\"151\":0.24,\"152\":0.26,\"153\":0.61,\"154\":0.53,\"155\":0.61,\"156\":0.48,\"157\":0.63,\"158\":0.53,\"159\":0.52,\"160\":0.5,\"161\":0.5,\"162\":0.6,\"163\":0.4,\"164\":0.41,\"165\":0.52,\"166\":0.43,\"167\":0.4,\"168\":0.39,\"169\":0.27,\"170\":0.4,\"171\":0.48,\"172\":0.44,\"173\":0.52,\"174\":0.43,\"175\":0.43,\"176\":0.53,\"177\":0.56},\"9\":{\"0\":2.29,\"1\":1.28,\"2\":2.81,\"3\":2.18,\"4\":1.82,\"5\":1.97,\"6\":1.98,\"7\":1.25,\"8\":1.98,\"9\":1.85,\"10\":2.38,\"11\":1.57,\"12\":1.81,\"13\":2.81,\"14\":2.96,\"15\":1.46,\"16\":1.97,\"17\":1.72,\"18\":1.86,\"19\":1.66,\"20\":2.1,\"21\":1.98,\"22\":1.69,\"23\":1.46,\"24\":1.66,\"25\":1.92,\"26\":1.45,\"27\":1.35,\"28\":1.76,\"29\":1.98,\"30\":2.38,\"31\":1.95,\"32\":1.97,\"33\":1.35,\"34\":1.54,\"35\":1.86,\"36\":1.36,\"37\":1.44,\"38\":1.37,\"39\":2.08,\"40\":2.34,\"41\":1.48,\"42\":1.7,\"43\":1.66,\"44\":2.03,\"45\":1.25,\"46\":2.19,\"47\":2.14,\"48\":2.38,\"49\":2.08,\"50\":2.91,\"51\":2.29,\"52\":1.87,\"53\":1.68,\"54\":1.62,\"55\":2.45,\"56\":2.03,\"57\":1.66,\"58\":2.04,\"59\":0.42,\"60\":0.41,\"61\":0.62,\"62\":0.73,\"63\":1.87,\"64\":1.03,\"65\":2.08,\"66\":2.28,\"67\":1.04,\"68\":0.42,\"69\":2.5,\"70\":1.46,\"71\":1.87,\"72\":1.03,\"73\":1.96,\"74\":1.65,\"75\":1.15,\"76\":1.46,\"77\":0.95,\"78\":2.76,\"79\":1.95,\"80\":1.43,\"81\":1.77,\"82\":1.4,\"83\":1.62,\"84\":2.35,\"85\":1.46,\"86\":1.56,\"87\":1.34,\"88\":1.35,\"89\":1.38,\"90\":1.64,\"91\":1.63,\"92\":1.62,\"93\":1.99,\"94\":1.35,\"95\":3.28,\"96\":1.56,\"97\":1.77,\"98\":1.95,\"99\":2.81,\"100\":1.4,\"101\":1.35,\"102\":1.31,\"103\":1.42,\"104\":1.48,\"105\":1.42,\"106\":1.63,\"107\":1.63,\"108\":2.08,\"109\":2.49,\"110\":3.58,\"111\":1.22,\"112\":1.05,\"113\":1.44,\"114\":1.04,\"115\":2.01,\"116\":1.53,\"117\":1.61,\"118\":0.83,\"119\":1.87,\"120\":1.83,\"121\":1.87,\"122\":1.71,\"123\":2.01,\"124\":2.91,\"125\":1.35,\"126\":1.77,\"127\":1.76,\"128\":1.9,\"129\":1.35,\"130\":0.94,\"131\":0.83,\"132\":0.83,\"133\":0.84,\"134\":1.25,\"135\":0.94,\"136\":0.8,\"137\":1.1,\"138\":0.88,\"139\":0.81,\"140\":0.75,\"141\":0.64,\"142\":0.55,\"143\":1.02,\"144\":1.14,\"145\":1.3,\"146\":0.68,\"147\":0.86,\"148\":1.25,\"149\":1.14,\"150\":1.25,\"151\":1.26,\"152\":1.56,\"153\":1.87,\"154\":1.4,\"155\":1.55,\"156\":1.56,\"157\":1.14,\"158\":2.7,\"159\":2.29,\"160\":1.04,\"161\":0.8,\"162\":0.96,\"163\":0.94,\"164\":1.03,\"165\":1.15,\"166\":1.46,\"167\":0.97,\"168\":1.54,\"169\":1.11,\"170\":0.73,\"171\":0.64,\"172\":1.24,\"173\":1.06,\"174\":1.41,\"175\":1.35,\"176\":1.46,\"177\":1.35},\"10\":{\"0\":5.64,\"1\":4.38,\"2\":5.68,\"3\":7.8,\"4\":4.32,\"5\":6.75,\"6\":5.25,\"7\":5.05,\"8\":5.2,\"9\":7.22,\"10\":5.75,\"11\":5.0,\"12\":5.6,\"13\":5.4,\"14\":7.5,\"15\":7.3,\"16\":6.2,\"17\":6.6,\"18\":8.7,\"19\":5.1,\"20\":5.65,\"21\":4.5,\"22\":3.8,\"23\":3.93,\"24\":3.52,\"25\":3.58,\"26\":4.8,\"27\":3.95,\"28\":4.5,\"29\":4.7,\"30\":5.7,\"31\":6.9,\"32\":3.84,\"33\":5.4,\"34\":4.2,\"35\":5.1,\"36\":4.6,\"37\":4.25,\"38\":3.7,\"39\":5.1,\"40\":6.13,\"41\":4.28,\"42\":5.43,\"43\":4.36,\"44\":5.04,\"45\":5.24,\"46\":4.9,\"47\":6.1,\"48\":6.2,\"49\":8.9,\"50\":7.2,\"51\":5.6,\"52\":7.05,\"53\":6.3,\"54\":5.85,\"55\":6.25,\"56\":6.38,\"57\":6.0,\"58\":6.8,\"59\":1.95,\"60\":3.27,\"61\":5.75,\"62\":3.8,\"63\":4.45,\"64\":2.95,\"65\":4.6,\"66\":5.3,\"67\":4.68,\"68\":3.17,\"69\":2.85,\"70\":3.05,\"71\":3.38,\"72\":3.74,\"73\":3.35,\"74\":3.21,\"75\":3.8,\"76\":4.6,\"77\":2.65,\"78\":3.4,\"79\":2.57,\"80\":2.5,\"81\":3.9,\"82\":2.2,\"83\":4.8,\"84\":3.05,\"85\":2.62,\"86\":2.45,\"87\":2.6,\"88\":2.8,\"89\":1.74,\"90\":2.4,\"91\":3.6,\"92\":3.05,\"93\":2.15,\"94\":3.25,\"95\":2.6,\"96\":2.5,\"97\":2.9,\"98\":4.5,\"99\":2.3,\"100\":3.3,\"101\":2.45,\"102\":2.8,\"103\":2.06,\"104\":2.94,\"105\":2.7,\"106\":3.4,\"107\":3.3,\"108\":2.7,\"109\":2.65,\"110\":2.9,\"111\":2.0,\"112\":3.8,\"113\":3.08,\"114\":2.9,\"115\":1.9,\"116\":1.95,\"117\":2.06,\"118\":3.4,\"119\":1.28,\"120\":3.25,\"121\":6.0,\"122\":2.08,\"123\":2.6,\"124\":2.8,\"125\":2.76,\"126\":3.94,\"127\":3.0,\"128\":2.12,\"129\":2.6,\"130\":4.1,\"131\":5.4,\"132\":5.7,\"133\":5.0,\"134\":5.45,\"135\":7.1,\"136\":3.85,\"137\":5.0,\"138\":5.7,\"139\":4.92,\"140\":4.6,\"141\":5.6,\"142\":4.35,\"143\":4.4,\"144\":8.21,\"145\":4.0,\"146\":4.9,\"147\":7.65,\"148\":8.42,\"149\":9.4,\"150\":8.6,\"151\":10.8,\"152\":7.1,\"153\":10.52,\"154\":7.6,\"155\":7.9,\"156\":9.01,\"157\":7.5,\"158\":13.0,\"159\":11.75,\"160\":7.65,\"161\":5.88,\"162\":5.58,\"163\":5.28,\"164\":9.58,\"165\":6.62,\"166\":10.68,\"167\":10.26,\"168\":8.66,\"169\":8.5,\"170\":5.5,\"171\":9.899999,\"172\":9.7,\"173\":7.7,\"174\":7.3,\"175\":10.2,\"176\":9.3,\"177\":9.2},\"11\":{\"0\":1.04,\"1\":1.05,\"2\":1.03,\"3\":0.86,\"4\":1.04,\"5\":1.05,\"6\":1.02,\"7\":1.06,\"8\":1.08,\"9\":1.01,\"10\":1.25,\"11\":1.17,\"12\":1.15,\"13\":1.25,\"14\":1.2,\"15\":1.28,\"16\":1.07,\"17\":1.13,\"18\":1.23,\"19\":0.96,\"20\":1.09,\"21\":1.03,\"22\":1.11,\"23\":1.09,\"24\":1.12,\"25\":1.13,\"26\":0.92,\"27\":1.02,\"28\":1.25,\"29\":1.04,\"30\":1.19,\"31\":1.09,\"32\":1.23,\"33\":1.25,\"34\":1.1,\"35\":1.04,\"36\":1.09,\"37\":1.12,\"38\":1.18,\"39\":0.89,\"40\":0.95,\"41\":0.91,\"42\":0.88,\"43\":0.82,\"44\":0.88,\"45\":0.87,\"46\":1.04,\"47\":0.91,\"48\":1.07,\"49\":1.12,\"50\":1.12,\"51\":1.24,\"52\":1.01,\"53\":1.13,\"54\":0.92,\"55\":0.98,\"56\":0.94,\"57\":1.07,\"58\":0.89,\"59\":1.05,\"60\":1.25,\"61\":0.98,\"62\":1.23,\"63\":1.22,\"64\":1.45,\"65\":1.19,\"66\":1.12,\"67\":1.12,\"68\":1.02,\"69\":1.28,\"70\":0.906,\"71\":1.36,\"72\":0.98,\"73\":1.31,\"74\":0.99,\"75\":1.23,\"76\":1.19,\"77\":0.96,\"78\":1.06,\"79\":1.19,\"80\":1.38,\"81\":1.16,\"82\":1.31,\"83\":0.84,\"84\":0.79,\"85\":1.23,\"86\":1.33,\"87\":1.36,\"88\":1.0,\"89\":1.07,\"90\":1.08,\"91\":1.05,\"92\":0.96,\"93\":1.15,\"94\":1.16,\"95\":1.16,\"96\":0.95,\"97\":1.23,\"98\":1.04,\"99\":1.42,\"100\":1.27,\"101\":1.04,\"102\":0.8,\"103\":0.94,\"104\":1.04,\"105\":0.86,\"106\":1.0,\"107\":0.88,\"108\":0.86,\"109\":0.96,\"110\":0.75,\"111\":0.9,\"112\":1.23,\"113\":1.1,\"114\":0.93,\"115\":1.71,\"116\":0.95,\"117\":1.06,\"118\":0.7,\"119\":0.93,\"120\":0.8,\"121\":0.93,\"122\":0.92,\"123\":0.73,\"124\":0.75,\"125\":0.86,\"126\":0.69,\"127\":0.97,\"128\":0.89,\"129\":0.79,\"130\":0.76,\"131\":0.74,\"132\":0.66,\"133\":0.78,\"134\":0.75,\"135\":0.73,\"136\":0.75,\"137\":0.82,\"138\":0.81,\"139\":0.89,\"140\":0.77,\"141\":0.7,\"142\":0.89,\"143\":0.91,\"144\":0.65,\"145\":0.6,\"146\":0.58,\"147\":0.54,\"148\":0.55,\"149\":0.57,\"150\":0.59,\"151\":0.48,\"152\":0.61,\"153\":0.56,\"154\":0.58,\"155\":0.6,\"156\":0.57,\"157\":0.67,\"158\":0.57,\"159\":0.57,\"160\":0.56,\"161\":0.96,\"162\":0.87,\"163\":0.68,\"164\":0.7,\"165\":0.78,\"166\":0.85,\"167\":0.72,\"168\":0.74,\"169\":0.67,\"170\":0.66,\"171\":0.57,\"172\":0.62,\"173\":0.64,\"174\":0.7,\"175\":0.59,\"176\":0.6,\"177\":0.61},\"12\":{\"0\":3.92,\"1\":3.4,\"2\":3.17,\"3\":3.45,\"4\":2.93,\"5\":2.85,\"6\":3.58,\"7\":3.58,\"8\":2.85,\"9\":3.55,\"10\":3.17,\"11\":2.82,\"12\":2.9,\"13\":2.73,\"14\":3.0,\"15\":2.88,\"16\":2.65,\"17\":2.57,\"18\":2.82,\"19\":3.36,\"20\":3.71,\"21\":3.52,\"22\":4.0,\"23\":3.63,\"24\":3.82,\"25\":3.2,\"26\":3.22,\"27\":2.77,\"28\":3.4,\"29\":3.59,\"30\":2.71,\"31\":2.88,\"32\":2.87,\"33\":3.0,\"34\":2.87,\"35\":3.47,\"36\":2.78,\"37\":2.51,\"38\":2.69,\"39\":3.53,\"40\":3.38,\"41\":3.0,\"42\":3.56,\"43\":3.0,\"44\":3.35,\"45\":3.33,\"46\":3.44,\"47\":3.33,\"48\":2.75,\"49\":3.1,\"50\":2.91,\"51\":3.37,\"52\":3.26,\"53\":2.93,\"54\":3.2,\"55\":3.03,\"56\":3.31,\"57\":2.84,\"58\":2.87,\"59\":1.82,\"60\":1.67,\"61\":1.59,\"62\":2.46,\"63\":2.87,\"64\":2.23,\"65\":2.3,\"66\":3.18,\"67\":3.48,\"68\":1.93,\"69\":3.07,\"70\":1.82,\"71\":3.16,\"72\":2.78,\"73\":3.5,\"74\":3.13,\"75\":2.14,\"76\":2.48,\"77\":2.52,\"78\":2.31,\"79\":3.13,\"80\":3.12,\"81\":3.14,\"82\":2.72,\"83\":2.01,\"84\":3.08,\"85\":3.16,\"86\":2.26,\"87\":3.21,\"88\":2.75,\"89\":3.21,\"90\":2.27,\"91\":2.65,\"92\":2.06,\"93\":3.3,\"94\":2.96,\"95\":2.63,\"96\":2.26,\"97\":2.74,\"98\":2.77,\"99\":2.83,\"100\":2.96,\"101\":2.77,\"102\":3.38,\"103\":2.44,\"104\":3.57,\"105\":3.3,\"106\":3.17,\"107\":2.42,\"108\":3.02,\"109\":3.26,\"110\":2.81,\"111\":2.78,\"112\":2.5,\"113\":2.31,\"114\":3.19,\"115\":2.87,\"116\":3.33,\"117\":2.96,\"118\":2.12,\"119\":3.05,\"120\":3.39,\"121\":3.69,\"122\":3.12,\"123\":3.1,\"124\":3.64,\"125\":3.28,\"126\":2.84,\"127\":2.44,\"128\":2.78,\"129\":2.57,\"130\":1.29,\"131\":1.42,\"132\":1.36,\"133\":1.29,\"134\":1.51,\"135\":1.58,\"136\":1.27,\"137\":1.69,\"138\":1.82,\"139\":2.15,\"140\":2.31,\"141\":2.47,\"142\":2.06,\"143\":2.05,\"144\":2.0,\"145\":1.68,\"146\":1.33,\"147\":1.86,\"148\":1.62,\"149\":1.33,\"150\":1.3,\"151\":1.47,\"152\":1.33,\"153\":1.51,\"154\":1.55,\"155\":1.48,\"156\":1.64,\"157\":1.73,\"158\":1.96,\"159\":1.78,\"160\":1.58,\"161\":1.82,\"162\":2.11,\"163\":1.75,\"164\":1.68,\"165\":1.75,\"166\":1.56,\"167\":1.75,\"168\":1.8,\"169\":1.92,\"170\":1.83,\"171\":1.63,\"172\":1.71,\"173\":1.74,\"174\":1.56,\"175\":1.56,\"176\":1.62,\"177\":1.6},\"13\":{\"0\":1065,\"1\":1050,\"2\":1185,\"3\":1480,\"4\":735,\"5\":1450,\"6\":1290,\"7\":1295,\"8\":1045,\"9\":1045,\"10\":1510,\"11\":1280,\"12\":1320,\"13\":1150,\"14\":1547,\"15\":1310,\"16\":1280,\"17\":1130,\"18\":1680,\"19\":845,\"20\":780,\"21\":770,\"22\":1035,\"23\":1015,\"24\":845,\"25\":830,\"26\":1195,\"27\":1285,\"28\":915,\"29\":1035,\"30\":1285,\"31\":1515,\"32\":990,\"33\":1235,\"34\":1095,\"35\":920,\"36\":880,\"37\":1105,\"38\":1020,\"39\":760,\"40\":795,\"41\":1035,\"42\":1095,\"43\":680,\"44\":885,\"45\":1080,\"46\":1065,\"47\":985,\"48\":1060,\"49\":1260,\"50\":1150,\"51\":1265,\"52\":1190,\"53\":1375,\"54\":1060,\"55\":1120,\"56\":970,\"57\":1270,\"58\":1285,\"59\":520,\"60\":680,\"61\":450,\"62\":630,\"63\":420,\"64\":355,\"65\":678,\"66\":502,\"67\":510,\"68\":750,\"69\":718,\"70\":870,\"71\":410,\"72\":472,\"73\":985,\"74\":886,\"75\":428,\"76\":392,\"77\":500,\"78\":750,\"79\":463,\"80\":278,\"81\":714,\"82\":630,\"83\":515,\"84\":520,\"85\":450,\"86\":495,\"87\":562,\"88\":680,\"89\":625,\"90\":480,\"91\":450,\"92\":495,\"93\":290,\"94\":345,\"95\":937,\"96\":625,\"97\":428,\"98\":660,\"99\":406,\"100\":710,\"101\":562,\"102\":438,\"103\":415,\"104\":672,\"105\":315,\"106\":510,\"107\":488,\"108\":312,\"109\":680,\"110\":562,\"111\":325,\"112\":607,\"113\":434,\"114\":385,\"115\":407,\"116\":495,\"117\":345,\"118\":372,\"119\":564,\"120\":625,\"121\":465,\"122\":365,\"123\":380,\"124\":380,\"125\":378,\"126\":352,\"127\":466,\"128\":342,\"129\":580,\"130\":630,\"131\":530,\"132\":560,\"133\":600,\"134\":650,\"135\":695,\"136\":720,\"137\":515,\"138\":580,\"139\":590,\"140\":600,\"141\":780,\"142\":520,\"143\":550,\"144\":855,\"145\":830,\"146\":415,\"147\":625,\"148\":650,\"149\":550,\"150\":500,\"151\":480,\"152\":425,\"153\":675,\"154\":640,\"155\":725,\"156\":480,\"157\":880,\"158\":660,\"159\":620,\"160\":520,\"161\":680,\"162\":570,\"163\":675,\"164\":615,\"165\":520,\"166\":695,\"167\":685,\"168\":750,\"169\":630,\"170\":510,\"171\":470,\"172\":660,\"173\":740,\"174\":750,\"175\":835,\"176\":840,\"177\":560}}'"
      ]
     },
     "execution_count": 73,
     "metadata": {},
     "output_type": "execute_result"
    }
   ],
   "source": [
    "#convert dataframe into json\n",
    "df.to_json()"
   ]
  },
  {
   "cell_type": "code",
   "execution_count": 74,
   "id": "32ed63dd",
   "metadata": {},
   "outputs": [],
   "source": [
    "Data = '{\"employee_name\": \"James\", \"email\": \"james@gmail.com\", \"job_profile\": [{\"title1\":\"Team Lead\", \"title2\":\"Sr. Developer\"}]}'\n",
    "df1 = pd.read_json(Data)"
   ]
  },
  {
   "cell_type": "code",
   "execution_count": 75,
   "id": "3efaf563",
   "metadata": {},
   "outputs": [
    {
     "data": {
      "text/html": [
       "<div>\n",
       "<style scoped>\n",
       "    .dataframe tbody tr th:only-of-type {\n",
       "        vertical-align: middle;\n",
       "    }\n",
       "\n",
       "    .dataframe tbody tr th {\n",
       "        vertical-align: top;\n",
       "    }\n",
       "\n",
       "    .dataframe thead th {\n",
       "        text-align: right;\n",
       "    }\n",
       "</style>\n",
       "<table border=\"1\" class=\"dataframe\">\n",
       "  <thead>\n",
       "    <tr style=\"text-align: right;\">\n",
       "      <th></th>\n",
       "      <th>employee_name</th>\n",
       "      <th>email</th>\n",
       "      <th>job_profile</th>\n",
       "    </tr>\n",
       "  </thead>\n",
       "  <tbody>\n",
       "    <tr>\n",
       "      <th>0</th>\n",
       "      <td>James</td>\n",
       "      <td>james@gmail.com</td>\n",
       "      <td>{'title1': 'Team Lead', 'title2': 'Sr. Develop...</td>\n",
       "    </tr>\n",
       "  </tbody>\n",
       "</table>\n",
       "</div>"
      ],
      "text/plain": [
       "  employee_name            email  \\\n",
       "0         James  james@gmail.com   \n",
       "\n",
       "                                         job_profile  \n",
       "0  {'title1': 'Team Lead', 'title2': 'Sr. Develop...  "
      ]
     },
     "execution_count": 75,
     "metadata": {},
     "output_type": "execute_result"
    }
   ],
   "source": [
    "df1"
   ]
  },
  {
   "cell_type": "code",
   "execution_count": 76,
   "id": "6d769234",
   "metadata": {},
   "outputs": [
    {
     "data": {
      "text/plain": [
       "'{\"employee_name\":{\"0\":\"James\"},\"email\":{\"0\":\"james@gmail.com\"},\"job_profile\":{\"0\":{\"title1\":\"Team Lead\",\"title2\":\"Sr. Developer\"}}}'"
      ]
     },
     "execution_count": 76,
     "metadata": {},
     "output_type": "execute_result"
    }
   ],
   "source": [
    "df1.to_json()"
   ]
  },
  {
   "cell_type": "code",
   "execution_count": 77,
   "id": "88958f56",
   "metadata": {},
   "outputs": [
    {
     "data": {
      "text/plain": [
       "'[{\"employee_name\":\"James\",\"email\":\"james@gmail.com\",\"job_profile\":{\"title1\":\"Team Lead\",\"title2\":\"Sr. Developer\"}}]'"
      ]
     },
     "execution_count": 77,
     "metadata": {},
     "output_type": "execute_result"
    }
   ],
   "source": [
    "df1.to_json(orient='records')"
   ]
  },
  {
   "cell_type": "code",
   "execution_count": 78,
   "id": "911ccaa1",
   "metadata": {},
   "outputs": [
    {
     "data": {
      "text/html": [
       "<div>\n",
       "<style scoped>\n",
       "    .dataframe tbody tr th:only-of-type {\n",
       "        vertical-align: middle;\n",
       "    }\n",
       "\n",
       "    .dataframe tbody tr th {\n",
       "        vertical-align: top;\n",
       "    }\n",
       "\n",
       "    .dataframe thead th {\n",
       "        text-align: right;\n",
       "    }\n",
       "</style>\n",
       "<table border=\"1\" class=\"dataframe\">\n",
       "  <thead>\n",
       "    <tr style=\"text-align: right;\">\n",
       "      <th></th>\n",
       "      <th>0</th>\n",
       "      <th>1</th>\n",
       "      <th>2</th>\n",
       "      <th>3</th>\n",
       "      <th>4</th>\n",
       "      <th>5</th>\n",
       "      <th>6</th>\n",
       "      <th>7</th>\n",
       "      <th>8</th>\n",
       "      <th>9</th>\n",
       "      <th>10</th>\n",
       "      <th>11</th>\n",
       "      <th>12</th>\n",
       "      <th>13</th>\n",
       "    </tr>\n",
       "  </thead>\n",
       "  <tbody>\n",
       "    <tr>\n",
       "      <th>0</th>\n",
       "      <td>1</td>\n",
       "      <td>14.23</td>\n",
       "      <td>1.71</td>\n",
       "      <td>2.43</td>\n",
       "      <td>15.6</td>\n",
       "      <td>127</td>\n",
       "      <td>2.80</td>\n",
       "      <td>3.06</td>\n",
       "      <td>0.28</td>\n",
       "      <td>2.29</td>\n",
       "      <td>5.64</td>\n",
       "      <td>1.04</td>\n",
       "      <td>3.92</td>\n",
       "      <td>1065</td>\n",
       "    </tr>\n",
       "    <tr>\n",
       "      <th>1</th>\n",
       "      <td>1</td>\n",
       "      <td>13.20</td>\n",
       "      <td>1.78</td>\n",
       "      <td>2.14</td>\n",
       "      <td>11.2</td>\n",
       "      <td>100</td>\n",
       "      <td>2.65</td>\n",
       "      <td>2.76</td>\n",
       "      <td>0.26</td>\n",
       "      <td>1.28</td>\n",
       "      <td>4.38</td>\n",
       "      <td>1.05</td>\n",
       "      <td>3.40</td>\n",
       "      <td>1050</td>\n",
       "    </tr>\n",
       "    <tr>\n",
       "      <th>2</th>\n",
       "      <td>1</td>\n",
       "      <td>13.16</td>\n",
       "      <td>2.36</td>\n",
       "      <td>2.67</td>\n",
       "      <td>18.6</td>\n",
       "      <td>101</td>\n",
       "      <td>2.80</td>\n",
       "      <td>3.24</td>\n",
       "      <td>0.30</td>\n",
       "      <td>2.81</td>\n",
       "      <td>5.68</td>\n",
       "      <td>1.03</td>\n",
       "      <td>3.17</td>\n",
       "      <td>1185</td>\n",
       "    </tr>\n",
       "    <tr>\n",
       "      <th>3</th>\n",
       "      <td>1</td>\n",
       "      <td>14.37</td>\n",
       "      <td>1.95</td>\n",
       "      <td>2.50</td>\n",
       "      <td>16.8</td>\n",
       "      <td>113</td>\n",
       "      <td>3.85</td>\n",
       "      <td>3.49</td>\n",
       "      <td>0.24</td>\n",
       "      <td>2.18</td>\n",
       "      <td>7.80</td>\n",
       "      <td>0.86</td>\n",
       "      <td>3.45</td>\n",
       "      <td>1480</td>\n",
       "    </tr>\n",
       "    <tr>\n",
       "      <th>4</th>\n",
       "      <td>1</td>\n",
       "      <td>13.24</td>\n",
       "      <td>2.59</td>\n",
       "      <td>2.87</td>\n",
       "      <td>21.0</td>\n",
       "      <td>118</td>\n",
       "      <td>2.80</td>\n",
       "      <td>2.69</td>\n",
       "      <td>0.39</td>\n",
       "      <td>1.82</td>\n",
       "      <td>4.32</td>\n",
       "      <td>1.04</td>\n",
       "      <td>2.93</td>\n",
       "      <td>735</td>\n",
       "    </tr>\n",
       "  </tbody>\n",
       "</table>\n",
       "</div>"
      ],
      "text/plain": [
       "   0      1     2     3     4    5     6     7     8     9     10    11    12  \\\n",
       "0   1  14.23  1.71  2.43  15.6  127  2.80  3.06  0.28  2.29  5.64  1.04  3.92   \n",
       "1   1  13.20  1.78  2.14  11.2  100  2.65  2.76  0.26  1.28  4.38  1.05  3.40   \n",
       "2   1  13.16  2.36  2.67  18.6  101  2.80  3.24  0.30  2.81  5.68  1.03  3.17   \n",
       "3   1  14.37  1.95  2.50  16.8  113  3.85  3.49  0.24  2.18  7.80  0.86  3.45   \n",
       "4   1  13.24  2.59  2.87  21.0  118  2.80  2.69  0.39  1.82  4.32  1.04  2.93   \n",
       "\n",
       "     13  \n",
       "0  1065  \n",
       "1  1050  \n",
       "2  1185  \n",
       "3  1480  \n",
       "4   735  "
      ]
     },
     "execution_count": 78,
     "metadata": {},
     "output_type": "execute_result"
    }
   ],
   "source": [
    "df.head()"
   ]
  },
  {
   "cell_type": "code",
   "execution_count": 79,
   "id": "b96f3db2",
   "metadata": {},
   "outputs": [
    {
     "data": {
      "text/plain": [
       "'{\"0\":{\"0\":1,\"1\":1,\"2\":1,\"3\":1,\"4\":1},\"1\":{\"0\":14.23,\"1\":13.2,\"2\":13.16,\"3\":14.37,\"4\":13.24},\"2\":{\"0\":1.71,\"1\":1.78,\"2\":2.36,\"3\":1.95,\"4\":2.59},\"3\":{\"0\":2.43,\"1\":2.14,\"2\":2.67,\"3\":2.5,\"4\":2.87},\"4\":{\"0\":15.6,\"1\":11.2,\"2\":18.6,\"3\":16.8,\"4\":21.0},\"5\":{\"0\":127,\"1\":100,\"2\":101,\"3\":113,\"4\":118},\"6\":{\"0\":2.8,\"1\":2.65,\"2\":2.8,\"3\":3.85,\"4\":2.8},\"7\":{\"0\":3.06,\"1\":2.76,\"2\":3.24,\"3\":3.49,\"4\":2.69},\"8\":{\"0\":0.28,\"1\":0.26,\"2\":0.3,\"3\":0.24,\"4\":0.39},\"9\":{\"0\":2.29,\"1\":1.28,\"2\":2.81,\"3\":2.18,\"4\":1.82},\"10\":{\"0\":5.64,\"1\":4.38,\"2\":5.68,\"3\":7.8,\"4\":4.32},\"11\":{\"0\":1.04,\"1\":1.05,\"2\":1.03,\"3\":0.86,\"4\":1.04},\"12\":{\"0\":3.92,\"1\":3.4,\"2\":3.17,\"3\":3.45,\"4\":2.93},\"13\":{\"0\":1065,\"1\":1050,\"2\":1185,\"3\":1480,\"4\":735}}'"
      ]
     },
     "execution_count": 79,
     "metadata": {},
     "output_type": "execute_result"
    }
   ],
   "source": [
    "df.head().to_json()"
   ]
  },
  {
   "cell_type": "code",
   "execution_count": 80,
   "id": "3fa62ec4",
   "metadata": {},
   "outputs": [
    {
     "data": {
      "text/plain": [
       "'[{\"0\":1,\"1\":14.23,\"2\":1.71,\"3\":2.43,\"4\":15.6,\"5\":127,\"6\":2.8,\"7\":3.06,\"8\":0.28,\"9\":2.29,\"10\":5.64,\"11\":1.04,\"12\":3.92,\"13\":1065},{\"0\":1,\"1\":13.2,\"2\":1.78,\"3\":2.14,\"4\":11.2,\"5\":100,\"6\":2.65,\"7\":2.76,\"8\":0.26,\"9\":1.28,\"10\":4.38,\"11\":1.05,\"12\":3.4,\"13\":1050},{\"0\":1,\"1\":13.16,\"2\":2.36,\"3\":2.67,\"4\":18.6,\"5\":101,\"6\":2.8,\"7\":3.24,\"8\":0.3,\"9\":2.81,\"10\":5.68,\"11\":1.03,\"12\":3.17,\"13\":1185},{\"0\":1,\"1\":14.37,\"2\":1.95,\"3\":2.5,\"4\":16.8,\"5\":113,\"6\":3.85,\"7\":3.49,\"8\":0.24,\"9\":2.18,\"10\":7.8,\"11\":0.86,\"12\":3.45,\"13\":1480},{\"0\":1,\"1\":13.24,\"2\":2.59,\"3\":2.87,\"4\":21.0,\"5\":118,\"6\":2.8,\"7\":2.69,\"8\":0.39,\"9\":1.82,\"10\":4.32,\"11\":1.04,\"12\":2.93,\"13\":735}]'"
      ]
     },
     "execution_count": 80,
     "metadata": {},
     "output_type": "execute_result"
    }
   ],
   "source": [
    "df.head().to_json(orient=\"records\")"
   ]
  },
  {
   "cell_type": "code",
   "execution_count": null,
   "id": "41fef080",
   "metadata": {},
   "outputs": [],
   "source": [
    "\n"
   ]
  },
  {
   "cell_type": "code",
   "execution_count": 10,
   "id": "383f8dad",
   "metadata": {},
   "outputs": [
    {
     "name": "stdout",
     "output_type": "stream",
     "text": [
      "    item_code                                          item_name  \\\n",
      "0         AA0                               All items - old base   \n",
      "1        AA0R  Purchasing power of the consumer dollar - old ...   \n",
      "2         SA0                                          All items   \n",
      "3        SA0E                                             Energy   \n",
      "4       SA0L1                                All items less food   \n",
      "..        ...                                                ...   \n",
      "395   SSEA011                                  College textbooks   \n",
      "396   SSEE041                                        Smartphones   \n",
      "397  SSFV031A           Food at elementary and secondary schools   \n",
      "398   SSGE013                                 Infants' equipment   \n",
      "399   SSHJ031                                 Infants' furniture   \n",
      "\n",
      "     display_level selectable  sort_sequence  \n",
      "0                0          T              2  \n",
      "1                0          T            400  \n",
      "2                0          T              1  \n",
      "3                1          T            375  \n",
      "4                1          T            359  \n",
      "..             ...        ...            ...  \n",
      "395              3          T            314  \n",
      "396              4          T            335  \n",
      "397              3          T            122  \n",
      "398              3          T            356  \n",
      "399              3          T            165  \n",
      "\n",
      "[400 rows x 5 columns]\n"
     ]
    }
   ],
   "source": [
    "headers = {\"User-Agent\": \"Mozilla/5.0 (Macintosh; Intel Mac OS X 10_11_6)\"}\n",
    "\n",
    "url = \"https://download.bls.gov/pub/time.series/cu/cu.item\"\n",
    "\n",
    "df = pd.read_csv(url, storage_options=headers, sep=\"\\t\")\n",
    "\n",
    "print(df)"
   ]
  },
  {
   "cell_type": "code",
   "execution_count": null,
   "id": "40141f35",
   "metadata": {},
   "outputs": [],
   "source": []
  },
  {
   "cell_type": "code",
   "execution_count": null,
   "id": "6fefcc44",
   "metadata": {},
   "outputs": [],
   "source": []
  },
  {
   "cell_type": "code",
   "execution_count": null,
   "id": "59f09e2d",
   "metadata": {},
   "outputs": [],
   "source": []
  },
  {
   "cell_type": "code",
   "execution_count": 15,
   "id": "5c9a6e10",
   "metadata": {},
   "outputs": [
    {
     "ename": "ValueError",
     "evalue": "No tables found",
     "output_type": "error",
     "traceback": [
      "\u001b[1;31m---------------------------------------------------------------------------\u001b[0m",
      "\u001b[1;31mValueError\u001b[0m                                Traceback (most recent call last)",
      "Cell \u001b[1;32mIn[15], line 2\u001b[0m\n\u001b[0;32m      1\u001b[0m url \u001b[38;5;241m=\u001b[39m \u001b[38;5;124m'\u001b[39m\u001b[38;5;124mhttps://www.fdic.gov/bank/individual/failed/banklist.html\u001b[39m\u001b[38;5;124m'\u001b[39m\n\u001b[1;32m----> 2\u001b[0m dfs \u001b[38;5;241m=\u001b[39m \u001b[43mpd\u001b[49m\u001b[38;5;241;43m.\u001b[39;49m\u001b[43mread_html\u001b[49m\u001b[43m(\u001b[49m\u001b[43murl\u001b[49m\u001b[43m)\u001b[49m\n",
      "File \u001b[1;32mC:\\ProgramData\\anaconda3\\lib\\site-packages\\pandas\\util\\_decorators.py:331\u001b[0m, in \u001b[0;36mdeprecate_nonkeyword_arguments.<locals>.decorate.<locals>.wrapper\u001b[1;34m(*args, **kwargs)\u001b[0m\n\u001b[0;32m    325\u001b[0m \u001b[38;5;28;01mif\u001b[39;00m \u001b[38;5;28mlen\u001b[39m(args) \u001b[38;5;241m>\u001b[39m num_allow_args:\n\u001b[0;32m    326\u001b[0m     warnings\u001b[38;5;241m.\u001b[39mwarn(\n\u001b[0;32m    327\u001b[0m         msg\u001b[38;5;241m.\u001b[39mformat(arguments\u001b[38;5;241m=\u001b[39m_format_argument_list(allow_args)),\n\u001b[0;32m    328\u001b[0m         \u001b[38;5;167;01mFutureWarning\u001b[39;00m,\n\u001b[0;32m    329\u001b[0m         stacklevel\u001b[38;5;241m=\u001b[39mfind_stack_level(),\n\u001b[0;32m    330\u001b[0m     )\n\u001b[1;32m--> 331\u001b[0m \u001b[38;5;28;01mreturn\u001b[39;00m func(\u001b[38;5;241m*\u001b[39margs, \u001b[38;5;241m*\u001b[39m\u001b[38;5;241m*\u001b[39mkwargs)\n",
      "File \u001b[1;32mC:\\ProgramData\\anaconda3\\lib\\site-packages\\pandas\\io\\html.py:1205\u001b[0m, in \u001b[0;36mread_html\u001b[1;34m(io, match, flavor, header, index_col, skiprows, attrs, parse_dates, thousands, encoding, decimal, converters, na_values, keep_default_na, displayed_only, extract_links)\u001b[0m\n\u001b[0;32m   1201\u001b[0m validate_header_arg(header)\n\u001b[0;32m   1203\u001b[0m io \u001b[38;5;241m=\u001b[39m stringify_path(io)\n\u001b[1;32m-> 1205\u001b[0m \u001b[38;5;28;01mreturn\u001b[39;00m \u001b[43m_parse\u001b[49m\u001b[43m(\u001b[49m\n\u001b[0;32m   1206\u001b[0m \u001b[43m    \u001b[49m\u001b[43mflavor\u001b[49m\u001b[38;5;241;43m=\u001b[39;49m\u001b[43mflavor\u001b[49m\u001b[43m,\u001b[49m\n\u001b[0;32m   1207\u001b[0m \u001b[43m    \u001b[49m\u001b[43mio\u001b[49m\u001b[38;5;241;43m=\u001b[39;49m\u001b[43mio\u001b[49m\u001b[43m,\u001b[49m\n\u001b[0;32m   1208\u001b[0m \u001b[43m    \u001b[49m\u001b[43mmatch\u001b[49m\u001b[38;5;241;43m=\u001b[39;49m\u001b[43mmatch\u001b[49m\u001b[43m,\u001b[49m\n\u001b[0;32m   1209\u001b[0m \u001b[43m    \u001b[49m\u001b[43mheader\u001b[49m\u001b[38;5;241;43m=\u001b[39;49m\u001b[43mheader\u001b[49m\u001b[43m,\u001b[49m\n\u001b[0;32m   1210\u001b[0m \u001b[43m    \u001b[49m\u001b[43mindex_col\u001b[49m\u001b[38;5;241;43m=\u001b[39;49m\u001b[43mindex_col\u001b[49m\u001b[43m,\u001b[49m\n\u001b[0;32m   1211\u001b[0m \u001b[43m    \u001b[49m\u001b[43mskiprows\u001b[49m\u001b[38;5;241;43m=\u001b[39;49m\u001b[43mskiprows\u001b[49m\u001b[43m,\u001b[49m\n\u001b[0;32m   1212\u001b[0m \u001b[43m    \u001b[49m\u001b[43mparse_dates\u001b[49m\u001b[38;5;241;43m=\u001b[39;49m\u001b[43mparse_dates\u001b[49m\u001b[43m,\u001b[49m\n\u001b[0;32m   1213\u001b[0m \u001b[43m    \u001b[49m\u001b[43mthousands\u001b[49m\u001b[38;5;241;43m=\u001b[39;49m\u001b[43mthousands\u001b[49m\u001b[43m,\u001b[49m\n\u001b[0;32m   1214\u001b[0m \u001b[43m    \u001b[49m\u001b[43mattrs\u001b[49m\u001b[38;5;241;43m=\u001b[39;49m\u001b[43mattrs\u001b[49m\u001b[43m,\u001b[49m\n\u001b[0;32m   1215\u001b[0m \u001b[43m    \u001b[49m\u001b[43mencoding\u001b[49m\u001b[38;5;241;43m=\u001b[39;49m\u001b[43mencoding\u001b[49m\u001b[43m,\u001b[49m\n\u001b[0;32m   1216\u001b[0m \u001b[43m    \u001b[49m\u001b[43mdecimal\u001b[49m\u001b[38;5;241;43m=\u001b[39;49m\u001b[43mdecimal\u001b[49m\u001b[43m,\u001b[49m\n\u001b[0;32m   1217\u001b[0m \u001b[43m    \u001b[49m\u001b[43mconverters\u001b[49m\u001b[38;5;241;43m=\u001b[39;49m\u001b[43mconverters\u001b[49m\u001b[43m,\u001b[49m\n\u001b[0;32m   1218\u001b[0m \u001b[43m    \u001b[49m\u001b[43mna_values\u001b[49m\u001b[38;5;241;43m=\u001b[39;49m\u001b[43mna_values\u001b[49m\u001b[43m,\u001b[49m\n\u001b[0;32m   1219\u001b[0m \u001b[43m    \u001b[49m\u001b[43mkeep_default_na\u001b[49m\u001b[38;5;241;43m=\u001b[39;49m\u001b[43mkeep_default_na\u001b[49m\u001b[43m,\u001b[49m\n\u001b[0;32m   1220\u001b[0m \u001b[43m    \u001b[49m\u001b[43mdisplayed_only\u001b[49m\u001b[38;5;241;43m=\u001b[39;49m\u001b[43mdisplayed_only\u001b[49m\u001b[43m,\u001b[49m\n\u001b[0;32m   1221\u001b[0m \u001b[43m    \u001b[49m\u001b[43mextract_links\u001b[49m\u001b[38;5;241;43m=\u001b[39;49m\u001b[43mextract_links\u001b[49m\u001b[43m,\u001b[49m\n\u001b[0;32m   1222\u001b[0m \u001b[43m\u001b[49m\u001b[43m)\u001b[49m\n",
      "File \u001b[1;32mC:\\ProgramData\\anaconda3\\lib\\site-packages\\pandas\\io\\html.py:1006\u001b[0m, in \u001b[0;36m_parse\u001b[1;34m(flavor, io, match, attrs, encoding, displayed_only, extract_links, **kwargs)\u001b[0m\n\u001b[0;32m   1004\u001b[0m \u001b[38;5;28;01melse\u001b[39;00m:\n\u001b[0;32m   1005\u001b[0m     \u001b[38;5;28;01massert\u001b[39;00m retained \u001b[38;5;129;01mis\u001b[39;00m \u001b[38;5;129;01mnot\u001b[39;00m \u001b[38;5;28;01mNone\u001b[39;00m  \u001b[38;5;66;03m# for mypy\u001b[39;00m\n\u001b[1;32m-> 1006\u001b[0m     \u001b[38;5;28;01mraise\u001b[39;00m retained\n\u001b[0;32m   1008\u001b[0m ret \u001b[38;5;241m=\u001b[39m []\n\u001b[0;32m   1009\u001b[0m \u001b[38;5;28;01mfor\u001b[39;00m table \u001b[38;5;129;01min\u001b[39;00m tables:\n",
      "File \u001b[1;32mC:\\ProgramData\\anaconda3\\lib\\site-packages\\pandas\\io\\html.py:986\u001b[0m, in \u001b[0;36m_parse\u001b[1;34m(flavor, io, match, attrs, encoding, displayed_only, extract_links, **kwargs)\u001b[0m\n\u001b[0;32m    983\u001b[0m p \u001b[38;5;241m=\u001b[39m parser(io, compiled_match, attrs, encoding, displayed_only, extract_links)\n\u001b[0;32m    985\u001b[0m \u001b[38;5;28;01mtry\u001b[39;00m:\n\u001b[1;32m--> 986\u001b[0m     tables \u001b[38;5;241m=\u001b[39m \u001b[43mp\u001b[49m\u001b[38;5;241;43m.\u001b[39;49m\u001b[43mparse_tables\u001b[49m\u001b[43m(\u001b[49m\u001b[43m)\u001b[49m\n\u001b[0;32m    987\u001b[0m \u001b[38;5;28;01mexcept\u001b[39;00m \u001b[38;5;167;01mValueError\u001b[39;00m \u001b[38;5;28;01mas\u001b[39;00m caught:\n\u001b[0;32m    988\u001b[0m     \u001b[38;5;66;03m# if `io` is an io-like object, check if it's seekable\u001b[39;00m\n\u001b[0;32m    989\u001b[0m     \u001b[38;5;66;03m# and try to rewind it before trying the next parser\u001b[39;00m\n\u001b[0;32m    990\u001b[0m     \u001b[38;5;28;01mif\u001b[39;00m \u001b[38;5;28mhasattr\u001b[39m(io, \u001b[38;5;124m\"\u001b[39m\u001b[38;5;124mseekable\u001b[39m\u001b[38;5;124m\"\u001b[39m) \u001b[38;5;129;01mand\u001b[39;00m io\u001b[38;5;241m.\u001b[39mseekable():\n",
      "File \u001b[1;32mC:\\ProgramData\\anaconda3\\lib\\site-packages\\pandas\\io\\html.py:262\u001b[0m, in \u001b[0;36m_HtmlFrameParser.parse_tables\u001b[1;34m(self)\u001b[0m\n\u001b[0;32m    254\u001b[0m \u001b[38;5;28;01mdef\u001b[39;00m \u001b[38;5;21mparse_tables\u001b[39m(\u001b[38;5;28mself\u001b[39m):\n\u001b[0;32m    255\u001b[0m     \u001b[38;5;124;03m\"\"\"\u001b[39;00m\n\u001b[0;32m    256\u001b[0m \u001b[38;5;124;03m    Parse and return all tables from the DOM.\u001b[39;00m\n\u001b[0;32m    257\u001b[0m \n\u001b[1;32m   (...)\u001b[0m\n\u001b[0;32m    260\u001b[0m \u001b[38;5;124;03m    list of parsed (header, body, footer) tuples from tables.\u001b[39;00m\n\u001b[0;32m    261\u001b[0m \u001b[38;5;124;03m    \"\"\"\u001b[39;00m\n\u001b[1;32m--> 262\u001b[0m     tables \u001b[38;5;241m=\u001b[39m \u001b[38;5;28;43mself\u001b[39;49m\u001b[38;5;241;43m.\u001b[39;49m\u001b[43m_parse_tables\u001b[49m\u001b[43m(\u001b[49m\u001b[38;5;28;43mself\u001b[39;49m\u001b[38;5;241;43m.\u001b[39;49m\u001b[43m_build_doc\u001b[49m\u001b[43m(\u001b[49m\u001b[43m)\u001b[49m\u001b[43m,\u001b[49m\u001b[43m \u001b[49m\u001b[38;5;28;43mself\u001b[39;49m\u001b[38;5;241;43m.\u001b[39;49m\u001b[43mmatch\u001b[49m\u001b[43m,\u001b[49m\u001b[43m \u001b[49m\u001b[38;5;28;43mself\u001b[39;49m\u001b[38;5;241;43m.\u001b[39;49m\u001b[43mattrs\u001b[49m\u001b[43m)\u001b[49m\n\u001b[0;32m    263\u001b[0m     \u001b[38;5;28;01mreturn\u001b[39;00m (\u001b[38;5;28mself\u001b[39m\u001b[38;5;241m.\u001b[39m_parse_thead_tbody_tfoot(table) \u001b[38;5;28;01mfor\u001b[39;00m table \u001b[38;5;129;01min\u001b[39;00m tables)\n",
      "File \u001b[1;32mC:\\ProgramData\\anaconda3\\lib\\site-packages\\pandas\\io\\html.py:618\u001b[0m, in \u001b[0;36m_BeautifulSoupHtml5LibFrameParser._parse_tables\u001b[1;34m(self, doc, match, attrs)\u001b[0m\n\u001b[0;32m    615\u001b[0m tables \u001b[38;5;241m=\u001b[39m doc\u001b[38;5;241m.\u001b[39mfind_all(element_name, attrs\u001b[38;5;241m=\u001b[39mattrs)\n\u001b[0;32m    617\u001b[0m \u001b[38;5;28;01mif\u001b[39;00m \u001b[38;5;129;01mnot\u001b[39;00m tables:\n\u001b[1;32m--> 618\u001b[0m     \u001b[38;5;28;01mraise\u001b[39;00m \u001b[38;5;167;01mValueError\u001b[39;00m(\u001b[38;5;124m\"\u001b[39m\u001b[38;5;124mNo tables found\u001b[39m\u001b[38;5;124m\"\u001b[39m)\n\u001b[0;32m    620\u001b[0m result \u001b[38;5;241m=\u001b[39m []\n\u001b[0;32m    621\u001b[0m unique_tables \u001b[38;5;241m=\u001b[39m \u001b[38;5;28mset\u001b[39m()\n",
      "\u001b[1;31mValueError\u001b[0m: No tables found"
     ]
    }
   ],
   "source": [
    "url = 'https://www.fdic.gov/bank/individual/failed/banklist.html'\n",
    "dfs = pd.read_html(url)"
   ]
  },
  {
   "cell_type": "code",
   "execution_count": null,
   "id": "0efa5da2",
   "metadata": {},
   "outputs": [],
   "source": []
  },
  {
   "cell_type": "code",
   "execution_count": 90,
   "id": "ae4476d4",
   "metadata": {},
   "outputs": [
    {
     "name": "stdout",
     "output_type": "stream",
     "text": [
      "<class 'list'>\n",
      "     Mobile country code                                    Country ISO 3166  \\\n",
      "0                    289                                 A Abkhazia    GE-AB   \n",
      "1                    412                                Afghanistan       AF   \n",
      "2                    276                                    Albania       AL   \n",
      "3                    603                                    Algeria       DZ   \n",
      "4                    544  American Samoa (United States of America)       AS   \n",
      "..                   ...                                        ...      ...   \n",
      "247                  452                                    Vietnam       VN   \n",
      "248                  543                        W Wallis and Futuna       WF   \n",
      "249                  421                                    Y Yemen       YE   \n",
      "250                  645                                   Z Zambia       ZM   \n",
      "251                  648                                   Zimbabwe       ZW   \n",
      "\n",
      "                                  Mobile network codes National MNC authority  \\\n",
      "0             List of mobile network codes in Abkhazia                    NaN   \n",
      "1          List of mobile network codes in Afghanistan                    NaN   \n",
      "2              List of mobile network codes in Albania                    NaN   \n",
      "3              List of mobile network codes in Algeria                    NaN   \n",
      "4       List of mobile network codes in American Samoa                    NaN   \n",
      "..                                                 ...                    ...   \n",
      "247        List of mobile network codes in the Vietnam                    NaN   \n",
      "248  List of mobile network codes in Wallis and Futuna                    NaN   \n",
      "249          List of mobile network codes in the Yemen                    NaN   \n",
      "250             List of mobile network codes in Zambia                    NaN   \n",
      "251           List of mobile network codes in Zimbabwe                    NaN   \n",
      "\n",
      "                      Remarks  \n",
      "0    MCC is not listed by ITU  \n",
      "1                         NaN  \n",
      "2                         NaN  \n",
      "3                         NaN  \n",
      "4                         NaN  \n",
      "..                        ...  \n",
      "247                       NaN  \n",
      "248                       NaN  \n",
      "249                       NaN  \n",
      "250                       NaN  \n",
      "251                       NaN  \n",
      "\n",
      "[252 rows x 6 columns]\n"
     ]
    }
   ],
   "source": [
    "url = \"https://en.wikipedia.org/wiki/Mobile_country_code\"\n",
    "df = pd.read_html(url, match='Country',header=0)\n",
    "print(type(df))\n",
    "print(df[0])"
   ]
  },
  {
   "cell_type": "code",
   "execution_count": 92,
   "id": "f28015e8",
   "metadata": {},
   "outputs": [
    {
     "name": "stdout",
     "output_type": "stream",
     "text": [
      "   Unnamed: 0   a   b   c   d\n",
      "0           0   0   1   2   3\n",
      "1           1   4   5   6   7\n",
      "2           2   8   9  10  11\n",
      "3           3  12  13  14  15\n"
     ]
    }
   ],
   "source": [
    "# READ EXCEL FILE\n",
    "df_x = pd.read_excel('Excel_Sample.xlsx')\n",
    "print(df_x.head())"
   ]
  },
  {
   "cell_type": "code",
   "execution_count": 93,
   "id": "19a334a5",
   "metadata": {},
   "outputs": [],
   "source": [
    "df_x.to_pickle('df_x')"
   ]
  },
  {
   "cell_type": "code",
   "execution_count": 94,
   "id": "adba80ff",
   "metadata": {},
   "outputs": [],
   "source": [
    "df_x_pickle = pd.read_pickle('df_x')"
   ]
  },
  {
   "cell_type": "code",
   "execution_count": 95,
   "id": "93eef5bd",
   "metadata": {},
   "outputs": [
    {
     "name": "stdout",
     "output_type": "stream",
     "text": [
      "   Unnamed: 0   a   b   c   d\n",
      "0           0   0   1   2   3\n",
      "1           1   4   5   6   7\n",
      "2           2   8   9  10  11\n",
      "3           3  12  13  14  15\n"
     ]
    }
   ],
   "source": [
    "print(df_x_pickle)"
   ]
  },
  {
   "cell_type": "code",
   "execution_count": null,
   "id": "b528ef03",
   "metadata": {},
   "outputs": [],
   "source": []
  },
  {
   "cell_type": "code",
   "execution_count": null,
   "id": "aa689bd5",
   "metadata": {},
   "outputs": [],
   "source": []
  },
  {
   "cell_type": "code",
   "execution_count": null,
   "id": "c59cbb8b",
   "metadata": {},
   "outputs": [],
   "source": []
  }
 ],
 "metadata": {
  "kernelspec": {
   "display_name": "Python 3 (ipykernel)",
   "language": "python",
   "name": "python3"
  },
  "language_info": {
   "codemirror_mode": {
    "name": "ipython",
    "version": 3
   },
   "file_extension": ".py",
   "mimetype": "text/x-python",
   "name": "python",
   "nbconvert_exporter": "python",
   "pygments_lexer": "ipython3",
   "version": "3.10.9"
  }
 },
 "nbformat": 4,
 "nbformat_minor": 5
}
